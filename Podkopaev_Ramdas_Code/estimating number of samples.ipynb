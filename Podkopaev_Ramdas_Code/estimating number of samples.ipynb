{
 "cells": [
  {
   "cell_type": "markdown",
   "metadata": {},
   "source": [
    "# Libraries"
   ]
  },
  {
   "cell_type": "code",
   "execution_count": 1,
   "metadata": {
    "ExecuteTime": {
     "end_time": "2021-11-18T18:58:43.218029Z",
     "start_time": "2021-11-18T18:58:41.195159Z"
    }
   },
   "outputs": [],
   "source": [
    "import numpy as np\n",
    "import matplotlib.pyplot as plt\n",
    "import seaborn as sns\n",
    "import matplotlib\n",
    "from sklearn.metrics import zero_one_loss\n",
    "\n",
    "%matplotlib inline"
   ]
  },
  {
   "cell_type": "code",
   "execution_count": 2,
   "metadata": {
    "ExecuteTime": {
     "end_time": "2021-11-18T18:58:43.228940Z",
     "start_time": "2021-11-18T18:58:43.219636Z"
    }
   },
   "outputs": [],
   "source": [
    "from utils.data_gen import compute_bayes_risk_binary, compute_bayes_risk_binary_label_shift,\\\n",
    "    generate_2d_example\n",
    "\n",
    "from utils.concentrations import hoeffding_ci_lower_limit,\\\n",
    "    hoeffding_ci_upper_limit\n",
    "from utils.concentrations import pm_bernstein_ci_upper_limit,\\\n",
    "    pm_bernstein_ci_lower_limit\n",
    "\n",
    "from utils.concentrations import pm_bernstein_lower_limit, pm_bernstein_upper_limit\n",
    "from utils.concentrations import pm_hoeffding_upper_limit, pm_hoeffding_lower_limit\n",
    "\n",
    "from utils.data_gen import LDA_predictor\n",
    "\n",
    "from utils.concentrations import betting_ci_lower_limit, betting_ci_upper_limit\n",
    "\n",
    "from utils.tests import Drop_tester,misclas_losses"
   ]
  },
  {
   "cell_type": "code",
   "execution_count": 3,
   "metadata": {
    "ExecuteTime": {
     "end_time": "2021-11-18T18:58:43.234800Z",
     "start_time": "2021-11-18T18:58:43.230830Z"
    }
   },
   "outputs": [],
   "source": [
    "sns.set(\n",
    "    style=\"whitegrid\",\n",
    "    font_scale=1.4,\n",
    "    rc={\n",
    "        \"lines.linewidth\": 2,\n",
    "        #             \"axes.facecolor\": \".9\",\n",
    "        'figure.figsize': (12, 6)\n",
    "    })\n",
    "sns.set_palette('Set2')\n",
    "matplotlib.rcParams['text.usetex'] = True"
   ]
  },
  {
   "cell_type": "code",
   "execution_count": 4,
   "metadata": {
    "ExecuteTime": {
     "end_time": "2021-11-18T18:58:43.528296Z",
     "start_time": "2021-11-18T18:58:43.524401Z"
    }
   },
   "outputs": [],
   "source": [
    "legend_dict = ['$\\{0\\}$', '$\\{1\\}$']\n",
    "clr1 = np.array([193, 142, 206]) / 256\n",
    "clr2 = np.array([125, 225, 125]) / 256\n",
    "colors = [clr1, clr2]\n",
    "\n",
    "color1 = np.array([244, 236, 118]) / 256\n",
    "color2 = np.array([110, 200, 235]) / 256\n",
    "color3 = np.array([233, 113, 183]) / 256"
   ]
  },
  {
   "cell_type": "code",
   "execution_count": 5,
   "metadata": {
    "ExecuteTime": {
     "end_time": "2021-11-18T18:58:44.979724Z",
     "start_time": "2021-11-18T18:58:44.939533Z"
    }
   },
   "outputs": [],
   "source": [
    "%load_ext autoreload\n",
    "%autoreload 2"
   ]
  },
  {
   "cell_type": "markdown",
   "metadata": {},
   "source": [
    "# Null vs alternative"
   ]
  },
  {
   "cell_type": "code",
   "execution_count": 6,
   "metadata": {
    "ExecuteTime": {
     "end_time": "2021-11-18T18:58:45.476389Z",
     "start_time": "2021-11-18T18:58:45.443586Z"
    }
   },
   "outputs": [],
   "source": [
    "mu_1 = np.array([1,0])\n",
    "mu_0 = np.array([-1,0])\n",
    "target_prob_class_1 = np.linspace(0.1,0.9,100)\n",
    "\n",
    "eps_tol = 0.05"
   ]
  },
  {
   "cell_type": "code",
   "execution_count": 7,
   "metadata": {
    "ExecuteTime": {
     "end_time": "2021-11-18T18:58:45.672324Z",
     "start_time": "2021-11-18T18:58:45.639630Z"
    }
   },
   "outputs": [],
   "source": [
    "risk_source = compute_bayes_risk_binary_label_shift(0.25, 0.25, mu_1,\n",
    "                                                    mu_0)[0][0]"
   ]
  },
  {
   "cell_type": "code",
   "execution_count": 8,
   "metadata": {
    "ExecuteTime": {
     "end_time": "2021-11-18T18:58:45.845745Z",
     "start_time": "2021-11-18T18:58:45.810872Z"
    }
   },
   "outputs": [
    {
     "data": {
      "text/plain": [
       "0.1270168302054692"
      ]
     },
     "execution_count": 8,
     "metadata": {},
     "output_type": "execute_result"
    }
   ],
   "source": [
    "risk_source"
   ]
  },
  {
   "cell_type": "code",
   "execution_count": 9,
   "metadata": {
    "ExecuteTime": {
     "end_time": "2021-11-18T18:58:46.015698Z",
     "start_time": "2021-11-18T18:58:45.983052Z"
    }
   },
   "outputs": [],
   "source": [
    "target_risks = list()"
   ]
  },
  {
   "cell_type": "code",
   "execution_count": 10,
   "metadata": {
    "ExecuteTime": {
     "end_time": "2021-11-18T18:58:46.493606Z",
     "start_time": "2021-11-18T18:58:46.426867Z"
    }
   },
   "outputs": [],
   "source": [
    "for cur_target_prob in target_prob_class_1:\n",
    "    target_risks += [\n",
    "        compute_bayes_risk_binary_label_shift(0.25, cur_target_prob, mu_1,\n",
    "                                              mu_0)[0][0]\n",
    "    ]\n",
    "target_risks = np.array(target_risks)"
   ]
  },
  {
   "cell_type": "code",
   "execution_count": 11,
   "metadata": {
    "ExecuteTime": {
     "end_time": "2021-11-18T18:58:46.619321Z",
     "start_time": "2021-11-18T18:58:46.587455Z"
    }
   },
   "outputs": [],
   "source": [
    "nulls = (target_risks-risk_source<=eps_tol)"
   ]
  },
  {
   "cell_type": "code",
   "execution_count": 12,
   "metadata": {
    "ExecuteTime": {
     "end_time": "2021-11-18T18:58:46.782736Z",
     "start_time": "2021-11-18T18:58:46.749965Z"
    }
   },
   "outputs": [
    {
     "data": {
      "text/plain": [
       "0.43939393939393945"
      ]
     },
     "execution_count": 12,
     "metadata": {},
     "output_type": "execute_result"
    }
   ],
   "source": [
    "target_prob_class_1[np.argmin(nulls == True)]"
   ]
  },
  {
   "cell_type": "code",
   "execution_count": 14,
   "metadata": {
    "ExecuteTime": {
     "end_time": "2021-11-18T18:59:12.185079Z",
     "start_time": "2021-11-18T18:59:10.957153Z"
    }
   },
   "outputs": [
    {
     "data": {
      "image/png": "[encoded data removed]",
      "text/plain": [
       "<Figure size 864x432 with 1 Axes>"
      ]
     },
     "metadata": {},
     "output_type": "display_data"
    }
   ],
   "source": [
    "plt.scatter(target_prob_class_1[nulls],\n",
    "            target_risks[nulls],\n",
    "            label='Target risk, nulls')\n",
    "plt.scatter(target_prob_class_1[~nulls],\n",
    "            target_risks[~nulls],\n",
    "            label='Target risk, alternatives')\n",
    "plt.axhline(y=risk_source, linestyle='dashed', c='black', label='Source risk')\n",
    "plt.axvline(x=target_prob_class_1[np.argmin(nulls == True)], c='red')\n",
    "plt.legend(loc=2, markerscale=1.5, prop={'size': 20})\n",
    "plt.ylabel('Misclassification risk', fontsize=25)\n",
    "plt.xlabel('Class 1 probability', fontsize=25)\n",
    "# plt.show()\n",
    "plt.savefig('img/nulls_vs_alternatives.pdf', bbox_inches='tight')"
   ]
  },
  {
   "cell_type": "markdown",
   "metadata": {},
   "source": [
    "# Estimate number of samples to reject"
   ]
  },
  {
   "cell_type": "code",
   "execution_count": 15,
   "metadata": {
    "ExecuteTime": {
     "end_time": "2021-11-18T18:59:14.436735Z",
     "start_time": "2021-11-18T18:59:14.400781Z"
    }
   },
   "outputs": [],
   "source": [
    "num_of_repeats = 250\n",
    "num_of_batches_to_sample = 40\n",
    "\n",
    "size_of_batch = 50\n",
    "size_source_sample = 1000\n",
    "\n",
    "max_num_of_target_samples = num_of_batches_to_sample * size_of_batch"
   ]
  },
  {
   "cell_type": "code",
   "execution_count": 16,
   "metadata": {
    "ExecuteTime": {
     "end_time": "2021-11-18T18:59:14.580231Z",
     "start_time": "2021-11-18T18:59:14.546235Z"
    }
   },
   "outputs": [
    {
     "data": {
      "text/plain": [
       "0.05"
      ]
     },
     "execution_count": 16,
     "metadata": {},
     "output_type": "execute_result"
    }
   ],
   "source": [
    "eps_tol"
   ]
  },
  {
   "cell_type": "code",
   "execution_count": 17,
   "metadata": {
    "ExecuteTime": {
     "end_time": "2021-11-18T18:59:15.975810Z",
     "start_time": "2021-11-18T18:59:15.942856Z"
    }
   },
   "outputs": [
    {
     "data": {
      "text/plain": [
       "2000"
      ]
     },
     "execution_count": 17,
     "metadata": {},
     "output_type": "execute_result"
    }
   ],
   "source": [
    "max_num_of_target_samples"
   ]
  },
  {
   "cell_type": "code",
   "execution_count": 18,
   "metadata": {
    "ExecuteTime": {
     "end_time": "2021-11-18T18:59:16.155784Z",
     "start_time": "2021-11-18T18:59:16.123259Z"
    }
   },
   "outputs": [],
   "source": [
    "target_cand_probs = np.linspace(0.1,0.9,20)"
   ]
  },
  {
   "cell_type": "code",
   "execution_count": 19,
   "metadata": {
    "ExecuteTime": {
     "end_time": "2021-11-18T18:59:17.284939Z",
     "start_time": "2021-11-18T18:59:17.251935Z"
    }
   },
   "outputs": [],
   "source": [
    "mu_1 = np.array([1, 0])\n",
    "mu_0 = np.array([-1, 0])\n",
    "prob_class_1 = 0.25\n",
    "prob_class_0 = 1 - prob_class_1\n",
    "cov = np.eye(2)"
   ]
  },
  {
   "cell_type": "code",
   "execution_count": 20,
   "metadata": {
    "ExecuteTime": {
     "end_time": "2021-11-18T18:59:17.501960Z",
     "start_time": "2021-11-18T18:59:17.469909Z"
    }
   },
   "outputs": [],
   "source": [
    "clf = LDA_predictor()\n",
    "\n",
    "clf.mean_class_0 = mu_0\n",
    "clf.mean_class_1 = mu_1\n",
    "clf.class_0_prior = prob_class_0\n",
    "clf.class_1_prior = prob_class_1"
   ]
  },
  {
   "cell_type": "code",
   "execution_count": 21,
   "metadata": {
    "ExecuteTime": {
     "end_time": "2021-11-18T18:59:18.338217Z",
     "start_time": "2021-11-18T18:59:18.304639Z"
    }
   },
   "outputs": [],
   "source": [
    "tester_hoeffding = Drop_tester()\n",
    "tester_bernstein = Drop_tester()\n",
    "tester_betting_bernstein = Drop_tester()\n",
    "tester_betting = Drop_tester()\n",
    "\n",
    "tester_hoeffding.eps_tol = eps_tol\n",
    "tester_hoeffding.target_conc_type = 'pm_hoeffding'\n",
    "tester_hoeffding.source_conc_type = 'hoeffding'\n",
    "\n",
    "tester_bernstein.eps_tol = eps_tol\n",
    "tester_bernstein.source_conc_type = 'pm_bernstein'\n",
    "tester_bernstein.target_conc_type = 'pm_bernstein'\n",
    "\n",
    "tester_betting.eps_tol = eps_tol\n",
    "tester_betting.source_conc_type = 'betting'\n",
    "tester_betting.target_conc_type = 'betting'"
   ]
  },
  {
   "cell_type": "code",
   "execution_count": 22,
   "metadata": {
    "ExecuteTime": {
     "end_time": "2021-11-18T18:59:19.814139Z",
     "start_time": "2021-11-18T18:59:19.781103Z"
    }
   },
   "outputs": [],
   "source": [
    "bern_num_rejects = list()\n",
    "hoef_num_rejects = list()\n",
    "bet_num_rejects = list()\n",
    "\n",
    "bern_num_samples_to_reject = list()\n",
    "hoef_num_samples_to_reject = list()\n",
    "bet_num_samples_to_reject = list()"
   ]
  },
  {
   "cell_type": "code",
   "execution_count": 23,
   "metadata": {
    "ExecuteTime": {
     "end_time": "2021-11-18T23:34:27.332805Z",
     "start_time": "2021-11-18T22:19:41.607246Z"
    }
   },
   "outputs": [],
   "source": [
    "for cur_ind, cur_target_prob in enumerate(target_cand_probs):\n",
    "\n",
    "    bern_num_samples_to_reject += [[]]\n",
    "    hoef_num_samples_to_reject += [[]]\n",
    "    bet_num_samples_to_reject += [[]]\n",
    "\n",
    "    bern_num_rejects += [0]\n",
    "    hoef_num_rejects += [0]\n",
    "    bet_num_rejects += [0]\n",
    "\n",
    "    for cur_sim in range(num_of_repeats):\n",
    "\n",
    "        X_val_source, y_val_source = generate_2d_example(\n",
    "            0.25, mu_0, mu_1, size_source_sample)\n",
    "\n",
    "        y_pred_val = clf.predict(X_val_source)\n",
    "        ind_loss_source = misclas_losses(y_pred_val, y_val_source)\n",
    "\n",
    "        tester_hoeffding.estimate_risk_source(ind_loss_source)\n",
    "        tester_bernstein.estimate_risk_source(ind_loss_source)\n",
    "        tester_betting.estimate_risk_source(ind_loss_source)\n",
    "\n",
    "        X_new_target, y_new_target = generate_2d_example(\n",
    "            cur_target_prob, mu_0, mu_1,\n",
    "            size_of_batch * num_of_batches_to_sample)\n",
    "\n",
    "        y_pred_target = clf.predict(X_new_target)\n",
    "        ind_loss_target = misclas_losses(y_pred_target, y_new_target)\n",
    "\n",
    "        for cur_batch in range(num_of_batches_to_sample):\n",
    "            cur_losses = ind_loss_target[0:(cur_batch + 1) * size_of_batch]\n",
    "            tester_hoeffding.estimate_risk_target(cur_losses)\n",
    "            \n",
    "            if tester_hoeffding.test_for_drop():\n",
    "                hoef_num_rejects[cur_ind] += 1\n",
    "                hoef_num_samples_to_reject[cur_ind] += [tester_hoeffding.target_num_of_samples_used]\n",
    "                break\n",
    "             \n",
    "        for cur_batch in range(num_of_batches_to_sample):\n",
    "            cur_losses = ind_loss_target[0:(cur_batch + 1) * size_of_batch]\n",
    "            tester_bernstein.estimate_risk_target(cur_losses)\n",
    "            \n",
    "            if tester_bernstein.test_for_drop():\n",
    "                bern_num_rejects[cur_ind] += 1\n",
    "                bern_num_samples_to_reject[cur_ind] += [tester_bernstein.target_num_of_samples_used]\n",
    "                break\n",
    "                \n",
    "        for cur_batch in range(num_of_batches_to_sample):\n",
    "            cur_losses = ind_loss_target[0:(cur_batch + 1) * size_of_batch]\n",
    "            tester_betting.estimate_risk_target(cur_losses)\n",
    "            \n",
    "            if tester_betting.test_for_drop():\n",
    "                bet_num_rejects[cur_ind] += 1\n",
    "                bet_num_samples_to_reject[cur_ind] += [tester_betting.target_num_of_samples_used]\n",
    "                break"
   ]
  },
  {
   "cell_type": "code",
   "execution_count": 24,
   "metadata": {
    "ExecuteTime": {
     "end_time": "2021-11-18T23:34:27.454376Z",
     "start_time": "2021-11-18T23:34:27.334497Z"
    }
   },
   "outputs": [],
   "source": [
    "hoef_fraction_rejected = [num_rej / num_of_repeats for num_rej in hoef_num_rejects]\n",
    "bern_fraction_rejected = [num_rej / num_of_repeats for num_rej in bern_num_rejects]\n",
    "bet_fraction_rejected = [num_rej / num_of_repeats for num_rej in bet_num_rejects]"
   ]
  },
  {
   "cell_type": "code",
   "execution_count": 109,
   "metadata": {
    "ExecuteTime": {
     "end_time": "2021-11-19T02:12:36.531563Z",
     "start_time": "2021-11-19T02:12:36.055978Z"
    }
   },
   "outputs": [
    {
     "data": {
      "image/png": "[encoded data removed]",
      "text/plain": [
       "<Figure size 864x432 with 1 Axes>"
      ]
     },
     "metadata": {},
     "output_type": "display_data"
    }
   ],
   "source": [
    "plt.plot(target_cand_probs,\n",
    "         hoef_fraction_rejected,\n",
    "         marker='*',\n",
    "         label='Hoeffding\\'s CB',\n",
    "         color='indianred')\n",
    "plt.plot(target_cand_probs,\n",
    "         bern_fraction_rejected,\n",
    "         marker='*',\n",
    "         label='PM-EB CB',\n",
    "         color='steelblue')\n",
    "plt.plot(target_cand_probs,\n",
    "         bet_fraction_rejected,\n",
    "         marker='*',\n",
    "         label='Betting CB',\n",
    "         color='mediumaquamarine')\n",
    "plt.axvline(x=target_prob_class_1[np.argmin(nulls == True)],\n",
    "            c='goldenrod',\n",
    "            linestyle='dashed')\n",
    "plt.text(0.235, 0.9, 'Benign settings', color='black',fontsize= 22, \n",
    "        bbox=dict(facecolor='oldlace', edgecolor='black', boxstyle='round,pad=0.5'))\n",
    "plt.text(0.473, 0.9, 'Harmful settings', color='black',fontsize= 22, \n",
    "        bbox=dict(facecolor='oldlace', edgecolor='black', boxstyle='round,pad=0.5'))\n",
    "\n",
    "plt.arrow(0.38, 0.75, -0.05, 0, color= 'gray',width = 0.015)\n",
    "plt.arrow(0.51, 0.75, 0.05, 0, color= 'gray',width = 0.015)\n",
    "\n",
    "legend = plt.legend(loc=4, markerscale=1.5, prop={'size': 20})\n",
    "legend.get_title().set_fontsize('22')\n",
    "plt.ylabel('Proportion of rejections', fontsize=23)\n",
    "plt.xlabel('Marginal probability of class 1 on the target, $\\pi_1^T$', fontsize=23)\n",
    "plt.savefig('img/prop_rej_sim_new_arrows.pdf', bbox_inches='tight')"
   ]
  },
  {
   "cell_type": "markdown",
   "metadata": {},
   "source": [
    "## number of samples"
   ]
  },
  {
   "cell_type": "code",
   "execution_count": null,
   "metadata": {
    "ExecuteTime": {
     "end_time": "2021-11-18T23:45:47.589898Z",
     "start_time": "2021-11-18T23:45:47.422Z"
    }
   },
   "outputs": [],
   "source": [
    "hoef_lengths = np.array([len(cur_prob) for cur_prob in hoef_num_samples_to_reject])\n",
    "bern_lengths = np.array([len(cur_prob) for cur_prob in bern_num_samples_to_reject])\n",
    "bet_lengths = np.array([len(cur_prob) for cur_prob in bet_num_samples_to_reject])"
   ]
  },
  {
   "cell_type": "code",
   "execution_count": 87,
   "metadata": {
    "ExecuteTime": {
     "end_time": "2021-09-27T19:20:59.792894Z",
     "start_time": "2021-09-27T19:20:59.761227Z"
    }
   },
   "outputs": [],
   "source": [
    "min_num_rej = 5"
   ]
  },
  {
   "cell_type": "code",
   "execution_count": 88,
   "metadata": {
    "ExecuteTime": {
     "end_time": "2021-09-27T19:20:59.827411Z",
     "start_time": "2021-09-27T19:20:59.794441Z"
    }
   },
   "outputs": [],
   "source": [
    "hoef_len_ind = (np.array(hoef_lengths) >= min_num_rej).astype('bool')\n",
    "bern_len_ind = (np.array(bern_lengths) >= min_num_rej).astype('bool')\n",
    "bet_len_ind = (np.array(bet_lengths) >= min_num_rej).astype('bool')"
   ]
  },
  {
   "cell_type": "code",
   "execution_count": 89,
   "metadata": {
    "ExecuteTime": {
     "end_time": "2021-09-27T19:20:59.867593Z",
     "start_time": "2021-09-27T19:20:59.830753Z"
    }
   },
   "outputs": [],
   "source": [
    "hoef_avg = np.array([\n",
    "    np.mean(cur_prob)\n",
    "    for cur_ind, cur_prob in enumerate(hoef_num_samples_to_reject)\n",
    "    if hoef_lengths[cur_ind] >= min_num_rej\n",
    "])\n",
    "\n",
    "bern_avg = np.array([\n",
    "    np.mean(cur_prob)\n",
    "    for cur_ind, cur_prob in enumerate(bern_num_samples_to_reject)\n",
    "    if bern_lengths[cur_ind] >= min_num_rej\n",
    "])\n",
    "\n",
    "bet_avg = np.array([\n",
    "    np.mean(cur_prob)\n",
    "    for cur_ind, cur_prob in enumerate(bet_num_samples_to_reject)\n",
    "    if bet_lengths[cur_ind] >= min_num_rej\n",
    "])\n",
    "\n",
    "hoef_stds = np.array([\n",
    "    np.std(cur_prob)\n",
    "    for cur_ind, cur_prob in enumerate(hoef_num_samples_to_reject)\n",
    "    if hoef_lengths[cur_ind] >= min_num_rej\n",
    "])\n",
    "\n",
    "bern_stds = np.array([\n",
    "    np.std(cur_prob)\n",
    "    for cur_ind, cur_prob in enumerate(bern_num_samples_to_reject)\n",
    "    if bern_lengths[cur_ind] >= min_num_rej\n",
    "])\n",
    "\n",
    "bet_stds = np.array([\n",
    "    np.std(cur_prob)\n",
    "    for cur_ind, cur_prob in enumerate(bet_num_samples_to_reject)\n",
    "    if bet_lengths[cur_ind] >= min_num_rej\n",
    "])"
   ]
  },
  {
   "cell_type": "code",
   "execution_count": 164,
   "metadata": {
    "ExecuteTime": {
     "end_time": "2021-09-28T22:54:20.817984Z",
     "start_time": "2021-09-28T22:54:20.424657Z"
    }
   },
   "outputs": [
    {
     "data": {
      "image/png": "[encoded data removed]",
      "text/plain": [
       "<Figure size 864x432 with 1 Axes>"
      ]
     },
     "metadata": {},
     "output_type": "display_data"
    }
   ],
   "source": [
    "plt.plot(target_cand_probs[hoef_len_ind],\n",
    "         hoef_avg,\n",
    "         marker='*',\n",
    "         label='Hoeffding\\'s CB',\n",
    "         color='indianred')\n",
    "\n",
    "plt.fill_between(\n",
    "    target_cand_probs[hoef_len_ind],\n",
    "    y1=hoef_avg - 2 * hoef_stds / np.sqrt(hoef_lengths[hoef_len_ind]),\n",
    "    y2=hoef_avg + 2 * hoef_stds / np.sqrt(hoef_lengths[hoef_len_ind]),\n",
    "    alpha=0.5,\n",
    "    color='indianred')\n",
    "\n",
    "plt.plot(target_cand_probs[bern_len_ind],\n",
    "         bern_avg,\n",
    "         marker='*',\n",
    "         label='PM-EB CB',\n",
    "         color='steelblue')\n",
    "\n",
    "plt.fill_between(\n",
    "    target_cand_probs[bern_len_ind],\n",
    "    y1=bern_avg - 2 * bern_stds / np.sqrt(bern_lengths[bern_len_ind]),\n",
    "    y2=bern_avg + 2 * bern_stds / np.sqrt(bern_lengths[bern_len_ind]),\n",
    "    alpha=0.5,\n",
    "    color='steelblue')\n",
    "\n",
    "plt.plot(target_cand_probs[bet_len_ind],\n",
    "         bet_avg,\n",
    "         marker='*',\n",
    "         label='Betting CB',\n",
    "         color='mediumaquamarine')\n",
    "\n",
    "plt.fill_between(target_cand_probs[bet_len_ind],\n",
    "                 y1=bet_avg - 2 * bet_stds / np.sqrt(bet_lengths[bet_len_ind]),\n",
    "                 y2=bet_avg + 2 * bet_stds / np.sqrt(bet_lengths[bet_len_ind]),\n",
    "                 alpha=0.5,\n",
    "                 color='mediumaquamarine')\n",
    "\n",
    "plt.legend(loc=2, markerscale=1.5, prop={'size': 20})\n",
    "plt.ylabel('Sample size to reject the null', fontsize=23)\n",
    "plt.xlabel('Marginal probability of class 1 on the target, $\\pi_1^T$', fontsize=23)\n",
    "plt.axvline(x=target_prob_class_1[np.argmin(nulls == True)],\n",
    "            c='goldenrod',\n",
    "            linestyle='dashed')\n",
    "plt.savefig('img/number_of_samples.pdf', bbox_inches='tight')"
   ]
  },
  {
   "cell_type": "code",
   "execution_count": 100,
   "metadata": {
    "ExecuteTime": {
     "end_time": "2021-09-27T20:16:36.530944Z",
     "start_time": "2021-09-27T20:16:36.502684Z"
    }
   },
   "outputs": [
    {
     "data": {
      "text/plain": [
       "[3, 2, 1, 0]"
      ]
     },
     "execution_count": 100,
     "metadata": {},
     "output_type": "execute_result"
    }
   ],
   "source": [
    "np.arange(4).tolist()[::-1]"
   ]
  },
  {
   "cell_type": "code",
   "execution_count": 160,
   "metadata": {
    "ExecuteTime": {
     "end_time": "2021-09-27T21:06:19.108585Z",
     "start_time": "2021-09-27T21:06:19.068153Z"
    }
   },
   "outputs": [],
   "source": [
    "def spiral(n):\n",
    "    \"\"\"\n",
    "    Function that takes an input and prints out an array filled with numbers in a spiral\n",
    "    \"\"\"\n",
    "    matrix = np.zeros([n, n])\n",
    "    idx_x = 0\n",
    "    idx_y = 0\n",
    "    min_x = 0\n",
    "    max_x = n - 1\n",
    "    min_y = 0\n",
    "    max_y = n - 1\n",
    "    cand_nums = np.arange(1,n**2+2).astype('int').tolist()[::-1]\n",
    "\n",
    "    num_to_enter = n**2\n",
    "    nums_entered = 0\n",
    "    \n",
    "    while nums_entered< num_to_enter:\n",
    "        \n",
    "        while idx_x == min_x and idx_y < max_y:\n",
    "            #going right\n",
    "            cur_num = cand_nums.pop()\n",
    "            matrix[idx_x, idx_y] = cur_num\n",
    "            nums_entered+=1\n",
    "            idx_y += 1\n",
    "        \n",
    "            if nums_entered == num_to_enter:\n",
    "                return matrix\n",
    "        \n",
    "        if idx_x == min_x and idx_y == max_y:\n",
    "            #turn\n",
    "            cur_num = cand_nums.pop()\n",
    "            matrix[idx_x, idx_y] = cur_num\n",
    "            idx_x += 1\n",
    "            min_x += 1\n",
    "            nums_entered+=1\n",
    "            if nums_entered == num_to_enter:\n",
    "                return matrix\n",
    "\n",
    "            \n",
    "        while idx_x < max_x and idx_y == max_y:\n",
    "            #going down\n",
    "            cur_num = cand_nums.pop()\n",
    "            matrix[idx_x, idx_y] = cur_num\n",
    "            idx_x += 1\n",
    "            nums_entered+=1\n",
    "            if nums_entered == num_to_enter:\n",
    "                return matrix\n",
    "    \n",
    "        if idx_x == max_x and idx_y == max_y:\n",
    "            #turn\n",
    "            cur_num = cand_nums.pop()\n",
    "            matrix[idx_x, idx_y] = cur_num\n",
    "            idx_y -= 1\n",
    "            max_y -= 1\n",
    "            nums_entered+=1\n",
    "            if nums_entered == num_to_enter:\n",
    "                return matrix\n",
    "    \n",
    "        while idx_x == max_x and idx_y > min_y:\n",
    "            #going left\n",
    "            cur_num = cand_nums.pop()\n",
    "            matrix[idx_x, idx_y] = cur_num\n",
    "            idx_y -= 1\n",
    "            nums_entered+=1\n",
    "            if nums_entered == num_to_enter:\n",
    "                return matrix\n",
    "            \n",
    "        if idx_x == max_x and idx_y == min_y:\n",
    "            #turn\n",
    "            cur_num = cand_nums.pop()\n",
    "            matrix[idx_x, idx_y] = cur_num\n",
    "            idx_x -= 1\n",
    "            max_x -=1\n",
    "            nums_entered+=1\n",
    "            if nums_entered == num_to_enter:\n",
    "                return matrix\n",
    "        \n",
    "        while idx_x > min_x and idx_y == min_y:\n",
    "            #going up\n",
    "            cur_num = cand_nums.pop()\n",
    "            matrix[idx_x, idx_y] = cur_num\n",
    "            idx_x -= 1\n",
    "            nums_entered+=1\n",
    "\n",
    "            if nums_entered == num_to_enter:\n",
    "                return matrix\n",
    "\n",
    "        min_y+=1\n",
    "            \n",
    "    return matrix"
   ]
  },
  {
   "cell_type": "code",
   "execution_count": 162,
   "metadata": {
    "ExecuteTime": {
     "end_time": "2021-09-27T21:06:27.368002Z",
     "start_time": "2021-09-27T21:06:27.332563Z"
    }
   },
   "outputs": [
    {
     "data": {
      "text/plain": [
       "array([[ 1.,  2.,  3.,  4.,  5.,  6.],\n",
       "       [20., 21., 22., 23., 24.,  7.],\n",
       "       [19., 32., 33., 34., 25.,  8.],\n",
       "       [18., 31., 36., 35., 26.,  9.],\n",
       "       [17., 30., 29., 28., 27., 10.],\n",
       "       [16., 15., 14., 13., 12., 11.]])"
      ]
     },
     "execution_count": 162,
     "metadata": {},
     "output_type": "execute_result"
    }
   ],
   "source": [
    "spiral(6)"
   ]
  },
  {
   "cell_type": "code",
   "execution_count": 159,
   "metadata": {
    "ExecuteTime": {
     "end_time": "2021-09-27T21:04:06.499090Z",
     "start_time": "2021-09-27T21:04:06.464046Z"
    }
   },
   "outputs": [
    {
     "data": {
      "text/plain": [
       "array([ 0,  1,  2,  3,  4,  5,  6,  7,  8,  9, 10, 11, 12, 13, 14, 15, 16,\n",
       "       17, 18, 19, 20, 21, 22, 23, 24])"
      ]
     },
     "execution_count": 159,
     "metadata": {},
     "output_type": "execute_result"
    }
   ],
   "source": [
    "np.arange(5**2)"
   ]
  },
  {
   "cell_type": "code",
   "execution_count": 104,
   "metadata": {
    "ExecuteTime": {
     "end_time": "2021-09-27T20:17:23.567860Z",
     "start_time": "2021-09-27T20:17:23.531862Z"
    }
   },
   "outputs": [
    {
     "data": {
      "text/plain": [
       "array([[0.04495419, 0.01365429, 0.07613206],\n",
       "       [0.37960429, 0.16858457, 0.143014  ],\n",
       "       [0.3185095 , 0.6476841 , 0.35369454]])"
      ]
     },
     "execution_count": 104,
     "metadata": {},
     "output_type": "execute_result"
    }
   ],
   "source": [
    "a"
   ]
  },
  {
   "cell_type": "code",
   "execution_count": 106,
   "metadata": {
    "ExecuteTime": {
     "end_time": "2021-09-27T20:17:35.141664Z",
     "start_time": "2021-09-27T20:17:35.107010Z"
    }
   },
   "outputs": [
    {
     "data": {
      "text/plain": [
       "0.14301399965925898"
      ]
     },
     "execution_count": 106,
     "metadata": {},
     "output_type": "execute_result"
    }
   ],
   "source": [
    "a[1,2]"
   ]
  },
  {
   "cell_type": "code",
   "execution_count": null,
   "metadata": {},
   "outputs": [],
   "source": []
  }
 ],
 "metadata": {
  "kernelspec": {
   "display_name": "Python 3",
   "language": "python",
   "name": "python3"
  },
  "language_info": {
   "codemirror_mode": {
    "name": "ipython",
    "version": 3
   },
   "file_extension": ".py",
   "mimetype": "text/x-python",
   "name": "python",
   "nbconvert_exporter": "python",
   "pygments_lexer": "ipython3",
   "version": "3.7.7"
  },
  "toc": {
   "base_numbering": 1,
   "nav_menu": {},
   "number_sections": true,
   "sideBar": true,
   "skip_h1_title": false,
   "title_cell": "Table of Contents",
   "title_sidebar": "Contents",
   "toc_cell": false,
   "toc_position": {},
   "toc_section_display": true,
   "toc_window_display": false
  }
 },
 "nbformat": 4,
 "nbformat_minor": 4
}
