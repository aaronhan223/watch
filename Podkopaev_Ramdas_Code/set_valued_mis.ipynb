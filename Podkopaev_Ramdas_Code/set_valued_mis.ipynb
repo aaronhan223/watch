{
 "cells": [
  {
   "cell_type": "code",
   "execution_count": 1,
   "id": "2f7010d6",
   "metadata": {
    "ExecuteTime": {
     "end_time": "2021-10-03T19:08:15.183885Z",
     "start_time": "2021-10-03T19:08:13.371010Z"
    }
   },
   "outputs": [],
   "source": [
    "import numpy as np\n",
    "import matplotlib.pyplot as plt\n",
    "import seaborn as sns\n",
    "import matplotlib\n",
    "from sklearn.metrics import zero_one_loss\n",
    "import pandas as pd\n",
    "\n",
    "%matplotlib inline"
   ]
  },
  {
   "cell_type": "code",
   "execution_count": 2,
   "id": "268f8dc8",
   "metadata": {
    "ExecuteTime": {
     "end_time": "2021-10-03T19:08:19.857938Z",
     "start_time": "2021-10-03T19:08:15.185382Z"
    }
   },
   "outputs": [],
   "source": [
    "from sklearn.model_selection import train_test_split\n",
    "\n",
    "import numpy as np\n",
    "from tensorflow import keras\n",
    "from tensorflow.keras import layers\n",
    "import tensorflow as tf\n",
    "import tensorflow.compat.v2 as tf\n",
    "import tensorflow_datasets as tfds"
   ]
  },
  {
   "cell_type": "code",
   "execution_count": 3,
   "id": "24a93783",
   "metadata": {
    "ExecuteTime": {
     "end_time": "2021-10-03T19:08:19.862160Z",
     "start_time": "2021-10-03T19:08:19.859855Z"
    }
   },
   "outputs": [],
   "source": [
    "import tensorflow.keras as K"
   ]
  },
  {
   "cell_type": "code",
   "execution_count": 10,
   "id": "876c629a",
   "metadata": {
    "ExecuteTime": {
     "end_time": "2021-10-03T19:09:22.300296Z",
     "start_time": "2021-10-03T19:09:22.231282Z"
    }
   },
   "outputs": [],
   "source": [
    "from utils.tests import Drop_tester,misclas_losses\n",
    "from utils.data_gen import LDA_predictor,generate_2d_example\n",
    "from utils.set_valued_prediction import Set_valued_predictor_wrapper"
   ]
  },
  {
   "cell_type": "code",
   "execution_count": 11,
   "id": "b5cd1093",
   "metadata": {
    "ExecuteTime": {
     "end_time": "2021-10-03T19:09:22.806703Z",
     "start_time": "2021-10-03T19:09:22.737180Z"
    }
   },
   "outputs": [],
   "source": [
    "sns.set(\n",
    "    style=\"whitegrid\",\n",
    "    font_scale=1.4,\n",
    "    rc={\n",
    "        \"lines.linewidth\": 2,\n",
    "        #             \"axes.facecolor\": \".9\",\n",
    "        'figure.figsize': (12, 6)\n",
    "    })\n",
    "sns.set_palette('Set2')\n",
    "matplotlib.rcParams['text.usetex'] = True"
   ]
  },
  {
   "cell_type": "code",
   "execution_count": 12,
   "id": "dc51d4ad",
   "metadata": {
    "ExecuteTime": {
     "end_time": "2021-10-03T19:09:22.988666Z",
     "start_time": "2021-10-03T19:09:22.917171Z"
    }
   },
   "outputs": [
    {
     "name": "stdout",
     "output_type": "stream",
     "text": [
      "The autoreload extension is already loaded. To reload it, use:\n",
      "  %reload_ext autoreload\n"
     ]
    }
   ],
   "source": [
    "%load_ext autoreload\n",
    "%autoreload 2"
   ]
  },
  {
   "cell_type": "markdown",
   "id": "815f1868",
   "metadata": {},
   "source": [
    "# CIFAR10"
   ]
  },
  {
   "cell_type": "code",
   "execution_count": 58,
   "id": "10efa33d",
   "metadata": {
    "ExecuteTime": {
     "end_time": "2021-10-03T22:35:45.995183Z",
     "start_time": "2021-10-03T22:35:45.825632Z"
    }
   },
   "outputs": [],
   "source": [
    "from __future__ import print_function\n",
    "from tensorflow import keras\n",
    "from keras.layers import Dense, Conv2D, BatchNormalization, Activation\n",
    "from keras.layers import AveragePooling2D, Input, Flatten\n",
    "# from keras.optimizers import Adam\n",
    "from keras.callbacks import ModelCheckpoint, LearningRateScheduler\n",
    "from keras.callbacks import ReduceLROnPlateau\n",
    "from keras.preprocessing.image import ImageDataGenerator\n",
    "from keras.regularizers import l2\n",
    "from keras import backend as K\n",
    "from keras.models import Model\n",
    "from keras.datasets import cifar10\n",
    "import numpy as np\n",
    "import os"
   ]
  },
  {
   "cell_type": "code",
   "execution_count": 65,
   "id": "6fd0f2e2",
   "metadata": {
    "ExecuteTime": {
     "end_time": "2021-10-04T01:41:01.161283Z",
     "start_time": "2021-10-04T01:40:58.825618Z"
    }
   },
   "outputs": [
    {
     "name": "stdout",
     "output_type": "stream",
     "text": [
      "x_train shape: (50000, 32, 32, 3)\n",
      "50000 train samples\n",
      "10000 test samples\n",
      "y_train shape: (50000, 1)\n"
     ]
    }
   ],
   "source": [
    "# Training parameters\n",
    "batch_size = 128  # orig paper trained all networks with batch_size=128\n",
    "epochs = 20\n",
    "data_augmentation = True\n",
    "num_classes = 10\n",
    "\n",
    "# Subtracting pixel mean improves accuracy\n",
    "subtract_pixel_mean = True\n",
    "\n",
    "n = 5\n",
    "\n",
    "# Model version\n",
    "# Orig paper: version = 1 (ResNet v1), Improved ResNet: version = 2 (ResNet v2)\n",
    "version = 1\n",
    "\n",
    "# Computed depth from supplied model parameter n\n",
    "if version == 1:\n",
    "    depth = n * 6 + 2\n",
    "elif version == 2:\n",
    "    depth = n * 9 + 2\n",
    "\n",
    "model_type = 'ResNet%dv%d' % (depth, version)\n",
    "\n",
    "# Load the CIFAR10 data.\n",
    "(x_train, y_train), (x_test, y_test) = cifar10.load_data()\n",
    "\n",
    "# Input image dimensions.\n",
    "input_shape = x_train.shape[1:]\n",
    "\n",
    "# Normalize data.\n",
    "x_train = x_train.astype('float32') / 255\n",
    "x_test = x_test.astype('float32') / 255\n",
    "\n",
    "# If subtract pixel mean is enabled\n",
    "if subtract_pixel_mean:\n",
    "    x_train_mean = np.mean(x_train, axis=0)\n",
    "    x_train -= x_train_mean\n",
    "    x_test -= x_train_mean\n",
    "\n",
    "print('x_train shape:', x_train.shape)\n",
    "print(x_train.shape[0], 'train samples')\n",
    "print(x_test.shape[0], 'test samples')\n",
    "print('y_train shape:', y_train.shape)\n",
    "\n",
    "# Convert class vectors to binary class matrices.\n",
    "y_train = keras.utils.to_categorical(y_train, num_classes)\n",
    "y_test = keras.utils.to_categorical(y_test, num_classes)"
   ]
  },
  {
   "cell_type": "code",
   "execution_count": 66,
   "id": "b5e08412",
   "metadata": {
    "ExecuteTime": {
     "end_time": "2021-10-04T01:41:01.243103Z",
     "start_time": "2021-10-04T01:41:01.164432Z"
    }
   },
   "outputs": [],
   "source": [
    "\n",
    "def lr_schedule(epoch):\n",
    "    \"\"\"Learning Rate Schedule\n",
    "\n",
    "    Learning rate is scheduled to be reduced after 80, 120, 160, 180 epochs.\n",
    "    Called automatically every epoch as part of callbacks during training.\n",
    "\n",
    "    # Arguments\n",
    "        epoch (int): The number of epochs\n",
    "\n",
    "    # Returns\n",
    "        lr (float32): learning rate\n",
    "    \"\"\"\n",
    "    lr = 1e-3\n",
    "    if epoch > 45:\n",
    "        lr *= 0.5e-3\n",
    "    elif epoch > 35:\n",
    "        lr *= 1e-3\n",
    "    elif epoch > 25:\n",
    "        lr *= 1e-2\n",
    "    elif epoch > 10:\n",
    "        lr *= 1e-1\n",
    "    print('Learning rate: ', lr)\n",
    "    return lr\n",
    "\n",
    "\n",
    "def resnet_layer(inputs,\n",
    "                 num_filters=16,\n",
    "                 kernel_size=3,\n",
    "                 strides=1,\n",
    "                 activation='relu',\n",
    "                 batch_normalization=True,\n",
    "                 conv_first=True):\n",
    "    \"\"\"2D Convolution-Batch Normalization-Activation stack builder\n",
    "\n",
    "    # Arguments\n",
    "        inputs (tensor): input tensor from input image or previous layer\n",
    "        num_filters (int): Conv2D number of filters\n",
    "        kernel_size (int): Conv2D square kernel dimensions\n",
    "        strides (int): Conv2D square stride dimensions\n",
    "        activation (string): activation name\n",
    "        batch_normalization (bool): whether to include batch normalization\n",
    "        conv_first (bool): conv-bn-activation (True) or\n",
    "            bn-activation-conv (False)\n",
    "\n",
    "    # Returns\n",
    "        x (tensor): tensor as input to the next layer\n",
    "    \"\"\"\n",
    "    conv = Conv2D(num_filters,\n",
    "                  kernel_size=kernel_size,\n",
    "                  strides=strides,\n",
    "                  padding='same',\n",
    "                  kernel_initializer='he_normal',\n",
    "                  kernel_regularizer=l2(1e-4))\n",
    "\n",
    "    x = inputs\n",
    "    if conv_first:\n",
    "        x = conv(x)\n",
    "        if batch_normalization:\n",
    "            x = BatchNormalization()(x)\n",
    "        if activation is not None:\n",
    "            x = Activation(activation)(x)\n",
    "    else:\n",
    "        if batch_normalization:\n",
    "            x = BatchNormalization()(x)\n",
    "        if activation is not None:\n",
    "            x = Activation(activation)(x)\n",
    "        x = conv(x)\n",
    "    return x\n",
    "\n",
    "\n",
    "def resnet_v1(input_shape, depth, num_classes=10):\n",
    "    \"\"\"ResNet Version 1 Model builder [a]\n",
    "\n",
    "    Stacks of 2 x (3 x 3) Conv2D-BN-ReLU\n",
    "    Last ReLU is after the shortcut connection.\n",
    "    At the beginning of each stage, the feature map size is halved (downsampled)\n",
    "    by a convolutional layer with strides=2, while the number of filters is\n",
    "    doubled. Within each stage, the layers have the same number filters and the\n",
    "    same number of filters.\n",
    "    Features maps sizes:\n",
    "    stage 0: 32x32, 16\n",
    "    stage 1: 16x16, 32\n",
    "    stage 2:  8x8,  64\n",
    "    The Number of parameters is approx the same as Table 6 of [a]:\n",
    "    ResNet20 0.27M\n",
    "    ResNet32 0.46M\n",
    "    ResNet44 0.66M\n",
    "    ResNet56 0.85M\n",
    "    ResNet110 1.7M\n",
    "\n",
    "    # Arguments\n",
    "        input_shape (tensor): shape of input image tensor\n",
    "        depth (int): number of core convolutional layers\n",
    "        num_classes (int): number of classes (CIFAR10 has 10)\n",
    "\n",
    "    # Returns\n",
    "        model (Model): Keras model instance\n",
    "    \"\"\"\n",
    "    if (depth - 2) % 6 != 0:\n",
    "        raise ValueError('depth should be 6n+2 (eg 20, 32, 44 in [a])')\n",
    "    # Start model definition.\n",
    "    num_filters = 16\n",
    "    num_res_blocks = int((depth - 2) / 6)\n",
    "\n",
    "    inputs = Input(shape=input_shape)\n",
    "    x = resnet_layer(inputs=inputs)\n",
    "    # Instantiate the stack of residual units\n",
    "    for stack in range(3):\n",
    "        for res_block in range(num_res_blocks):\n",
    "            strides = 1\n",
    "            if stack > 0 and res_block == 0:  # first layer but not first stack\n",
    "                strides = 2  # downsample\n",
    "            y = resnet_layer(inputs=x,\n",
    "                             num_filters=num_filters,\n",
    "                             strides=strides)\n",
    "            y = resnet_layer(inputs=y,\n",
    "                             num_filters=num_filters,\n",
    "                             activation=None)\n",
    "            if stack > 0 and res_block == 0:  # first layer but not first stack\n",
    "                # linear projection residual shortcut connection to match\n",
    "                # changed dims\n",
    "                x = resnet_layer(inputs=x,\n",
    "                                 num_filters=num_filters,\n",
    "                                 kernel_size=1,\n",
    "                                 strides=strides,\n",
    "                                 activation=None,\n",
    "                                 batch_normalization=False)\n",
    "            x = keras.layers.add([x, y])\n",
    "            x = Activation('relu')(x)\n",
    "        num_filters *= 2\n",
    "\n",
    "    # Add classifier on top.\n",
    "    # v1 does not use BN after last shortcut connection-ReLU\n",
    "    x = AveragePooling2D(pool_size=8)(x)\n",
    "    y = Flatten()(x)\n",
    "    outputs = Dense(num_classes,\n",
    "                    activation='softmax',\n",
    "                    kernel_initializer='he_normal')(y)\n",
    "\n",
    "    # Instantiate model.\n",
    "    model = Model(inputs=inputs, outputs=outputs)\n",
    "    return model"
   ]
  },
  {
   "cell_type": "code",
   "execution_count": 67,
   "id": "bf07d8ba",
   "metadata": {
    "ExecuteTime": {
     "end_time": "2021-10-04T01:41:01.901047Z",
     "start_time": "2021-10-04T01:41:01.246275Z"
    }
   },
   "outputs": [],
   "source": [
    "model = resnet_v1(input_shape=input_shape, depth=depth)"
   ]
  },
  {
   "cell_type": "code",
   "execution_count": 68,
   "id": "2fc58f76",
   "metadata": {
    "ExecuteTime": {
     "end_time": "2021-10-04T01:41:02.191386Z",
     "start_time": "2021-10-04T01:41:02.087133Z"
    }
   },
   "outputs": [
    {
     "name": "stdout",
     "output_type": "stream",
     "text": [
      "Model: \"model_4\"\n",
      "__________________________________________________________________________________________________\n",
      "Layer (type)                    Output Shape         Param #     Connected to                     \n",
      "==================================================================================================\n",
      "input_6 (InputLayer)            [(None, 32, 32, 3)]  0                                            \n",
      "__________________________________________________________________________________________________\n",
      "conv2d_63 (Conv2D)              (None, 32, 32, 16)   448         input_6[0][0]                    \n",
      "__________________________________________________________________________________________________\n",
      "batch_normalization_57 (BatchNo (None, 32, 32, 16)   64          conv2d_63[0][0]                  \n",
      "__________________________________________________________________________________________________\n",
      "activation_57 (Activation)      (None, 32, 32, 16)   0           batch_normalization_57[0][0]     \n",
      "__________________________________________________________________________________________________\n",
      "conv2d_64 (Conv2D)              (None, 32, 32, 16)   2320        activation_57[0][0]              \n",
      "__________________________________________________________________________________________________\n",
      "batch_normalization_58 (BatchNo (None, 32, 32, 16)   64          conv2d_64[0][0]                  \n",
      "__________________________________________________________________________________________________\n",
      "activation_58 (Activation)      (None, 32, 32, 16)   0           batch_normalization_58[0][0]     \n",
      "__________________________________________________________________________________________________\n",
      "conv2d_65 (Conv2D)              (None, 32, 32, 16)   2320        activation_58[0][0]              \n",
      "__________________________________________________________________________________________________\n",
      "batch_normalization_59 (BatchNo (None, 32, 32, 16)   64          conv2d_65[0][0]                  \n",
      "__________________________________________________________________________________________________\n",
      "add_27 (Add)                    (None, 32, 32, 16)   0           activation_57[0][0]              \n",
      "                                                                 batch_normalization_59[0][0]     \n",
      "__________________________________________________________________________________________________\n",
      "activation_59 (Activation)      (None, 32, 32, 16)   0           add_27[0][0]                     \n",
      "__________________________________________________________________________________________________\n",
      "conv2d_66 (Conv2D)              (None, 32, 32, 16)   2320        activation_59[0][0]              \n",
      "__________________________________________________________________________________________________\n",
      "batch_normalization_60 (BatchNo (None, 32, 32, 16)   64          conv2d_66[0][0]                  \n",
      "__________________________________________________________________________________________________\n",
      "activation_60 (Activation)      (None, 32, 32, 16)   0           batch_normalization_60[0][0]     \n",
      "__________________________________________________________________________________________________\n",
      "conv2d_67 (Conv2D)              (None, 32, 32, 16)   2320        activation_60[0][0]              \n",
      "__________________________________________________________________________________________________\n",
      "batch_normalization_61 (BatchNo (None, 32, 32, 16)   64          conv2d_67[0][0]                  \n",
      "__________________________________________________________________________________________________\n",
      "add_28 (Add)                    (None, 32, 32, 16)   0           activation_59[0][0]              \n",
      "                                                                 batch_normalization_61[0][0]     \n",
      "__________________________________________________________________________________________________\n",
      "activation_61 (Activation)      (None, 32, 32, 16)   0           add_28[0][0]                     \n",
      "__________________________________________________________________________________________________\n",
      "conv2d_68 (Conv2D)              (None, 32, 32, 16)   2320        activation_61[0][0]              \n",
      "__________________________________________________________________________________________________\n",
      "batch_normalization_62 (BatchNo (None, 32, 32, 16)   64          conv2d_68[0][0]                  \n",
      "__________________________________________________________________________________________________\n",
      "activation_62 (Activation)      (None, 32, 32, 16)   0           batch_normalization_62[0][0]     \n",
      "__________________________________________________________________________________________________\n",
      "conv2d_69 (Conv2D)              (None, 32, 32, 16)   2320        activation_62[0][0]              \n",
      "__________________________________________________________________________________________________\n",
      "batch_normalization_63 (BatchNo (None, 32, 32, 16)   64          conv2d_69[0][0]                  \n",
      "__________________________________________________________________________________________________\n",
      "add_29 (Add)                    (None, 32, 32, 16)   0           activation_61[0][0]              \n",
      "                                                                 batch_normalization_63[0][0]     \n",
      "__________________________________________________________________________________________________\n",
      "activation_63 (Activation)      (None, 32, 32, 16)   0           add_29[0][0]                     \n",
      "__________________________________________________________________________________________________\n",
      "conv2d_70 (Conv2D)              (None, 32, 32, 16)   2320        activation_63[0][0]              \n",
      "__________________________________________________________________________________________________\n",
      "batch_normalization_64 (BatchNo (None, 32, 32, 16)   64          conv2d_70[0][0]                  \n",
      "__________________________________________________________________________________________________\n",
      "activation_64 (Activation)      (None, 32, 32, 16)   0           batch_normalization_64[0][0]     \n",
      "__________________________________________________________________________________________________\n",
      "conv2d_71 (Conv2D)              (None, 32, 32, 16)   2320        activation_64[0][0]              \n",
      "__________________________________________________________________________________________________\n",
      "batch_normalization_65 (BatchNo (None, 32, 32, 16)   64          conv2d_71[0][0]                  \n",
      "__________________________________________________________________________________________________\n",
      "add_30 (Add)                    (None, 32, 32, 16)   0           activation_63[0][0]              \n",
      "                                                                 batch_normalization_65[0][0]     \n",
      "__________________________________________________________________________________________________\n",
      "activation_65 (Activation)      (None, 32, 32, 16)   0           add_30[0][0]                     \n",
      "__________________________________________________________________________________________________\n",
      "conv2d_72 (Conv2D)              (None, 32, 32, 16)   2320        activation_65[0][0]              \n",
      "__________________________________________________________________________________________________\n",
      "batch_normalization_66 (BatchNo (None, 32, 32, 16)   64          conv2d_72[0][0]                  \n",
      "__________________________________________________________________________________________________\n",
      "activation_66 (Activation)      (None, 32, 32, 16)   0           batch_normalization_66[0][0]     \n",
      "__________________________________________________________________________________________________\n",
      "conv2d_73 (Conv2D)              (None, 32, 32, 16)   2320        activation_66[0][0]              \n",
      "__________________________________________________________________________________________________\n",
      "batch_normalization_67 (BatchNo (None, 32, 32, 16)   64          conv2d_73[0][0]                  \n",
      "__________________________________________________________________________________________________\n",
      "add_31 (Add)                    (None, 32, 32, 16)   0           activation_65[0][0]              \n",
      "                                                                 batch_normalization_67[0][0]     \n",
      "__________________________________________________________________________________________________\n",
      "activation_67 (Activation)      (None, 32, 32, 16)   0           add_31[0][0]                     \n",
      "__________________________________________________________________________________________________\n",
      "conv2d_74 (Conv2D)              (None, 16, 16, 32)   4640        activation_67[0][0]              \n",
      "__________________________________________________________________________________________________\n",
      "batch_normalization_68 (BatchNo (None, 16, 16, 32)   128         conv2d_74[0][0]                  \n",
      "__________________________________________________________________________________________________\n",
      "activation_68 (Activation)      (None, 16, 16, 32)   0           batch_normalization_68[0][0]     \n",
      "__________________________________________________________________________________________________\n",
      "conv2d_75 (Conv2D)              (None, 16, 16, 32)   9248        activation_68[0][0]              \n",
      "__________________________________________________________________________________________________\n",
      "conv2d_76 (Conv2D)              (None, 16, 16, 32)   544         activation_67[0][0]              \n",
      "__________________________________________________________________________________________________\n",
      "batch_normalization_69 (BatchNo (None, 16, 16, 32)   128         conv2d_75[0][0]                  \n",
      "__________________________________________________________________________________________________\n",
      "add_32 (Add)                    (None, 16, 16, 32)   0           conv2d_76[0][0]                  \n",
      "                                                                 batch_normalization_69[0][0]     \n",
      "__________________________________________________________________________________________________\n",
      "activation_69 (Activation)      (None, 16, 16, 32)   0           add_32[0][0]                     \n",
      "__________________________________________________________________________________________________\n",
      "conv2d_77 (Conv2D)              (None, 16, 16, 32)   9248        activation_69[0][0]              \n",
      "__________________________________________________________________________________________________\n",
      "batch_normalization_70 (BatchNo (None, 16, 16, 32)   128         conv2d_77[0][0]                  \n",
      "__________________________________________________________________________________________________\n",
      "activation_70 (Activation)      (None, 16, 16, 32)   0           batch_normalization_70[0][0]     \n",
      "__________________________________________________________________________________________________\n",
      "conv2d_78 (Conv2D)              (None, 16, 16, 32)   9248        activation_70[0][0]              \n",
      "__________________________________________________________________________________________________\n",
      "batch_normalization_71 (BatchNo (None, 16, 16, 32)   128         conv2d_78[0][0]                  \n",
      "__________________________________________________________________________________________________\n",
      "add_33 (Add)                    (None, 16, 16, 32)   0           activation_69[0][0]              \n",
      "                                                                 batch_normalization_71[0][0]     \n",
      "__________________________________________________________________________________________________\n",
      "activation_71 (Activation)      (None, 16, 16, 32)   0           add_33[0][0]                     \n",
      "__________________________________________________________________________________________________\n",
      "conv2d_79 (Conv2D)              (None, 16, 16, 32)   9248        activation_71[0][0]              \n",
      "__________________________________________________________________________________________________\n",
      "batch_normalization_72 (BatchNo (None, 16, 16, 32)   128         conv2d_79[0][0]                  \n",
      "__________________________________________________________________________________________________\n",
      "activation_72 (Activation)      (None, 16, 16, 32)   0           batch_normalization_72[0][0]     \n",
      "__________________________________________________________________________________________________\n",
      "conv2d_80 (Conv2D)              (None, 16, 16, 32)   9248        activation_72[0][0]              \n",
      "__________________________________________________________________________________________________\n",
      "batch_normalization_73 (BatchNo (None, 16, 16, 32)   128         conv2d_80[0][0]                  \n",
      "__________________________________________________________________________________________________\n",
      "add_34 (Add)                    (None, 16, 16, 32)   0           activation_71[0][0]              \n",
      "                                                                 batch_normalization_73[0][0]     \n",
      "__________________________________________________________________________________________________\n",
      "activation_73 (Activation)      (None, 16, 16, 32)   0           add_34[0][0]                     \n",
      "__________________________________________________________________________________________________\n",
      "conv2d_81 (Conv2D)              (None, 16, 16, 32)   9248        activation_73[0][0]              \n",
      "__________________________________________________________________________________________________\n",
      "batch_normalization_74 (BatchNo (None, 16, 16, 32)   128         conv2d_81[0][0]                  \n",
      "__________________________________________________________________________________________________\n",
      "activation_74 (Activation)      (None, 16, 16, 32)   0           batch_normalization_74[0][0]     \n",
      "__________________________________________________________________________________________________\n",
      "conv2d_82 (Conv2D)              (None, 16, 16, 32)   9248        activation_74[0][0]              \n",
      "__________________________________________________________________________________________________\n",
      "batch_normalization_75 (BatchNo (None, 16, 16, 32)   128         conv2d_82[0][0]                  \n",
      "__________________________________________________________________________________________________\n",
      "add_35 (Add)                    (None, 16, 16, 32)   0           activation_73[0][0]              \n",
      "                                                                 batch_normalization_75[0][0]     \n",
      "__________________________________________________________________________________________________\n",
      "activation_75 (Activation)      (None, 16, 16, 32)   0           add_35[0][0]                     \n",
      "__________________________________________________________________________________________________\n",
      "conv2d_83 (Conv2D)              (None, 16, 16, 32)   9248        activation_75[0][0]              \n",
      "__________________________________________________________________________________________________\n",
      "batch_normalization_76 (BatchNo (None, 16, 16, 32)   128         conv2d_83[0][0]                  \n",
      "__________________________________________________________________________________________________\n",
      "activation_76 (Activation)      (None, 16, 16, 32)   0           batch_normalization_76[0][0]     \n",
      "__________________________________________________________________________________________________\n",
      "conv2d_84 (Conv2D)              (None, 16, 16, 32)   9248        activation_76[0][0]              \n",
      "__________________________________________________________________________________________________\n",
      "batch_normalization_77 (BatchNo (None, 16, 16, 32)   128         conv2d_84[0][0]                  \n",
      "__________________________________________________________________________________________________\n",
      "add_36 (Add)                    (None, 16, 16, 32)   0           activation_75[0][0]              \n",
      "                                                                 batch_normalization_77[0][0]     \n",
      "__________________________________________________________________________________________________\n",
      "activation_77 (Activation)      (None, 16, 16, 32)   0           add_36[0][0]                     \n",
      "__________________________________________________________________________________________________\n",
      "conv2d_85 (Conv2D)              (None, 8, 8, 64)     18496       activation_77[0][0]              \n",
      "__________________________________________________________________________________________________\n",
      "batch_normalization_78 (BatchNo (None, 8, 8, 64)     256         conv2d_85[0][0]                  \n",
      "__________________________________________________________________________________________________\n",
      "activation_78 (Activation)      (None, 8, 8, 64)     0           batch_normalization_78[0][0]     \n",
      "__________________________________________________________________________________________________\n",
      "conv2d_86 (Conv2D)              (None, 8, 8, 64)     36928       activation_78[0][0]              \n",
      "__________________________________________________________________________________________________\n",
      "conv2d_87 (Conv2D)              (None, 8, 8, 64)     2112        activation_77[0][0]              \n",
      "__________________________________________________________________________________________________\n",
      "batch_normalization_79 (BatchNo (None, 8, 8, 64)     256         conv2d_86[0][0]                  \n",
      "__________________________________________________________________________________________________\n",
      "add_37 (Add)                    (None, 8, 8, 64)     0           conv2d_87[0][0]                  \n",
      "                                                                 batch_normalization_79[0][0]     \n",
      "__________________________________________________________________________________________________\n",
      "activation_79 (Activation)      (None, 8, 8, 64)     0           add_37[0][0]                     \n",
      "__________________________________________________________________________________________________\n",
      "conv2d_88 (Conv2D)              (None, 8, 8, 64)     36928       activation_79[0][0]              \n",
      "__________________________________________________________________________________________________\n",
      "batch_normalization_80 (BatchNo (None, 8, 8, 64)     256         conv2d_88[0][0]                  \n",
      "__________________________________________________________________________________________________\n",
      "activation_80 (Activation)      (None, 8, 8, 64)     0           batch_normalization_80[0][0]     \n",
      "__________________________________________________________________________________________________\n",
      "conv2d_89 (Conv2D)              (None, 8, 8, 64)     36928       activation_80[0][0]              \n",
      "__________________________________________________________________________________________________\n",
      "batch_normalization_81 (BatchNo (None, 8, 8, 64)     256         conv2d_89[0][0]                  \n",
      "__________________________________________________________________________________________________\n",
      "add_38 (Add)                    (None, 8, 8, 64)     0           activation_79[0][0]              \n",
      "                                                                 batch_normalization_81[0][0]     \n",
      "__________________________________________________________________________________________________\n",
      "activation_81 (Activation)      (None, 8, 8, 64)     0           add_38[0][0]                     \n",
      "__________________________________________________________________________________________________\n",
      "conv2d_90 (Conv2D)              (None, 8, 8, 64)     36928       activation_81[0][0]              \n",
      "__________________________________________________________________________________________________\n",
      "batch_normalization_82 (BatchNo (None, 8, 8, 64)     256         conv2d_90[0][0]                  \n",
      "__________________________________________________________________________________________________\n",
      "activation_82 (Activation)      (None, 8, 8, 64)     0           batch_normalization_82[0][0]     \n",
      "__________________________________________________________________________________________________\n",
      "conv2d_91 (Conv2D)              (None, 8, 8, 64)     36928       activation_82[0][0]              \n",
      "__________________________________________________________________________________________________\n",
      "batch_normalization_83 (BatchNo (None, 8, 8, 64)     256         conv2d_91[0][0]                  \n",
      "__________________________________________________________________________________________________\n",
      "add_39 (Add)                    (None, 8, 8, 64)     0           activation_81[0][0]              \n",
      "                                                                 batch_normalization_83[0][0]     \n",
      "__________________________________________________________________________________________________\n",
      "activation_83 (Activation)      (None, 8, 8, 64)     0           add_39[0][0]                     \n",
      "__________________________________________________________________________________________________\n",
      "conv2d_92 (Conv2D)              (None, 8, 8, 64)     36928       activation_83[0][0]              \n",
      "__________________________________________________________________________________________________\n",
      "batch_normalization_84 (BatchNo (None, 8, 8, 64)     256         conv2d_92[0][0]                  \n",
      "__________________________________________________________________________________________________\n",
      "activation_84 (Activation)      (None, 8, 8, 64)     0           batch_normalization_84[0][0]     \n",
      "__________________________________________________________________________________________________\n",
      "conv2d_93 (Conv2D)              (None, 8, 8, 64)     36928       activation_84[0][0]              \n",
      "__________________________________________________________________________________________________\n",
      "batch_normalization_85 (BatchNo (None, 8, 8, 64)     256         conv2d_93[0][0]                  \n",
      "__________________________________________________________________________________________________\n",
      "add_40 (Add)                    (None, 8, 8, 64)     0           activation_83[0][0]              \n",
      "                                                                 batch_normalization_85[0][0]     \n",
      "__________________________________________________________________________________________________\n",
      "activation_85 (Activation)      (None, 8, 8, 64)     0           add_40[0][0]                     \n",
      "__________________________________________________________________________________________________\n",
      "conv2d_94 (Conv2D)              (None, 8, 8, 64)     36928       activation_85[0][0]              \n",
      "__________________________________________________________________________________________________\n",
      "batch_normalization_86 (BatchNo (None, 8, 8, 64)     256         conv2d_94[0][0]                  \n",
      "__________________________________________________________________________________________________\n",
      "activation_86 (Activation)      (None, 8, 8, 64)     0           batch_normalization_86[0][0]     \n",
      "__________________________________________________________________________________________________\n",
      "conv2d_95 (Conv2D)              (None, 8, 8, 64)     36928       activation_86[0][0]              \n",
      "__________________________________________________________________________________________________\n",
      "batch_normalization_87 (BatchNo (None, 8, 8, 64)     256         conv2d_95[0][0]                  \n",
      "__________________________________________________________________________________________________\n",
      "add_41 (Add)                    (None, 8, 8, 64)     0           activation_85[0][0]              \n",
      "                                                                 batch_normalization_87[0][0]     \n",
      "__________________________________________________________________________________________________\n",
      "activation_87 (Activation)      (None, 8, 8, 64)     0           add_41[0][0]                     \n",
      "__________________________________________________________________________________________________\n",
      "average_pooling2d_3 (AveragePoo (None, 1, 1, 64)     0           activation_87[0][0]              \n",
      "__________________________________________________________________________________________________\n",
      "flatten_4 (Flatten)             (None, 64)           0           average_pooling2d_3[0][0]        \n",
      "__________________________________________________________________________________________________\n",
      "dense_5 (Dense)                 (None, 10)           650         flatten_4[0][0]                  \n",
      "==================================================================================================\n",
      "Total params: 470,218\n",
      "Trainable params: 467,946\n",
      "Non-trainable params: 2,272\n",
      "__________________________________________________________________________________________________\n",
      "ResNet32v1\n"
     ]
    }
   ],
   "source": [
    "model.compile(loss='categorical_crossentropy',\n",
    "              optimizer='Adam',\n",
    "              metrics=['accuracy'])\n",
    "model.summary()\n",
    "print(model_type)"
   ]
  },
  {
   "cell_type": "code",
   "execution_count": 70,
   "id": "6165645f",
   "metadata": {
    "ExecuteTime": {
     "end_time": "2021-10-04T01:41:15.951821Z",
     "start_time": "2021-10-04T01:41:15.740840Z"
    }
   },
   "outputs": [],
   "source": [
    "model.load_weights('cifar10_ResNet32v1_model.012.h5')"
   ]
  },
  {
   "cell_type": "code",
   "execution_count": 71,
   "id": "fe340776",
   "metadata": {
    "ExecuteTime": {
     "end_time": "2021-10-04T01:41:32.411878Z",
     "start_time": "2021-10-04T01:41:17.245326Z"
    }
   },
   "outputs": [
    {
     "name": "stdout",
     "output_type": "stream",
     "text": [
      "313/313 [==============================] - 15s 44ms/step - loss: 0.9199 - accuracy: 0.7954\n"
     ]
    },
    {
     "data": {
      "text/plain": [
       "[0.919887900352478, 0.7954000234603882]"
      ]
     },
     "execution_count": 71,
     "metadata": {},
     "output_type": "execute_result"
    }
   ],
   "source": [
    "model.evaluate(x_test,y_test)"
   ]
  },
  {
   "cell_type": "code",
   "execution_count": 253,
   "id": "a5ea9d5e",
   "metadata": {
    "ExecuteTime": {
     "end_time": "2021-10-05T03:57:43.018052Z",
     "start_time": "2021-10-05T03:57:42.939911Z"
    }
   },
   "outputs": [],
   "source": [
    "wrap = Set_valued_predictor_wrapper()"
   ]
  },
  {
   "cell_type": "code",
   "execution_count": 254,
   "id": "2df87200",
   "metadata": {
    "ExecuteTime": {
     "end_time": "2021-10-05T03:57:43.232278Z",
     "start_time": "2021-10-05T03:57:43.161452Z"
    }
   },
   "outputs": [],
   "source": [
    "wrap.base_predictor = model\n",
    "wrap.delta = 0.05\n",
    "wrap.alpha=0.05"
   ]
  },
  {
   "cell_type": "code",
   "execution_count": 77,
   "id": "b55926e4",
   "metadata": {
    "ExecuteTime": {
     "end_time": "2021-10-04T01:43:30.459839Z",
     "start_time": "2021-10-04T01:43:30.384628Z"
    }
   },
   "outputs": [
    {
     "data": {
      "text/plain": [
       "(10000, 32, 32, 3)"
      ]
     },
     "execution_count": 77,
     "metadata": {},
     "output_type": "execute_result"
    }
   ],
   "source": [
    "x_test.shape"
   ]
  },
  {
   "cell_type": "code",
   "execution_count": 79,
   "id": "e85cf7f7",
   "metadata": {
    "ExecuteTime": {
     "end_time": "2021-10-04T01:43:51.522489Z",
     "start_time": "2021-10-04T01:43:51.444279Z"
    }
   },
   "outputs": [],
   "source": [
    "indices = np.arange(10000)\n",
    "np.random.shuffle(indices)"
   ]
  },
  {
   "cell_type": "code",
   "execution_count": 100,
   "id": "b1cb09eb",
   "metadata": {
    "ExecuteTime": {
     "end_time": "2021-10-04T01:50:54.316664Z",
     "start_time": "2021-10-04T01:50:54.248493Z"
    }
   },
   "outputs": [],
   "source": [
    "cal_indices = indices[:1000]\n",
    "risk_source_indices = indices[1000:2000]\n",
    "risk_target_indices = indices[2000:]"
   ]
  },
  {
   "cell_type": "code",
   "execution_count": 94,
   "id": "59499709",
   "metadata": {
    "ExecuteTime": {
     "end_time": "2021-10-04T01:48:23.346092Z",
     "start_time": "2021-10-04T01:48:23.276875Z"
    }
   },
   "outputs": [],
   "source": [
    "X_cal = x_test[cal_indices]\n",
    "y_cal = y_test[cal_indices]\n",
    "X_risk_source = x_test[risk_source_indices]\n",
    "y_risk_source = y_test[risk_source_indices]"
   ]
  },
  {
   "cell_type": "code",
   "execution_count": 95,
   "id": "47f017e4",
   "metadata": {
    "ExecuteTime": {
     "end_time": "2021-10-04T01:48:42.470702Z",
     "start_time": "2021-10-04T01:48:24.024714Z"
    }
   },
   "outputs": [],
   "source": [
    "wrap.fit(X_cal, y_cal.argmax(axis=1))"
   ]
  },
  {
   "cell_type": "code",
   "execution_count": 96,
   "id": "fa01e976",
   "metadata": {
    "ExecuteTime": {
     "end_time": "2021-10-04T01:48:42.549096Z",
     "start_time": "2021-10-04T01:48:42.476129Z"
    }
   },
   "outputs": [
    {
     "data": {
      "text/plain": [
       "0.91796875"
      ]
     },
     "execution_count": 96,
     "metadata": {},
     "output_type": "execute_result"
    }
   ],
   "source": [
    "wrap.lmbd_star"
   ]
  },
  {
   "cell_type": "code",
   "execution_count": 97,
   "id": "1c6ded30",
   "metadata": {
    "ExecuteTime": {
     "end_time": "2021-10-04T01:48:46.996057Z",
     "start_time": "2021-10-04T01:48:45.472880Z"
    }
   },
   "outputs": [
    {
     "data": {
      "text/plain": [
       "(0.09, 1.557)"
      ]
     },
     "execution_count": 97,
     "metadata": {},
     "output_type": "execute_result"
    }
   ],
   "source": [
    "wrap.eval_pred(X_risk_source, y_risk_source.argmax(axis=1))"
   ]
  },
  {
   "cell_type": "code",
   "execution_count": 89,
   "id": "dac0bbb0",
   "metadata": {
    "ExecuteTime": {
     "end_time": "2021-10-04T01:46:54.373777Z",
     "start_time": "2021-10-04T01:46:52.792778Z"
    }
   },
   "outputs": [
    {
     "name": "stdout",
     "output_type": "stream",
     "text": [
      "32/32 [==============================] - 1s 45ms/step - loss: 0.9011 - accuracy: 0.7980\n"
     ]
    },
    {
     "data": {
      "text/plain": [
       "[0.9011020660400391, 0.7979999780654907]"
      ]
     },
     "execution_count": 89,
     "metadata": {},
     "output_type": "execute_result"
    }
   ],
   "source": [
    "model.evaluate(X_cal,y_cal)"
   ]
  },
  {
   "cell_type": "code",
   "execution_count": 321,
   "id": "95133de2",
   "metadata": {
    "ExecuteTime": {
     "end_time": "2021-10-05T14:45:02.791981Z",
     "start_time": "2021-10-05T14:45:02.616668Z"
    }
   },
   "outputs": [],
   "source": [
    "eps_tol=0.05\n",
    "\n",
    "tester = Drop_tester()\n",
    "\n",
    "tester.eps_tol = eps_tol\n",
    "tester.source_conc_type = 'betting'\n",
    "tester.target_conc_type = 'conj-bern'\n",
    "tester.change_type = 'absolute'"
   ]
  },
  {
   "cell_type": "code",
   "execution_count": 322,
   "id": "8994c6ee",
   "metadata": {
    "ExecuteTime": {
     "end_time": "2021-10-05T14:45:03.125273Z",
     "start_time": "2021-10-05T14:45:03.050515Z"
    }
   },
   "outputs": [],
   "source": [
    "batch_size=50\n",
    "num_of_batches = 40\n",
    "num_of_repeats = 50"
   ]
  },
  {
   "cell_type": "code",
   "execution_count": 323,
   "id": "87a196e8",
   "metadata": {
    "ExecuteTime": {
     "end_time": "2021-10-05T14:45:03.860846Z",
     "start_time": "2021-10-05T14:45:03.804685Z"
    }
   },
   "outputs": [],
   "source": [
    "wrap.alpha=0.1"
   ]
  },
  {
   "cell_type": "code",
   "execution_count": 324,
   "id": "79975314",
   "metadata": {
    "ExecuteTime": {
     "end_time": "2021-10-05T14:45:04.400493Z",
     "start_time": "2021-10-05T14:45:04.317135Z"
    }
   },
   "outputs": [],
   "source": [
    "clean_lower_bounds = list()\n",
    "source_upper_bounds = list()\n",
    "fog1_lower_bounds = list()\n",
    "fog3_lower_bounds = list()\n",
    "fog5_lower_bounds = list()"
   ]
  },
  {
   "cell_type": "code",
   "execution_count": 325,
   "id": "b5538b40",
   "metadata": {
    "ExecuteTime": {
     "end_time": "2021-10-05T15:25:02.466681Z",
     "start_time": "2021-10-05T14:45:06.773180Z"
    }
   },
   "outputs": [],
   "source": [
    "for cur_run in range(num_of_repeats):\n",
    "    \n",
    "    indices = np.arange(10000)\n",
    "    np.random.shuffle(indices)\n",
    "    cal_indices = indices[:1000]\n",
    "    risk_source_indices = indices[1000:2000]\n",
    "    risk_target_indices = indices[2000:]\n",
    "    \n",
    "    X_cal = x_clean[cal_indices]\n",
    "    y_cal = y_clean[cal_indices].argmax(axis=1)\n",
    "    X_risk_source = x_clean[risk_source_indices]\n",
    "    y_risk_source = y_clean[risk_source_indices].argmax(axis=1)\n",
    "    \n",
    "    wrap.fit(X_cal, y_cal)\n",
    "    \n",
    "    #estimate miscoverage risk on the source\n",
    "    pred_sets = wrap.predict_sets(X_risk_source)\n",
    "    num_of_preds = len(pred_sets)\n",
    "        \n",
    "    all_losses = np.array([y_risk_source[i] not in pred_sets[i] for i in range(num_of_preds)])\n",
    "    \n",
    "    tester.estimate_risk_source(all_losses)\n",
    "    \n",
    "    source_upper_bounds+= [tester.source_rejection_threshold]\n",
    "    \n",
    "    # now consider the target\n",
    "    clean_lower_bounds+=[[]]\n",
    "    fog1_lower_bounds+=[[]]\n",
    "    fog3_lower_bounds+=[[]]\n",
    "    fog5_lower_bounds+=[[]]\n",
    "    \n",
    "    np.random.shuffle(risk_target_indices)\n",
    "    \n",
    "    cur_X = x_clean[risk_target_indices][: num_of_batches * batch_size]\n",
    "    cur_y = y_clean[risk_target_indices][: num_of_batches * batch_size].argmax(axis=1)\n",
    "    pred_sets = wrap.predict_sets(cur_X)\n",
    "    num_of_preds = len(pred_sets)\n",
    "        \n",
    "    all_losses = np.array([cur_y[i] not in pred_sets[i] for i in range(num_of_preds)])\n",
    "    \n",
    "    for cur_batch in range(num_of_batches):        \n",
    "        cur_losses = all_losses[:(cur_batch + 1) * batch_size]\n",
    "        \n",
    "        \n",
    "        tester.estimate_risk_target(cur_losses)\n",
    "        clean_lower_bounds[cur_run] += [tester.target_risk_lower_bound]\n",
    "        \n",
    "    np.random.shuffle(risk_target_indices)\n",
    "    \n",
    "    cur_X = x_fog1[risk_target_indices][: num_of_batches * batch_size]\n",
    "    cur_y = y_fog1[risk_target_indices][: num_of_batches * batch_size].argmax(axis=1)\n",
    "    pred_sets = wrap.predict_sets(cur_X)\n",
    "    num_of_preds = len(pred_sets)\n",
    "        \n",
    "    all_losses = np.array([cur_y[i] not in pred_sets[i] for i in range(num_of_preds)])\n",
    "    \n",
    "    for cur_batch in range(num_of_batches):        \n",
    "        cur_losses = all_losses[:(cur_batch + 1) * batch_size]\n",
    "        \n",
    "        \n",
    "        tester.estimate_risk_target(cur_losses)\n",
    "        fog1_lower_bounds[cur_run] += [tester.target_risk_lower_bound]\n",
    "    \n",
    "    np.random.shuffle(risk_target_indices)\n",
    "    \n",
    "    cur_X = x_fog3[risk_target_indices][: num_of_batches * batch_size]\n",
    "    cur_y = y_fog3[risk_target_indices][: num_of_batches * batch_size].argmax(axis=1)\n",
    "    pred_sets = wrap.predict_sets(cur_X)\n",
    "    num_of_preds = len(pred_sets)\n",
    "        \n",
    "    all_losses = np.array([cur_y[i] not in pred_sets[i] for i in range(num_of_preds)])\n",
    "    \n",
    "    for cur_batch in range(num_of_batches):        \n",
    "        cur_losses = all_losses[:(cur_batch + 1) * batch_size]\n",
    "        \n",
    "        \n",
    "        tester.estimate_risk_target(cur_losses)\n",
    "        fog3_lower_bounds[cur_run] += [tester.target_risk_lower_bound]\n",
    "    \n",
    "    np.random.shuffle(risk_target_indices)\n",
    "    \n",
    "    cur_X = x_fog5[risk_target_indices][: num_of_batches * batch_size]\n",
    "    cur_y = y_fog5[risk_target_indices][: num_of_batches * batch_size].argmax(axis=1)\n",
    "    pred_sets = wrap.predict_sets(cur_X)\n",
    "    num_of_preds = len(pred_sets)\n",
    "        \n",
    "    all_losses = np.array([cur_y[i] not in pred_sets[i] for i in range(num_of_preds)])\n",
    "    \n",
    "    for cur_batch in range(num_of_batches):        \n",
    "        cur_losses = all_losses[:(cur_batch + 1) * batch_size]\n",
    "        \n",
    "        \n",
    "        tester.estimate_risk_target(cur_losses)\n",
    "        fog5_lower_bounds[cur_run] += [tester.target_risk_lower_bound]"
   ]
  },
  {
   "cell_type": "code",
   "execution_count": 326,
   "id": "e3715b24",
   "metadata": {
    "ExecuteTime": {
     "end_time": "2021-10-05T15:25:02.705184Z",
     "start_time": "2021-10-05T15:25:02.470040Z"
    }
   },
   "outputs": [],
   "source": [
    "clean_mean = np.mean(clean_lower_bounds, axis=0)\n",
    "fog1_mean = np.mean(fog1_lower_bounds, axis=0)\n",
    "fog3_mean = np.mean(fog3_lower_bounds, axis=0)\n",
    "fog5_mean = np.mean(fog5_lower_bounds, axis=0)\n",
    "\n",
    "clean_std = np.std(clean_lower_bounds, axis=0)\n",
    "fog1_std = np.std(fog1_lower_bounds, axis=0)\n",
    "fog3_std = np.std(fog3_lower_bounds, axis=0)\n",
    "fog5_std = np.std(fog5_lower_bounds, axis=0)"
   ]
  },
  {
   "cell_type": "code",
   "execution_count": 327,
   "id": "0def109e",
   "metadata": {
    "ExecuteTime": {
     "end_time": "2021-10-05T15:25:03.606231Z",
     "start_time": "2021-10-05T15:25:02.708784Z"
    }
   },
   "outputs": [
    {
     "data": {
      "image/png": "[encoded data removed]",
      "text/plain": [
       "<Figure size 864x432 with 1 Axes>"
      ]
     },
     "metadata": {},
     "output_type": "display_data"
    }
   ],
   "source": [
    "l1, = plt.plot((np.arange(num_of_batches) + 1) * batch_size,\n",
    "               clean_mean,\n",
    "               color='dimgray',\n",
    "               marker='*',\n",
    "               label='Clean')\n",
    "\n",
    "plt.fill_between((np.arange(num_of_batches) + 1) * batch_size,\n",
    "                 y1=clean_mean - 2 * clean_std / np.sqrt(num_of_repeats),\n",
    "                 y2=clean_mean + 2 * clean_std / np.sqrt(num_of_repeats),\n",
    "                 color='dimgray',\n",
    "                 alpha=0.5)\n",
    "\n",
    "l2, = plt.plot((np.arange(num_of_batches) + 1) * batch_size,\n",
    "               fog1_mean,\n",
    "               color='mediumaquamarine',\n",
    "               marker='*',\n",
    "               label='Clean')\n",
    "\n",
    "plt.fill_between((np.arange(num_of_batches) + 1) * batch_size,\n",
    "                 y1=fog1_mean - 2 * fog1_std / np.sqrt(num_of_repeats),\n",
    "                 y2=fog1_mean + 2 * fog1_std / np.sqrt(num_of_repeats),\n",
    "                 color='mediumaquamarine',\n",
    "                 alpha=0.5)\n",
    "\n",
    "l3, = plt.plot((np.arange(num_of_batches) + 1) * batch_size,\n",
    "               fog3_mean,\n",
    "               color='steelblue',\n",
    "               marker='*',\n",
    "               label='Clean')\n",
    "\n",
    "plt.fill_between((np.arange(num_of_batches) + 1) * batch_size,\n",
    "                 y1=fog3_mean - 2 * fog3_std / np.sqrt(num_of_repeats),\n",
    "                 y2=fog3_mean + 2 * fog3_std / np.sqrt(num_of_repeats),\n",
    "                 color='steelblue',\n",
    "                 alpha=0.5)\n",
    "\n",
    "l4, = plt.plot((np.arange(num_of_batches) + 1) * batch_size,\n",
    "               fog5_mean,\n",
    "               color='indianred',\n",
    "               marker='*',\n",
    "               label='Clean')\n",
    "\n",
    "plt.fill_between((np.arange(num_of_batches) + 1) * batch_size,\n",
    "                 y1=fog5_mean - 2 * fog5_std / np.sqrt(num_of_repeats),\n",
    "                 y2=fog5_mean + 2 * fog5_std / np.sqrt(num_of_repeats),\n",
    "                 color='indianred',\n",
    "                 alpha=0.5)\n",
    "\n",
    "l5, = plt.plot((np.arange(num_of_batches) + 1) * batch_size,\n",
    "               np.repeat(np.mean(source_upper_bounds), num_of_batches),\n",
    "               linestyle='dashed',\n",
    "               c='goldenrod')\n",
    "\n",
    "plt.fill_between((np.arange(num_of_batches) + 1) * batch_size,\n",
    "                 y1=np.mean(source_upper_bounds) -\n",
    "                 2 * np.std(source_upper_bounds) / np.sqrt(num_of_repeats),\n",
    "                 y2=np.mean(source_upper_bounds) +\n",
    "                 2 * np.std(source_upper_bounds) / np.sqrt(num_of_repeats),\n",
    "                 color='goldenrod',\n",
    "                 alpha=0.5)\n",
    "\n",
    "plt.ylabel('Miscoverage risk', fontsize=23)\n",
    "plt.xlabel('Number of samples from the target domain', fontsize=23)\n",
    "\n",
    "p5, = plt.plot([0.15], marker='None', linestyle='None', label='dummy-tophead')\n",
    "\n",
    "categories = [\n",
    "    'Rejection threshold: ' +\n",
    "    r'$\\widehat{U}_S(f) + \\varepsilon_{\\mathrm{tol}}$',\n",
    "    r'$\\textbf{LCB on the target risk for:}$ ', 'Clean',\n",
    "    'Fog, level of severity: 1', 'Fog, level of severity: 3', 'Fog, level of severity: 5'\n",
    "]\n",
    "\n",
    "leg4 = plt.legend([l5, p5, l1, l2, l3, l4],\n",
    "                  categories,\n",
    "                  loc=1,\n",
    "                  ncol=1,\n",
    "                  prop={'size': 18})  # Two columns, horizontal group labels\n",
    "\n",
    "plt.savefig('img/cifar10_c_trained_once.pdf', bbox_inches='tight')"
   ]
  },
  {
   "cell_type": "markdown",
   "id": "1dbde85e",
   "metadata": {},
   "source": [
    "# average size of prediction sets"
   ]
  },
  {
   "cell_type": "code",
   "execution_count": 300,
   "id": "694cf16a",
   "metadata": {
    "ExecuteTime": {
     "end_time": "2021-10-05T05:28:55.946407Z",
     "start_time": "2021-10-05T05:28:55.876816Z"
    }
   },
   "outputs": [],
   "source": [
    "average_size_01_clean = list()\n",
    "average_size_005_clean = list()\n",
    "\n",
    "average_size_01_fog1 = list()\n",
    "average_size_005_fog1 = list()\n",
    "\n",
    "average_size_01_fog3 = list()\n",
    "average_size_005_fog3 = list()\n",
    "\n",
    "average_size_01_fog5 = list()\n",
    "average_size_005_fog5 = list()"
   ]
  },
  {
   "cell_type": "code",
   "execution_count": 301,
   "id": "ddf50d79",
   "metadata": {
    "ExecuteTime": {
     "end_time": "2021-10-05T06:17:18.222841Z",
     "start_time": "2021-10-05T05:28:56.600459Z"
    }
   },
   "outputs": [],
   "source": [
    "for cur_run in range(50):\n",
    "\n",
    "    indices = np.arange(10000)\n",
    "    np.random.shuffle(indices)\n",
    "    cal_indices = indices[:1000]\n",
    "    risk_source_indices = indices[1000:2000]\n",
    "    risk_target_indices = indices[2000:3000]\n",
    "\n",
    "    X_cal = x_clean[cal_indices]\n",
    "    y_cal = y_clean[cal_indices].argmax(axis=1)\n",
    "    X_risk_source = x_clean[risk_source_indices]\n",
    "    y_risk_source = y_clean[risk_source_indices].argmax(axis=1)\n",
    "\n",
    "    wrap.alpha = 0.05\n",
    "    wrap.fit(X_cal, y_cal)\n",
    "\n",
    "    #estimate miscoverage risk on the source\n",
    "\n",
    "    # now consider the target\n",
    "\n",
    "    cur_X = x_clean[risk_target_indices]\n",
    "    cur_y = y_clean[risk_target_indices].argmax(axis=1)\n",
    "    pred_sets = wrap.predict_sets(cur_X)\n",
    "    average_size_005_clean += [np.mean([len(x) for x in pred_sets])]\n",
    "\n",
    "    cur_X = x_fog1[risk_target_indices]\n",
    "    cur_y = y_fog1[risk_target_indices].argmax(axis=1)\n",
    "    pred_sets = wrap.predict_sets(cur_X)\n",
    "    average_size_005_fog1 += [np.mean([len(x) for x in pred_sets])]\n",
    "\n",
    "    cur_X = x_fog3[risk_target_indices]\n",
    "    cur_y = y_fog3[risk_target_indices].argmax(axis=1)\n",
    "    pred_sets = wrap.predict_sets(cur_X)\n",
    "    average_size_005_fog3 += [np.mean([len(x) for x in pred_sets])]\n",
    "\n",
    "    cur_X = x_fog5[risk_target_indices]\n",
    "    cur_y = y_fog5[risk_target_indices].argmax(axis=1)\n",
    "    pred_sets = wrap.predict_sets(cur_X)\n",
    "    average_size_005_fog5 += [np.mean([len(x) for x in pred_sets])]\n",
    "\n",
    "    wrap.alpha = 0.1\n",
    "    wrap.fit(X_cal, y_cal)\n",
    "\n",
    "    #estimate miscoverage risk on the source\n",
    "\n",
    "    # now consider the target\n",
    "\n",
    "    cur_X = x_clean[risk_target_indices]\n",
    "    cur_y = y_clean[risk_target_indices].argmax(axis=1)\n",
    "    pred_sets = wrap.predict_sets(cur_X)\n",
    "    average_size_01_clean += [np.mean([len(x) for x in pred_sets])]\n",
    "\n",
    "    cur_X = x_fog1[risk_target_indices]\n",
    "    cur_y = y_fog1[risk_target_indices].argmax(axis=1)\n",
    "    pred_sets = wrap.predict_sets(cur_X)\n",
    "    average_size_01_fog1 += [np.mean([len(x) for x in pred_sets])]\n",
    "\n",
    "    cur_X = x_fog3[risk_target_indices]\n",
    "    cur_y = y_fog3[risk_target_indices].argmax(axis=1)\n",
    "    pred_sets = wrap.predict_sets(cur_X)\n",
    "    average_size_01_fog3 += [np.mean([len(x) for x in pred_sets])]\n",
    "\n",
    "    cur_X = x_fog5[risk_target_indices]\n",
    "    cur_y = y_fog5[risk_target_indices].argmax(axis=1)\n",
    "    pred_sets = wrap.predict_sets(cur_X)\n",
    "    average_size_01_fog5 += [np.mean([len(x) for x in pred_sets])]"
   ]
  },
  {
   "cell_type": "code",
   "execution_count": 328,
   "id": "5ad3fc52",
   "metadata": {
    "ExecuteTime": {
     "end_time": "2021-10-05T22:13:49.365392Z",
     "start_time": "2021-10-05T22:13:48.813690Z"
    }
   },
   "outputs": [],
   "source": [
    "df = pd.DataFrame()"
   ]
  },
  {
   "cell_type": "code",
   "execution_count": 329,
   "id": "bb337b13",
   "metadata": {
    "ExecuteTime": {
     "end_time": "2021-10-05T22:13:49.959231Z",
     "start_time": "2021-10-05T22:13:49.857456Z"
    }
   },
   "outputs": [],
   "source": [
    "df['Clean, '+r'$\\beta_1$']=average_size_005_clean\n",
    "df['Clean, '+r'$\\beta_2$']=average_size_01_clean\n",
    "df['Fog (1), '+r'$\\beta_1$']=average_size_005_fog1\n",
    "df['Fog (1), '+r'$\\beta_2$']=average_size_01_fog1\n",
    "df['Fog (3), '+r'$\\beta_1$']=average_size_005_fog3\n",
    "df['Fog (3), '+r'$\\beta_2$']=average_size_01_fog3\n",
    "df['Fog (5), '+r'$\\beta_1$']=average_size_005_fog5\n",
    "df['Fog (5), '+r'$\\beta_2$']=average_size_01_fog5"
   ]
  },
  {
   "cell_type": "code",
   "execution_count": 331,
   "id": "1d81324b",
   "metadata": {
    "ExecuteTime": {
     "end_time": "2021-10-05T22:14:07.173826Z",
     "start_time": "2021-10-05T22:14:06.296043Z"
    }
   },
   "outputs": [
    {
     "data": {
      "image/png": "[encoded data removed]",
      "text/plain": [
       "<Figure size 864x432 with 1 Axes>"
      ]
     },
     "metadata": {},
     "output_type": "display_data"
    }
   ],
   "source": [
    "# plt.figure(figsize=[15,6])\n",
    "sns.boxplot(data=df)\n",
    "plt.ylabel('Average prediction set size', fontsize=23)\n",
    "plt.xlabel('Type of input data and prescribed error level', fontsize=23)\n",
    "plt.savefig('img/size_vs_alpha_and_cor.pdf', bbox_inches='tight')"
   ]
  },
  {
   "cell_type": "code",
   "execution_count": 263,
   "id": "cd226fc5",
   "metadata": {
    "ExecuteTime": {
     "end_time": "2021-10-05T04:53:34.273270Z",
     "start_time": "2021-10-05T04:53:33.917179Z"
    },
    "scrolled": true
   },
   "outputs": [],
   "source": [
    "pr_sets_05=wrap.predict_sets(x_clean[risk_target_indices][:50])"
   ]
  },
  {
   "cell_type": "code",
   "execution_count": 264,
   "id": "1eacc107",
   "metadata": {
    "ExecuteTime": {
     "end_time": "2021-10-05T04:53:52.254526Z",
     "start_time": "2021-10-05T04:53:52.184906Z"
    }
   },
   "outputs": [
    {
     "data": {
      "text/plain": [
       "2.18"
      ]
     },
     "execution_count": 264,
     "metadata": {},
     "output_type": "execute_result"
    }
   ],
   "source": [
    "np.mean([len(x) for x in pr_sets_05])"
   ]
  },
  {
   "cell_type": "code",
   "execution_count": null,
   "id": "0855ab6d",
   "metadata": {},
   "outputs": [],
   "source": []
  },
  {
   "cell_type": "code",
   "execution_count": null,
   "id": "87704541",
   "metadata": {},
   "outputs": [],
   "source": []
  },
  {
   "cell_type": "code",
   "execution_count": 193,
   "id": "74c9f7dd",
   "metadata": {
    "ExecuteTime": {
     "end_time": "2021-10-04T02:40:53.637915Z",
     "start_time": "2021-10-04T02:40:52.684757Z"
    }
   },
   "outputs": [],
   "source": [
    "ds_clean = tfds.as_numpy(tfds.load('cifar10_corrupted',\n",
    "               split='test',\n",
    "               batch_size=-1,\n",
    "               as_supervised=True,\n",
    "               shuffle_files=False))\n",
    "\n",
    "ds_fog1 = tfds.as_numpy(tfds.load('cifar10_corrupted/fog_1',\n",
    "               split='test',\n",
    "               batch_size=-1,\n",
    "               as_supervised=True,\n",
    "               shuffle_files=False))\n",
    "\n",
    "ds_fog3 = tfds.as_numpy(tfds.load('cifar10_corrupted/fog_3',\n",
    "               split='test',\n",
    "               batch_size=-1,\n",
    "               as_supervised=True,\n",
    "               shuffle_files=False))\n",
    "\n",
    "ds_fog5 = tfds.as_numpy(tfds.load('cifar10_corrupted/fog_5',\n",
    "               split='test',\n",
    "               batch_size=-1,\n",
    "               as_supervised=True,\n",
    "               shuffle_files=False))"
   ]
  },
  {
   "cell_type": "code",
   "execution_count": 194,
   "id": "9c743a09",
   "metadata": {
    "ExecuteTime": {
     "end_time": "2021-10-04T02:42:00.788810Z",
     "start_time": "2021-10-04T02:42:00.257720Z"
    }
   },
   "outputs": [],
   "source": [
    "#preprocess all\n",
    "\n",
    "x_clean = ds_clean[0].astype('float32') / 255\n",
    "x_clean -= x_train_mean\n",
    "y_clean = keras.utils.to_categorical(ds_clean[1], num_classes)\n",
    "\n",
    "x_fog1 = ds_fog1[0].astype('float32') / 255\n",
    "x_fog1 -= x_train_mean\n",
    "y_fog1 = keras.utils.to_categorical(ds_fog1[1], num_classes)\n",
    "\n",
    "x_fog3 = ds_fog3[0].astype('float32') / 255\n",
    "x_fog3 -= x_train_mean\n",
    "y_fog3 = keras.utils.to_categorical(ds_fog3[1], num_classes)\n",
    "\n",
    "x_fog5 = ds_fog5[0].astype('float32') / 255\n",
    "x_fog5 -= x_train_mean\n",
    "y_fog5 = keras.utils.to_categorical(ds_fog5[1], num_classes)"
   ]
  },
  {
   "cell_type": "code",
   "execution_count": 195,
   "id": "ec5715b9",
   "metadata": {
    "ExecuteTime": {
     "end_time": "2021-10-04T02:42:28.356664Z",
     "start_time": "2021-10-04T02:42:13.524921Z"
    }
   },
   "outputs": [
    {
     "name": "stdout",
     "output_type": "stream",
     "text": [
      "313/313 [==============================] - 15s 47ms/step - loss: 0.9281 - accuracy: 0.7942\n"
     ]
    },
    {
     "data": {
      "text/plain": [
       "[0.9280756115913391, 0.7942000031471252]"
      ]
     },
     "execution_count": 195,
     "metadata": {},
     "output_type": "execute_result"
    }
   ],
   "source": [
    "model.evaluate(x_clean,y_clean)"
   ]
  },
  {
   "cell_type": "code",
   "execution_count": 196,
   "id": "bc36c984",
   "metadata": {
    "ExecuteTime": {
     "end_time": "2021-10-04T02:42:44.544521Z",
     "start_time": "2021-10-04T02:42:28.358685Z"
    }
   },
   "outputs": [
    {
     "name": "stdout",
     "output_type": "stream",
     "text": [
      "313/313 [==============================] - 16s 51ms/step - loss: 0.9618 - accuracy: 0.7811\n"
     ]
    },
    {
     "data": {
      "text/plain": [
       "[0.9617635011672974, 0.7810999751091003]"
      ]
     },
     "execution_count": 196,
     "metadata": {},
     "output_type": "execute_result"
    }
   ],
   "source": [
    "model.evaluate(x_fog1,y_fog1)"
   ]
  },
  {
   "cell_type": "code",
   "execution_count": 197,
   "id": "46e8257d",
   "metadata": {
    "ExecuteTime": {
     "end_time": "2021-10-04T02:43:01.366892Z",
     "start_time": "2021-10-04T02:42:44.547117Z"
    }
   },
   "outputs": [
    {
     "name": "stdout",
     "output_type": "stream",
     "text": [
      "313/313 [==============================] - 17s 53ms/step - loss: 1.2497 - accuracy: 0.7022\n"
     ]
    },
    {
     "data": {
      "text/plain": [
       "[1.249686360359192, 0.7021999955177307]"
      ]
     },
     "execution_count": 197,
     "metadata": {},
     "output_type": "execute_result"
    }
   ],
   "source": [
    "model.evaluate(x_fog3,y_fog3)"
   ]
  },
  {
   "cell_type": "code",
   "execution_count": 198,
   "id": "edaa42c5",
   "metadata": {
    "ExecuteTime": {
     "end_time": "2021-10-04T02:43:18.401427Z",
     "start_time": "2021-10-04T02:43:01.376782Z"
    }
   },
   "outputs": [
    {
     "name": "stdout",
     "output_type": "stream",
     "text": [
      "313/313 [==============================] - 17s 54ms/step - loss: 2.1484 - accuracy: 0.4942\n"
     ]
    },
    {
     "data": {
      "text/plain": [
       "[2.148421049118042, 0.4941999912261963]"
      ]
     },
     "execution_count": 198,
     "metadata": {},
     "output_type": "execute_result"
    }
   ],
   "source": [
    "model.evaluate(x_fog5,y_fog5)"
   ]
  },
  {
   "cell_type": "code",
   "execution_count": 218,
   "id": "ed80a2b7",
   "metadata": {
    "ExecuteTime": {
     "end_time": "2021-10-04T02:46:27.632871Z",
     "start_time": "2021-10-04T02:46:27.562387Z"
    },
    "scrolled": true
   },
   "outputs": [
    {
     "data": {
      "text/plain": [
       "(array([   4,   23,   39,   41,   44,   48,   55,   57,   65,   67,   72,\n",
       "          76,   83,   94,  123,  127,  130,  138,  147,  155,  156,  184,\n",
       "         197,  199,  205,  206,  215,  245,  270,  278,  279,  282,  285,\n",
       "         302,  307,  314,  329,  330,  359,  369,  375,  377,  383,  398,\n",
       "         407,  423,  424,  431,  434,  439,  452,  457,  458,  465,  487,\n",
       "         488,  491,  501,  531,  548,  550,  567,  577,  607,  616,  626,\n",
       "         628,  668,  669,  679,  689,  699,  710,  712,  714,  732,  746,\n",
       "         749,  764,  774,  777,  778,  782,  784,  793,  804,  817,  822,\n",
       "         832,  848,  862,  873,  877,  892,  893,  915,  921,  944,  957,\n",
       "         982,  995,  997,  999, 1007, 1008, 1009, 1019, 1038, 1045, 1052,\n",
       "        1061, 1068, 1074, 1078, 1098, 1100, 1103, 1109, 1111, 1118, 1121,\n",
       "        1127, 1129, 1136, 1155, 1156, 1162, 1167, 1185, 1187, 1190, 1201,\n",
       "        1215, 1216, 1231, 1241, 1244, 1267, 1284, 1290, 1305, 1311, 1338,\n",
       "        1364, 1366, 1372, 1403, 1404, 1405, 1411, 1434, 1443, 1444, 1445,\n",
       "        1447, 1483, 1492, 1498, 1526, 1536, 1538, 1542, 1546, 1547, 1552,\n",
       "        1554, 1559, 1564, 1566, 1567, 1574, 1579, 1588, 1598, 1620, 1622,\n",
       "        1629, 1649, 1657, 1662, 1683, 1690, 1716, 1723, 1737, 1743, 1747,\n",
       "        1753, 1755, 1772, 1773, 1780, 1785, 1808, 1820, 1839, 1841, 1842,\n",
       "        1851, 1863, 1871, 1897, 1898, 1906, 1909, 1918, 1934, 1936, 1946,\n",
       "        1958, 1959, 1961, 1966, 1979, 1987, 1991, 1999, 2003, 2022, 2031,\n",
       "        2037, 2044, 2046, 2050, 2132, 2139, 2148, 2159, 2165, 2167, 2173,\n",
       "        2193, 2209, 2250, 2251, 2255, 2268, 2274, 2281, 2309, 2317, 2330,\n",
       "        2337, 2346, 2347, 2351, 2353, 2357, 2361, 2365, 2372, 2382, 2384,\n",
       "        2390, 2400, 2443, 2447, 2465, 2467, 2485, 2488, 2499, 2501, 2515,\n",
       "        2516, 2518, 2522, 2562, 2568, 2572, 2595, 2602, 2613, 2630, 2631,\n",
       "        2637, 2672, 2688, 2689, 2717, 2767, 2774, 2775, 2780, 2782, 2790,\n",
       "        2809, 2827, 2833, 2852, 2867, 2868, 2870, 2879, 2887, 2891, 2917,\n",
       "        2926, 2934, 2937, 2938, 2967, 2968, 2979, 2983, 3013, 3026, 3038,\n",
       "        3039, 3041, 3046, 3055, 3075, 3091, 3098, 3100, 3105, 3108, 3109,\n",
       "        3138, 3166, 3177, 3178, 3188, 3193, 3209, 3232, 3271, 3280, 3291,\n",
       "        3293, 3305, 3309, 3317, 3326, 3338, 3352, 3378, 3380, 3381, 3382,\n",
       "        3394, 3399, 3400, 3405, 3417, 3429, 3439, 3456, 3460, 3462, 3464,\n",
       "        3467, 3480, 3483, 3499, 3503, 3514, 3516, 3518, 3524, 3531, 3534,\n",
       "        3538, 3541, 3546, 3555, 3557, 3566, 3568, 3576, 3582, 3605, 3606,\n",
       "        3607, 3623, 3625, 3629, 3652, 3657, 3661, 3662, 3688, 3690, 3693,\n",
       "        3710, 3726, 3729, 3730, 3733, 3735, 3746, 3752, 3767, 3768, 3778,\n",
       "        3781, 3783, 3791, 3808, 3815, 3818, 3848, 3849, 3855, 3857, 3858,\n",
       "        3868, 3881, 3907, 3919, 3928, 3983, 4019, 4026, 4027, 4038, 4059,\n",
       "        4060, 4061, 4068, 4070, 4072, 4087, 4095, 4098, 4102, 4133, 4140,\n",
       "        4149, 4153, 4168, 4171, 4175, 4177, 4180, 4207, 4221, 4224, 4245,\n",
       "        4247, 4248, 4267, 4269, 4288, 4291, 4296, 4313, 4319, 4327, 4349,\n",
       "        4356, 4361, 4366, 4374, 4382, 4395, 4400, 4414, 4415, 4422, 4423,\n",
       "        4432, 4447, 4449, 4464, 4480, 4486, 4487, 4500, 4506, 4509, 4515,\n",
       "        4527, 4540, 4545, 4553, 4564, 4607, 4617, 4624, 4626, 4630, 4645,\n",
       "        4646, 4663, 4704, 4710, 4716, 4725, 4727, 4744, 4759, 4762, 4768,\n",
       "        4774, 4784, 4809, 4816, 4825, 4828, 4839, 4840, 4842, 4844, 4853,\n",
       "        4858, 4870, 4885, 4891, 4898, 4900, 4903, 4912, 4917, 4918, 4925,\n",
       "        4940, 4960, 4974, 4976, 4981, 4989, 4995, 5001, 5022, 5034, 5037,\n",
       "        5041, 5056, 5058, 5063, 5073, 5088, 5090, 5103, 5124, 5125, 5130,\n",
       "        5140, 5154, 5157, 5175, 5186, 5188, 5221, 5228, 5229, 5243, 5245,\n",
       "        5247, 5252, 5255, 5272, 5283, 5289, 5313, 5320, 5321, 5329, 5339,\n",
       "        5355, 5362, 5366, 5373, 5379, 5390, 5401, 5410, 5425, 5449, 5460,\n",
       "        5470, 5501, 5508, 5517, 5518, 5553, 5578, 5581, 5582, 5587, 5593,\n",
       "        5597, 5603, 5605, 5612, 5619, 5650, 5652, 5669, 5685, 5691, 5706,\n",
       "        5715, 5723, 5741, 5744, 5748, 5765, 5782, 5794, 5826, 5829, 5833,\n",
       "        5858, 5863, 5867, 5880, 5900, 5919, 5921, 5925, 5951, 5983, 6030,\n",
       "        6032, 6053, 6065, 6086, 6088, 6103, 6108, 6118, 6137, 6171, 6181,\n",
       "        6203, 6205, 6217, 6230, 6232, 6235, 6242, 6249, 6257, 6279, 6283,\n",
       "        6295, 6297, 6298, 6310, 6313, 6318, 6336, 6344, 6370, 6375, 6380,\n",
       "        6384, 6409, 6412, 6430, 6451, 6471, 6481, 6502, 6509, 6511, 6513,\n",
       "        6518, 6531, 6533, 6535, 6539, 6541, 6547, 6548, 6549, 6567, 6570,\n",
       "        6588, 6602, 6628, 6637, 6641, 6646, 6659, 6666, 6715, 6718, 6723,\n",
       "        6734, 6737, 6750, 6760, 6761, 6765, 6767, 6770, 6775, 6785, 6846,\n",
       "        6849, 6860, 6890, 6899, 6901, 6905, 6964, 6968, 6990, 6997, 7008,\n",
       "        7013, 7031, 7037, 7045, 7048, 7055, 7058, 7075, 7087, 7088, 7091,\n",
       "        7107, 7109, 7112, 7115, 7128, 7135, 7139, 7151, 7168, 7171, 7175,\n",
       "        7187, 7209, 7228, 7235, 7237, 7238, 7252, 7253, 7261, 7277, 7281,\n",
       "        7283, 7300, 7304, 7340, 7349, 7353, 7364, 7371, 7384, 7417, 7442,\n",
       "        7446, 7472, 7477, 7485, 7488, 7495, 7512, 7514, 7544, 7551, 7565,\n",
       "        7567, 7582, 7584, 7585, 7609, 7640, 7648, 7674, 7682, 7695, 7710,\n",
       "        7730, 7737, 7739, 7747, 7765, 7768, 7771, 7781, 7788, 7805, 7836,\n",
       "        7837, 7861, 7867, 7877, 7880, 7891, 7894, 7906, 7926, 7943, 7946,\n",
       "        7964, 7972, 7979, 7981, 7987, 8039, 8074, 8077, 8078, 8089, 8090,\n",
       "        8091, 8097, 8104, 8114, 8146, 8159, 8171, 8177, 8182, 8184, 8193,\n",
       "        8209, 8240, 8243, 8250, 8264, 8279, 8296, 8298, 8325, 8327, 8330,\n",
       "        8336, 8341, 8342, 8364, 8377, 8379, 8386, 8390, 8401, 8407, 8421,\n",
       "        8425, 8439, 8446, 8447, 8480, 8491, 8497, 8502, 8511, 8520, 8554,\n",
       "        8555, 8557, 8564, 8566, 8572, 8598, 8599, 8604, 8606, 8610, 8613,\n",
       "        8628, 8648, 8650, 8675, 8677, 8681, 8684, 8689, 8696, 8697, 8707,\n",
       "        8708, 8710, 8716, 8718, 8722, 8723, 8724, 8733, 8744, 8746, 8750,\n",
       "        8770, 8773, 8789, 8810, 8811, 8818, 8837, 8845, 8848, 8894, 8913,\n",
       "        8929, 8937, 8949, 8953, 8976, 8983, 9012, 9015, 9022, 9023, 9025,\n",
       "        9029, 9041, 9051, 9052, 9061, 9075, 9090, 9116, 9118, 9133, 9155,\n",
       "        9162, 9166, 9172, 9195, 9197, 9199, 9205, 9207, 9209, 9211, 9213,\n",
       "        9231, 9247, 9259, 9260, 9263, 9265, 9266, 9276, 9285, 9287, 9300,\n",
       "        9314, 9316, 9322, 9324, 9334, 9336, 9349, 9351, 9358, 9370, 9388,\n",
       "        9402, 9406, 9409, 9428, 9430, 9436, 9448, 9465, 9483, 9505, 9525,\n",
       "        9541, 9543, 9556, 9560, 9569, 9570, 9571, 9574, 9586, 9609, 9647,\n",
       "        9648, 9665, 9668, 9677, 9682, 9692, 9695, 9698, 9706, 9718, 9734,\n",
       "        9743, 9744, 9768, 9771, 9776, 9807, 9826, 9868, 9888, 9902, 9917,\n",
       "        9925, 9926, 9928, 9931, 9941, 9948, 9956, 9958, 9961, 9990]),)"
      ]
     },
     "execution_count": 218,
     "metadata": {},
     "output_type": "execute_result"
    }
   ],
   "source": [
    "np.where(ds_clean[1] ==5)"
   ]
  },
  {
   "cell_type": "code",
   "execution_count": 227,
   "id": "0983d8ed",
   "metadata": {
    "ExecuteTime": {
     "end_time": "2021-10-04T02:47:24.872542Z",
     "start_time": "2021-10-04T02:47:24.612374Z"
    }
   },
   "outputs": [
    {
     "data": {
      "image/png": "[encoded data removed]",
      "text/plain": [
       "<Figure size 864x432 with 1 Axes>"
      ]
     },
     "metadata": {},
     "output_type": "display_data"
    }
   ],
   "source": [
    "plt.imshow(x_clean[41]+ x_train_mean)\n",
    "plt.axis('off')\n",
    "plt.savefig('img/cifar10-c-clean.pdf', bbox_inches='tight')"
   ]
  },
  {
   "cell_type": "code",
   "execution_count": 228,
   "id": "9330967d",
   "metadata": {
    "ExecuteTime": {
     "end_time": "2021-10-04T02:47:30.053726Z",
     "start_time": "2021-10-04T02:47:29.822915Z"
    }
   },
   "outputs": [
    {
     "data": {
      "image/png": "[encoded data removed]",
      "text/plain": [
       "<Figure size 864x432 with 1 Axes>"
      ]
     },
     "metadata": {},
     "output_type": "display_data"
    }
   ],
   "source": [
    "plt.imshow(x_fog1[41]+ x_train_mean)\n",
    "plt.axis('off')\n",
    "plt.savefig('img/cifar10-c-fog1.pdf', bbox_inches='tight')"
   ]
  },
  {
   "cell_type": "code",
   "execution_count": 229,
   "id": "e775513e",
   "metadata": {
    "ExecuteTime": {
     "end_time": "2021-10-04T02:47:37.811111Z",
     "start_time": "2021-10-04T02:47:37.591878Z"
    }
   },
   "outputs": [
    {
     "data": {
      "image/png": "[encoded data removed]",
      "text/plain": [
       "<Figure size 864x432 with 1 Axes>"
      ]
     },
     "metadata": {},
     "output_type": "display_data"
    }
   ],
   "source": [
    "plt.imshow(x_fog3[41]+ x_train_mean)\n",
    "plt.axis('off')\n",
    "plt.savefig('img/cifar10-c-fog3.pdf', bbox_inches='tight')"
   ]
  },
  {
   "cell_type": "code",
   "execution_count": 230,
   "id": "2a47b8fd",
   "metadata": {
    "ExecuteTime": {
     "end_time": "2021-10-04T02:47:43.495364Z",
     "start_time": "2021-10-04T02:47:43.275799Z"
    }
   },
   "outputs": [
    {
     "data": {
      "image/png": "[encoded data removed]",
      "text/plain": [
       "<Figure size 864x432 with 1 Axes>"
      ]
     },
     "metadata": {},
     "output_type": "display_data"
    }
   ],
   "source": [
    "plt.imshow(x_fog5[41]+ x_train_mean)\n",
    "plt.axis('off')\n",
    "plt.savefig('img/cifar10-c-fog5.pdf', bbox_inches='tight')"
   ]
  },
  {
   "cell_type": "code",
   "execution_count": null,
   "id": "f51c0d88",
   "metadata": {},
   "outputs": [],
   "source": []
  },
  {
   "cell_type": "code",
   "execution_count": 199,
   "id": "cc186504",
   "metadata": {
    "ExecuteTime": {
     "end_time": "2021-10-04T02:44:12.534327Z",
     "start_time": "2021-10-04T02:44:12.454856Z"
    }
   },
   "outputs": [
    {
     "data": {
      "text/plain": [
       "(10000, 32, 32, 3)"
      ]
     },
     "execution_count": 199,
     "metadata": {},
     "output_type": "execute_result"
    }
   ],
   "source": [
    "x_clean.shape"
   ]
  },
  {
   "cell_type": "code",
   "execution_count": 180,
   "id": "8607fea7",
   "metadata": {
    "ExecuteTime": {
     "end_time": "2021-10-04T02:35:14.934204Z",
     "start_time": "2021-10-04T02:35:14.864045Z"
    }
   },
   "outputs": [
    {
     "data": {
      "text/plain": [
       "array([7, 0, 6, ..., 8, 6, 0])"
      ]
     },
     "execution_count": 180,
     "metadata": {},
     "output_type": "execute_result"
    }
   ],
   "source": [
    "ds_fog1[1]"
   ]
  },
  {
   "cell_type": "code",
   "execution_count": 178,
   "id": "6411fa29",
   "metadata": {
    "ExecuteTime": {
     "end_time": "2021-10-04T02:35:04.712455Z",
     "start_time": "2021-10-04T02:35:04.645086Z"
    }
   },
   "outputs": [
    {
     "data": {
      "text/plain": [
       "array([3, 8, 8, ..., 5, 1, 7])"
      ]
     },
     "execution_count": 178,
     "metadata": {},
     "output_type": "execute_result"
    }
   ],
   "source": [
    "y_test.argmax(axis=1)"
   ]
  },
  {
   "cell_type": "code",
   "execution_count": 181,
   "id": "6317bab3",
   "metadata": {
    "ExecuteTime": {
     "end_time": "2021-10-04T02:37:14.571404Z",
     "start_time": "2021-10-04T02:37:14.364194Z"
    }
   },
   "outputs": [],
   "source": [
    "x_fog1 = ds_fog1[0].astype('float32') / 255\n",
    "x_fog1 -= x_train_mean\n",
    "\n",
    "y_fog1 = keras.utils.to_categorical(ds_fog1[1], num_classes)"
   ]
  },
  {
   "cell_type": "code",
   "execution_count": 184,
   "id": "7e43daed",
   "metadata": {
    "ExecuteTime": {
     "end_time": "2021-10-04T02:38:30.485888Z",
     "start_time": "2021-10-04T02:38:30.276725Z"
    }
   },
   "outputs": [],
   "source": [
    "x_fog3 = ds_fog3[0].astype('float32') / 255\n",
    "x_fog3 -= x_train_mean\n",
    "\n",
    "y_fog3 = keras.utils.to_categorical(ds_fog3[1], num_classes)"
   ]
  },
  {
   "cell_type": "code",
   "execution_count": 185,
   "id": "bf497156",
   "metadata": {
    "ExecuteTime": {
     "end_time": "2021-10-04T02:38:52.617480Z",
     "start_time": "2021-10-04T02:38:38.935346Z"
    }
   },
   "outputs": [
    {
     "name": "stdout",
     "output_type": "stream",
     "text": [
      "313/313 [==============================] - 14s 43ms/step - loss: 1.2497 - accuracy: 0.7022\n"
     ]
    },
    {
     "data": {
      "text/plain": [
       "[1.249686360359192, 0.7021999955177307]"
      ]
     },
     "execution_count": 185,
     "metadata": {},
     "output_type": "execute_result"
    }
   ],
   "source": [
    "model.evaluate(x_fog3,y_fog3)"
   ]
  },
  {
   "cell_type": "code",
   "execution_count": 182,
   "id": "9ef5a049",
   "metadata": {
    "ExecuteTime": {
     "end_time": "2021-10-04T02:37:42.873071Z",
     "start_time": "2021-10-04T02:37:29.171726Z"
    }
   },
   "outputs": [
    {
     "name": "stdout",
     "output_type": "stream",
     "text": [
      "313/313 [==============================] - 14s 43ms/step - loss: 0.9618 - accuracy: 0.7811\n"
     ]
    },
    {
     "data": {
      "text/plain": [
       "[0.9617635011672974, 0.7810999751091003]"
      ]
     },
     "execution_count": 182,
     "metadata": {},
     "output_type": "execute_result"
    }
   ],
   "source": [
    "model.evaluate(x_fog1,y_fog1)"
   ]
  },
  {
   "cell_type": "code",
   "execution_count": null,
   "id": "cb5a2ded",
   "metadata": {},
   "outputs": [],
   "source": [
    "l1, = plt.plot((np.arange(num_of_batches) + 1) * batch_size,\n",
    "               clean_mean,\n",
    "               color='dimgray',\n",
    "               marker='*',\n",
    "               label='Clean')\n",
    "\n",
    "plt.fill_between((np.arange(num_of_batches) + 1) * batch_size,\n",
    "                 y1=clean_mean - 2 * clean_std / np.sqrt(num_of_repeats),\n",
    "                 y2=clean_mean + 2 * clean_std / np.sqrt(num_of_repeats),\n",
    "                 color='goldenrod',\n",
    "                 alpha=0.5)\n",
    "\n",
    "l2, = plt.plot((np.arange(num_of_batches) + 1) * batch_size,\n",
    "               translate_mean,\n",
    "               color='indianred',\n",
    "               marker='*',\n",
    "               label='Fog')\n",
    "\n",
    "plt.fill_between((np.arange(num_of_batches) + 1) * batch_size,\n",
    "                 y1=translate_mean - 2 * translate_std / np.sqrt(num_of_repeats),\n",
    "                 y2=translate_mean + 2 * translate_std / np.sqrt(num_of_repeats),\n",
    "                 color='indianred',\n",
    "                 alpha=0.5)\n",
    "\n",
    "l3, = plt.plot((np.arange(num_of_batches) + 1) * batch_size,\n",
    "               zigzag_mean,\n",
    "               color='steelblue',\n",
    "               marker='*',\n",
    "               label='Zigzag')\n",
    "\n",
    "plt.fill_between((np.arange(num_of_batches) + 1) * batch_size,\n",
    "                 y1=zigzag_mean - 2 * fog_std / np.sqrt(num_of_repeats),\n",
    "                 y2=zigzag_mean + 2 * fog_std / np.sqrt(num_of_repeats),\n",
    "                 color='steelblue',\n",
    "                 alpha=0.5)\n",
    "\n",
    "l4, = plt.plot((np.arange(num_of_batches) + 1) * batch_size,\n",
    "               motion_mean,\n",
    "               color='mediumaquamarine',\n",
    "               marker='*',\n",
    "               label='Motion')\n",
    "\n",
    "plt.fill_between((np.arange(num_of_batches) + 1) * batch_size,\n",
    "                 y1=motion_mean - 2 * fog_std / np.sqrt(num_of_repeats),\n",
    "                 y2=motion_mean + 2 * fog_std / np.sqrt(num_of_repeats),\n",
    "                 color='mediumaquamarine',\n",
    "                 alpha=0.5)\n",
    "\n",
    "l5 = plt.axhline(tester.source_rejection_threshold,\n",
    "                 linestyle='dashed',\n",
    "                 c='goldenrod',\n",
    "                 label='Rejection threshold: ' +\n",
    "                 r'$\\widehat{U}_S(f) + \\varepsilon_{\\mathrm{tol}}$')\n",
    "\n",
    "plt.xlabel('Number of samples from the target domain', fontsize=23)\n",
    "plt.ylabel('Misclassification risk', fontsize=23)\n",
    "\n",
    "# plt.legend(loc='best', markerscale=1.5, prop={'size': 20})\n",
    "\n",
    "p5, = plt.plot([0.15], marker='None', linestyle='None', label='dummy-tophead')\n",
    "\n",
    "plt.ylabel('Misclassification risk', fontsize=23)\n",
    "plt.xlabel('Number of samples from the target domain', fontsize=23)\n",
    "\n",
    "categories = [\n",
    "    'Test rejection threshold: ' +\n",
    "    r'$\\widehat{U}_S(f) + \\varepsilon_{\\mathrm{tol}}$',\n",
    "    r'$\\textbf{LCB on the target risk for:}$ ', 'Clean', 'Translate', 'Zigzag',\n",
    "    'Motion Blur'\n",
    "]\n",
    "\n",
    "leg4 = plt.legend([l5, p5, l1, l2, l3, l4],\n",
    "                  categories,\n",
    "                  loc=1,\n",
    "                  ncol=1,\n",
    "                  prop={'size': 20})  # Two columns, horizontal group labels\n",
    "\n",
    "# plt.ylim([-0.05,0.45])\n",
    "# plt.show()\n",
    "# plt.savefig('img/mnist_c_trained_once.pdf', bbox_inches='tight')"
   ]
  }
 ],
 "metadata": {
  "kernelspec": {
   "display_name": "Python 3 (ipykernel)",
   "language": "python",
   "name": "python3"
  },
  "language_info": {
   "codemirror_mode": {
    "name": "ipython",
    "version": 3
   },
   "file_extension": ".py",
   "mimetype": "text/x-python",
   "name": "python",
   "nbconvert_exporter": "python",
   "pygments_lexer": "ipython3",
   "version": "3.9.7"
  },
  "toc": {
   "base_numbering": 1,
   "nav_menu": {},
   "number_sections": true,
   "sideBar": true,
   "skip_h1_title": false,
   "title_cell": "Table of Contents",
   "title_sidebar": "Contents",
   "toc_cell": false,
   "toc_position": {},
   "toc_section_display": true,
   "toc_window_display": false
  }
 },
 "nbformat": 4,
 "nbformat_minor": 5
}
