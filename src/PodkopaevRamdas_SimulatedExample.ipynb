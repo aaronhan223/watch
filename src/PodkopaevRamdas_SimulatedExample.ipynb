{
 "cells": [
  {
   "cell_type": "code",
   "execution_count": 14,
   "metadata": {},
   "outputs": [],
   "source": [
    "from podkopaev_ramdas.concentrations import *\n",
    "from podkopaev_ramdas.tests import Drop_tester, misclas_losses\n",
    "\n",
    "from podkopaev_ramdas.baseline_alg import podkopaev_ramdas_algorithm1, podkopaev_ramdas_changepoint_detection\n",
    "import time\n",
    "\n",
    "## NOTE: Baseline could be implemented to run much faster if can run them all in parallel, and then stop at first alarm time\n"
   ]
  },
  {
   "cell_type": "code",
   "execution_count": 21,
   "metadata": {},
   "outputs": [],
   "source": [
    "## Simulated experiment setup \n",
    "\n",
    "## Source (calibration) datapoints\n",
    "n_cal = 10000\n",
    "cal_losses = np.random.binomial(n=1, p=0.1, size=n_cal) ## True source miscoverage risk = 0.1\n",
    "\n",
    "## Test datapoints\n",
    "n_test = 1000\n",
    "test_losses = np.random.binomial(n=1, p=0.25, size=n_test) ## True target miscoverage risk = 0.3\n",
    "\n"
   ]
  },
  {
   "cell_type": "code",
   "execution_count": 22,
   "metadata": {},
   "outputs": [
    {
     "name": "stdout",
     "output_type": "stream",
     "text": [
      "source_upper_bound_plus_tol (\\hatU_S(f) + \\epsilon) : 0.15553552763819095\n",
      "\n",
      "target_lower_bounds[t=0] (\\hatL_T^0(f)): 1e-05\n",
      "target_lower_bounds[t=50] (\\hatL_T^50(f)): 0.14071070351758797\n",
      "target_lower_bounds[t=100] (\\hatL_T^100(f)): 0.15076075376884426\n",
      "podkopaev_ramdas_algorithm1 alarm raised at test point 104!\n",
      "\n",
      "elapsed time in min :  0.0057585835456848145\n"
     ]
    }
   ],
   "source": [
    "## Sequential testing with algorithm 1 from Podkopaev and Ramdas\n",
    "start_time = time.time()\n",
    "podkopaev_ramdas_algorithm1(cal_losses, test_losses, verbose=True, stop_criterion='first_alarm')\n",
    "print(\"elapsed time in min : \", (time.time() - start_time)/60)\n"
   ]
  },
  {
   "cell_type": "code",
   "execution_count": 23,
   "metadata": {},
   "outputs": [
    {
     "name": "stderr",
     "output_type": "stream",
     "text": [
      "  2%|▉                                                    | 17/1000 [00:05<05:07,  3.20it/s]"
     ]
    },
    {
     "name": "stdout",
     "output_type": "stream",
     "text": [
      "\n",
      " source_UCB_tol :  0.15553552763819095\n",
      "target_max_LCBs[t=0] (max(\\hatL_T^0(f))): 1e-05\n",
      "target_max_LCBs[t=10] (max(\\hatL_T^10(f))): 0.015085075376884423\n",
      "first_alarm : 17\n"
     ]
    },
    {
     "name": "stderr",
     "output_type": "stream",
     "text": [
      "\n"
     ]
    },
    {
     "data": {
      "text/plain": [
       "(17,\n",
       " 0.15553552763819095,\n",
       " array([1.00000000e-05, 1.00000000e-05, 1.00000000e-05, 1.00000000e-05,\n",
       "        1.00000000e-05, 1.00000000e-05, 1.00000000e-05, 1.00000000e-05,\n",
       "        1.00000000e-05, 1.00000000e-05, 1.50850754e-02, 1.50850754e-02,\n",
       "        8.04104020e-02, 8.04104020e-02, 8.04104020e-02, 8.04104020e-02,\n",
       "        9.54854774e-02, 9.54854774e-02]))"
      ]
     },
     "execution_count": 23,
     "metadata": {},
     "output_type": "execute_result"
    }
   ],
   "source": [
    "## Changepoint detection by a run of algorithm 1 from Podkopaev and Ramdas at every time t\n",
    "## Ie, see \"From sequential testing to changepoint detection\" in that paper\n",
    "\n",
    "## NOTE: This method is currently slow, because it requries rerunning \n",
    "## algorithm 1 for every test point. \n",
    "\n",
    "podkopaev_ramdas_changepoint_detection(cal_losses, test_losses, verbose=True)\n",
    "\n"
   ]
  },
  {
   "cell_type": "code",
   "execution_count": 19,
   "metadata": {},
   "outputs": [
    {
     "name": "stdout",
     "output_type": "stream",
     "text": [
      "[0.0]\n",
      "[0.1, 1.1]\n",
      "[0.2, 1.2, 2.2]\n",
      "[0.3, 1.3, 2.3, 3.3]\n",
      "[0.4, 1.4, 2.4, 3.4, 4.4]\n"
     ]
    }
   ],
   "source": [
    "# ''' Checking submodule in podkopaev_ramdas_changepoint_detection; should output following:\n",
    "# [0.0]\n",
    "# [0.1, 1.1]\n",
    "# [0.2, 1.2, 2.2]\n",
    "# [0.3, 1.3, 2.3, 3.3]\n",
    "# [0.4, 1.4, 2.4, 3.4, 4.4]\n",
    "# '''\n",
    "\n",
    "# a = [0.0,0.1,0.2,0.3,0.4]\n",
    "# b =     [1.1,1.2,1.3,1.4]\n",
    "# c =         [2.2,2.3,2.4]\n",
    "# d =             [3.3,3.4]\n",
    "# e =                 [4.4]\n",
    "# list_of_arr = [a,b,c,d,e]\n",
    "\n",
    "# for t in range(5):\n",
    "\n",
    "#     ## get max LCB for that time\n",
    "#     target_LCBs_0_t = list_of_arr[:(t+1)] ## list of target_LCBs arrays for times 0, ..., t\n",
    "#     target_LCBs_t = [target_LCBs_0_t[i][t-i] for i in range(len(target_LCBs_0_t))]\n",
    "#     print(target_LCBs_t)\n",
    "    "
   ]
  },
  {
   "cell_type": "code",
   "execution_count": null,
   "metadata": {},
   "outputs": [],
   "source": []
  }
 ],
 "metadata": {
  "kernelspec": {
   "display_name": "Python 3 (ipykernel)",
   "language": "python",
   "name": "python3"
  },
  "language_info": {
   "codemirror_mode": {
    "name": "ipython",
    "version": 3
   },
   "file_extension": ".py",
   "mimetype": "text/x-python",
   "name": "python",
   "nbconvert_exporter": "python",
   "pygments_lexer": "ipython3",
   "version": "3.9.7"
  }
 },
 "nbformat": 4,
 "nbformat_minor": 4
}
