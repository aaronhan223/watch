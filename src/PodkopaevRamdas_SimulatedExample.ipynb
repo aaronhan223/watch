{
 "cells": [
  {
   "cell_type": "code",
   "execution_count": 1,
   "metadata": {},
   "outputs": [],
   "source": [
    "from podkopaev_ramdas.concentrations import *\n",
    "from podkopaev_ramdas.tests import Drop_tester, misclas_losses\n",
    "\n",
    "from podkopaev_ramdas.baseline_alg import podkopaev_ramdas_algorithm1, podkopaev_ramdas_changepoint_detection\n",
    "import time\n",
    "\n",
    "import numpy as np"
   ]
  },
  {
   "cell_type": "code",
   "execution_count": 2,
   "metadata": {},
   "outputs": [],
   "source": [
    "## Simulated experiment setup \n",
    "\n",
    "## Source (calibration) datapoints\n",
    "n_cal = 10000\n",
    "cal_losses = np.random.binomial(n=1, p=0.1, size=n_cal) ## True source miscoverage risk = 0.1\n",
    "\n",
    "## Test datapoints\n",
    "n_test_unshifted = 500\n",
    "n_test_shifted = 5000\n",
    "test_unshifted = np.random.binomial(n=1, p=0.1, size=n_test_unshifted)\n",
    "test_shifted = np.random.binomial(n=1, p=0.2, size=n_test_shifted)\n",
    "test_losses = np.concatenate((test_unshifted, test_shifted)) ## True target miscoverage risk = 0.3\n",
    "\n"
   ]
  },
  {
   "cell_type": "code",
   "execution_count": null,
   "metadata": {},
   "outputs": [],
   "source": [
    "## Sequential testing with algorithm 1 from Podkopaev and Ramdas\n",
    "start_time = time.time()\n",
    "podkopaev_ramdas_algorithm1(cal_losses, test_losses, verbose=True, stop_criterion='fixed_length')\n",
    "print(\"elapsed time in min : \", (time.time() - start_time)/60)\n"
   ]
  },
  {
   "cell_type": "code",
   "execution_count": 3,
   "metadata": {},
   "outputs": [
    {
     "name": "stdout",
     "output_type": "stream",
     "text": [
      "source_UCB_tol (\\hatU_S(f) + \\epsilon) : 0.11056055276381911\n",
      "\n",
      "target_max_LCBs[(t+1)*batch_size=50] (max(\\hatL_T^t(f))): 1e-05\n",
      "target_max_LCBs[(t+1)*batch_size=100] (max(\\hatL_T^t(f))): 1e-05\n",
      "target_max_LCBs[(t+1)*batch_size=150] (max(\\hatL_T^t(f))): 1e-05\n",
      "target_max_LCBs[(t+1)*batch_size=200] (max(\\hatL_T^t(f))): 1e-05\n",
      "target_max_LCBs[(t+1)*batch_size=250] (max(\\hatL_T^t(f))): 0.010060050251256282\n",
      "target_max_LCBs[(t+1)*batch_size=300] (max(\\hatL_T^t(f))): 0.015085075376884423\n",
      "target_max_LCBs[(t+1)*batch_size=350] (max(\\hatL_T^t(f))): 0.020110100502512565\n",
      "target_max_LCBs[(t+1)*batch_size=400] (max(\\hatL_T^t(f))): 0.020110100502512565\n",
      "target_max_LCBs[(t+1)*batch_size=450] (max(\\hatL_T^t(f))): 0.025135125628140707\n",
      "target_max_LCBs[(t+1)*batch_size=500] (max(\\hatL_T^t(f))): 0.025135125628140707\n",
      "target_max_LCBs[(t+1)*batch_size=550] (max(\\hatL_T^t(f))): 0.03518517587939699\n",
      "target_max_LCBs[(t+1)*batch_size=600] (max(\\hatL_T^t(f))): 0.040210201005025134\n",
      "target_max_LCBs[(t+1)*batch_size=650] (max(\\hatL_T^t(f))): 0.060310301507537696\n",
      "target_max_LCBs[(t+1)*batch_size=700] (max(\\hatL_T^t(f))): 0.10553552763819096\n",
      "target_max_LCBs[(t+1)*batch_size=750] (max(\\hatL_T^t(f))): 0.11558557788944725\n",
      "target_max_LCBs[(t+1)*batch_size=800] (max(\\hatL_T^t(f))): 0.12061060301507538\n",
      "target_max_LCBs[(t+1)*batch_size=850] (max(\\hatL_T^t(f))): 0.12061060301507538\n",
      "target_max_LCBs[(t+1)*batch_size=900] (max(\\hatL_T^t(f))): 0.12563562814070353\n",
      "target_max_LCBs[(t+1)*batch_size=950] (max(\\hatL_T^t(f))): 0.1306606532663317\n",
      "target_max_LCBs[(t+1)*batch_size=1000] (max(\\hatL_T^t(f))): 0.1306606532663317\n",
      "target_max_LCBs[(t+1)*batch_size=1050] (max(\\hatL_T^t(f))): 0.13568567839195983\n",
      "target_max_LCBs[(t+1)*batch_size=1100] (max(\\hatL_T^t(f))): 0.13568567839195983\n",
      "target_max_LCBs[(t+1)*batch_size=1150] (max(\\hatL_T^t(f))): 0.13568567839195983\n",
      "target_max_LCBs[(t+1)*batch_size=1200] (max(\\hatL_T^t(f))): 0.13568567839195983\n",
      "target_max_LCBs[(t+1)*batch_size=1250] (max(\\hatL_T^t(f))): 0.13568567839195983\n",
      "target_max_LCBs[(t+1)*batch_size=1300] (max(\\hatL_T^t(f))): 0.13568567839195983\n",
      "target_max_LCBs[(t+1)*batch_size=1350] (max(\\hatL_T^t(f))): 0.13568567839195983\n",
      "target_max_LCBs[(t+1)*batch_size=1400] (max(\\hatL_T^t(f))): 0.13568567839195983\n",
      "target_max_LCBs[(t+1)*batch_size=1450] (max(\\hatL_T^t(f))): 0.14071070351758797\n",
      "target_max_LCBs[(t+1)*batch_size=1500] (max(\\hatL_T^t(f))): 0.14071070351758797\n",
      "target_max_LCBs[(t+1)*batch_size=1550] (max(\\hatL_T^t(f))): 0.1457357286432161\n",
      "target_max_LCBs[(t+1)*batch_size=1600] (max(\\hatL_T^t(f))): 0.1457357286432161\n",
      "target_max_LCBs[(t+1)*batch_size=1650] (max(\\hatL_T^t(f))): 0.1457357286432161\n",
      "target_max_LCBs[(t+1)*batch_size=1700] (max(\\hatL_T^t(f))): 0.1457357286432161\n",
      "target_max_LCBs[(t+1)*batch_size=1750] (max(\\hatL_T^t(f))): 0.1457357286432161\n",
      "target_max_LCBs[(t+1)*batch_size=1800] (max(\\hatL_T^t(f))): 0.1457357286432161\n",
      "target_max_LCBs[(t+1)*batch_size=1850] (max(\\hatL_T^t(f))): 0.1457357286432161\n",
      "target_max_LCBs[(t+1)*batch_size=1900] (max(\\hatL_T^t(f))): 0.1457357286432161\n",
      "target_max_LCBs[(t+1)*batch_size=1950] (max(\\hatL_T^t(f))): 0.1457357286432161\n",
      "target_max_LCBs[(t+1)*batch_size=2000] (max(\\hatL_T^t(f))): 0.1457357286432161\n",
      "target_max_LCBs[(t+1)*batch_size=2050] (max(\\hatL_T^t(f))): 0.1457357286432161\n",
      "target_max_LCBs[(t+1)*batch_size=2100] (max(\\hatL_T^t(f))): 0.15076075376884426\n",
      "target_max_LCBs[(t+1)*batch_size=2150] (max(\\hatL_T^t(f))): 0.15076075376884426\n",
      "target_max_LCBs[(t+1)*batch_size=2200] (max(\\hatL_T^t(f))): 0.15076075376884426\n",
      "target_max_LCBs[(t+1)*batch_size=2250] (max(\\hatL_T^t(f))): 0.15076075376884426\n",
      "target_max_LCBs[(t+1)*batch_size=2300] (max(\\hatL_T^t(f))): 0.15076075376884426\n",
      "target_max_LCBs[(t+1)*batch_size=2350] (max(\\hatL_T^t(f))): 0.15076075376884426\n",
      "target_max_LCBs[(t+1)*batch_size=2400] (max(\\hatL_T^t(f))): 0.15076075376884426\n",
      "target_max_LCBs[(t+1)*batch_size=2450] (max(\\hatL_T^t(f))): 0.15076075376884426\n",
      "target_max_LCBs[(t+1)*batch_size=2500] (max(\\hatL_T^t(f))): 0.15076075376884426\n"
     ]
    },
    {
     "data": {
      "text/plain": [
       "(749,\n",
       " 0.11056055276381911,\n",
       " array([1.00000000e-05, 1.00000000e-05, 1.00000000e-05, 1.00000000e-05,\n",
       "        1.00600503e-02, 1.50850754e-02, 2.01101005e-02, 2.01101005e-02,\n",
       "        2.51351256e-02, 2.51351256e-02, 3.51851759e-02, 4.02102010e-02,\n",
       "        6.03103015e-02, 1.05535528e-01, 1.15585578e-01, 1.20610603e-01,\n",
       "        1.20610603e-01, 1.25635628e-01, 1.30660653e-01, 1.30660653e-01,\n",
       "        1.35685678e-01, 1.35685678e-01, 1.35685678e-01, 1.35685678e-01,\n",
       "        1.35685678e-01, 1.35685678e-01, 1.35685678e-01, 1.35685678e-01,\n",
       "        1.40710704e-01, 1.40710704e-01, 1.45735729e-01, 1.45735729e-01,\n",
       "        1.45735729e-01, 1.45735729e-01, 1.45735729e-01, 1.45735729e-01,\n",
       "        1.45735729e-01, 1.45735729e-01, 1.45735729e-01, 1.45735729e-01,\n",
       "        1.45735729e-01, 1.50760754e-01, 1.50760754e-01, 1.50760754e-01,\n",
       "        1.50760754e-01, 1.50760754e-01, 1.50760754e-01, 1.50760754e-01,\n",
       "        1.50760754e-01, 1.50760754e-01]))"
      ]
     },
     "execution_count": 3,
     "metadata": {},
     "output_type": "execute_result"
    }
   ],
   "source": [
    "## Changepoint detection by a run of algorithm 1 from Podkopaev and Ramdas at every time t\n",
    "## Ie, see \"From sequential testing to changepoint detection\" in that paper\n",
    "\n",
    "\n",
    "\n",
    "\n",
    "podkopaev_ramdas_changepoint_detection(cal_losses, test_losses, eps_tol=0.0, stop_criterion='fixed_length', verbose=True, batch_size=50)\n",
    "\n"
   ]
  },
  {
   "cell_type": "code",
   "execution_count": 19,
   "metadata": {},
   "outputs": [
    {
     "name": "stdout",
     "output_type": "stream",
     "text": [
      "[0.0]\n",
      "[0.1, 1.1]\n",
      "[0.2, 1.2, 2.2]\n",
      "[0.3, 1.3, 2.3, 3.3]\n",
      "[0.4, 1.4, 2.4, 3.4, 4.4]\n"
     ]
    }
   ],
   "source": [
    "# ''' Checking submodule in podkopaev_ramdas_changepoint_detection; should output following:\n",
    "# [0.0]\n",
    "# [0.1, 1.1]\n",
    "# [0.2, 1.2, 2.2]\n",
    "# [0.3, 1.3, 2.3, 3.3]\n",
    "# [0.4, 1.4, 2.4, 3.4, 4.4]\n",
    "# '''\n",
    "\n",
    "# a = [0.0,0.1,0.2,0.3,0.4]\n",
    "# b =     [1.1,1.2,1.3,1.4]\n",
    "# c =         [2.2,2.3,2.4]\n",
    "# d =             [3.3,3.4]\n",
    "# e =                 [4.4]\n",
    "# list_of_arr = [a,b,c,d,e]\n",
    "\n",
    "# for t in range(5):\n",
    "\n",
    "#     ## get max LCB for that time\n",
    "#     target_LCBs_0_t = list_of_arr[:(t+1)] ## list of target_LCBs arrays for times 0, ..., t\n",
    "#     target_LCBs_t = [target_LCBs_0_t[i][t-i] for i in range(len(target_LCBs_0_t))]\n",
    "#     print(target_LCBs_t)\n",
    "    "
   ]
  },
  {
   "cell_type": "code",
   "execution_count": null,
   "metadata": {},
   "outputs": [],
   "source": []
  }
 ],
 "metadata": {
  "kernelspec": {
   "display_name": "Python 3 (ipykernel)",
   "language": "python",
   "name": "python3"
  },
  "language_info": {
   "codemirror_mode": {
    "name": "ipython",
    "version": 3
   },
   "file_extension": ".py",
   "mimetype": "text/x-python",
   "name": "python",
   "nbconvert_exporter": "python",
   "pygments_lexer": "ipython3",
   "version": "3.9.7"
  }
 },
 "nbformat": 4,
 "nbformat_minor": 4
}
