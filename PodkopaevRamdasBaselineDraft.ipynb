{
 "cells": [
  {
   "cell_type": "code",
   "execution_count": null,
   "metadata": {},
   "outputs": [],
   "source": [
    "from Podkopaev_Ramdas_Code.utils.concentrations import *\n",
    "from utils.tests import Drop_tester,misclas_losses\n",
    "\n",
    "\n",
    "def podkopaev_ramdas_algorithm1(cal_test_losses, n_cal, source_conc_type='betting', target_conc_type='conj-bern', \\\n",
    "                                verbose, eps_tol=0.05):\n",
    "    \"\"\"\n",
    "    DRAFT implementation of Podkopaev & Ramdas baseline, i.e., algorithm 1 in that paper. \n",
    "\n",
    "    Parameters\n",
    "    ----------\n",
    "    cal_test_losses  : Losses for calibration (holdout) and test sets; for evaluating set losses, should be \n",
    "                      *mis*coverage indicators; (if evaluating point losses, would be conformity scores)\n",
    "    n_cal            : Number of calibration points.\n",
    "    source_conc_type : Concentration used for source UCB\n",
    "    target_conc_type : Concentration used for target LCB\n",
    "    eps_tol          : Epsilon tolerance\n",
    "\n",
    "    Returns\n",
    "    ------- \n",
    "    \"\"\"\n",
    "    \n",
    "    ## Index in test set of first alarm\n",
    "    alarm_idx = None\n",
    "    \n",
    "    ## cal and test losses:\n",
    "    cal_losses = cal_test_losses[:n_cal]\n",
    "    test_losses = cal_test_losses[n_cal:]\n",
    "    \n",
    "    \n",
    "    ## Set up Drop_tester for computer UCB on source risk and LCB on target risk\n",
    "    tester = Drop_tester()\n",
    "    tester.eps_tol = eps_tol\n",
    "    tester.source_conc_type = source_conc_type\n",
    "    tester.target_conc_type = target_conc_type\n",
    "    tester.change_type = 'absolute'\n",
    "    \n",
    "    \n",
    "    ## Estimate source risk UCB\n",
    "    tester.estimate_risk_source(cal_losses)\n",
    "    source_upper_bound_plus_tol = tester.source_rejection_threshold\n",
    "    \n",
    "    \n",
    "    ## Estimate target risk LCB (double check this, ie whether tester is storing running risk estimates)\n",
    "    T = len(test_losses)\n",
    "    target_lower_bounds = np.zeros(T)\n",
    "    \n",
    "    for t in range(T):\n",
    "        tester.estimate_risk_target(test_losses[t])\n",
    "        target_lower_bounds[t] = tester.target_risk_lower_bound\n",
    "    \n",
    "        if (target_lower_bounds[t] > source_upper_bound_plus_tol and alarm_idx is None):\n",
    "            alarm_idx = t\n",
    "            print(f'Alarm raise at test point {t}!')\n",
    "    \n",
    "    return alarm_idx, source_upper_bound_plus_tol, target_lower_bounds\n"
   ]
  }
 ],
 "metadata": {
  "kernelspec": {
   "display_name": "Python 3 (ipykernel)",
   "language": "python",
   "name": "python3"
  },
  "language_info": {
   "codemirror_mode": {
    "name": "ipython",
    "version": 3
   },
   "file_extension": ".py",
   "mimetype": "text/x-python",
   "name": "python",
   "nbconvert_exporter": "python",
   "pygments_lexer": "ipython3",
   "version": "3.9.7"
  }
 },
 "nbformat": 4,
 "nbformat_minor": 4
}
