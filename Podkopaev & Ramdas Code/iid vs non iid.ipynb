{
 "cells": [
  {
   "cell_type": "markdown",
   "metadata": {},
   "source": [
    "# Libraries"
   ]
  },
  {
   "cell_type": "code",
   "execution_count": 2,
   "metadata": {
    "ExecuteTime": {
     "end_time": "2021-10-03T23:20:48.625583Z",
     "start_time": "2021-10-03T23:20:46.744940Z"
    }
   },
   "outputs": [],
   "source": [
    "import numpy as np\n",
    "import matplotlib.pyplot as plt\n",
    "import seaborn as sns\n",
    "import matplotlib\n",
    "from sklearn.metrics import zero_one_loss\n",
    "\n",
    "%matplotlib inline"
   ]
  },
  {
   "cell_type": "code",
   "execution_count": 3,
   "metadata": {
    "ExecuteTime": {
     "end_time": "2021-10-03T23:20:48.636304Z",
     "start_time": "2021-10-03T23:20:48.627372Z"
    }
   },
   "outputs": [],
   "source": [
    "from utils.data_gen import compute_bayes_risk_binary, compute_bayes_risk_binary_label_shift,\\\n",
    "    generate_2d_example\n",
    "\n",
    "from utils.concentrations import hoeffding_ci_lower_limit,\\\n",
    "    hoeffding_ci_upper_limit\n",
    "from utils.concentrations import pm_bernstein_ci_upper_limit,\\\n",
    "    pm_bernstein_ci_lower_limit\n",
    "\n",
    "from utils.concentrations import pm_bernstein_lower_limit, pm_bernstein_upper_limit\n",
    "from utils.concentrations import pm_hoeffding_upper_limit, pm_hoeffding_lower_limit\n",
    "\n",
    "from utils.data_gen import LDA_predictor\n",
    "\n",
    "from utils.concentrations import betting_ci_lower_limit, betting_ci_upper_limit\n",
    "\n",
    "from utils.tests import Drop_tester,misclas_losses"
   ]
  },
  {
   "cell_type": "code",
   "execution_count": 4,
   "metadata": {
    "ExecuteTime": {
     "end_time": "2021-10-03T23:20:48.643218Z",
     "start_time": "2021-10-03T23:20:48.638882Z"
    }
   },
   "outputs": [],
   "source": [
    "sns.set(\n",
    "    style=\"whitegrid\",\n",
    "    font_scale=1.4,\n",
    "    rc={\n",
    "        \"lines.linewidth\": 2,\n",
    "        #             \"axes.facecolor\": \".9\",\n",
    "        'figure.figsize': (12, 6)\n",
    "    })\n",
    "sns.set_palette('Set2')\n",
    "matplotlib.rcParams['text.usetex'] = True"
   ]
  },
  {
   "cell_type": "code",
   "execution_count": 5,
   "metadata": {
    "ExecuteTime": {
     "end_time": "2021-10-03T23:20:48.649096Z",
     "start_time": "2021-10-03T23:20:48.645201Z"
    }
   },
   "outputs": [],
   "source": [
    "legend_dict = ['$\\{0\\}$', '$\\{1\\}$']\n",
    "clr1 = np.array([193, 142, 206]) / 256\n",
    "clr2 = np.array([125, 225, 125]) / 256\n",
    "colors = [clr1, clr2]\n",
    "\n",
    "color1 = np.array([244, 236, 118]) / 256\n",
    "color2 = np.array([110, 200, 235]) / 256\n",
    "color3 = np.array([233, 113, 183]) / 256"
   ]
  },
  {
   "cell_type": "code",
   "execution_count": 6,
   "metadata": {
    "ExecuteTime": {
     "end_time": "2021-10-03T23:20:48.723250Z",
     "start_time": "2021-10-03T23:20:48.687019Z"
    }
   },
   "outputs": [],
   "source": [
    "%load_ext autoreload\n",
    "%autoreload 2"
   ]
  },
  {
   "cell_type": "markdown",
   "metadata": {},
   "source": [
    "# Null vs alternative"
   ]
  },
  {
   "cell_type": "code",
   "execution_count": 7,
   "metadata": {
    "ExecuteTime": {
     "end_time": "2021-10-03T23:20:50.855020Z",
     "start_time": "2021-10-03T23:20:50.825644Z"
    }
   },
   "outputs": [],
   "source": [
    "mu_1 = np.array([1,0])\n",
    "mu_0 = np.array([-1,0])\n",
    "target_prob_class_1 = np.linspace(0.1,0.9,100)\n",
    "\n",
    "eps_tol = 0.05"
   ]
  },
  {
   "cell_type": "code",
   "execution_count": 8,
   "metadata": {
    "ExecuteTime": {
     "end_time": "2021-10-03T23:20:51.015701Z",
     "start_time": "2021-10-03T23:20:50.986255Z"
    }
   },
   "outputs": [],
   "source": [
    "risk_source = compute_bayes_risk_binary_label_shift(0.25, 0.25, mu_1,\n",
    "                                                    mu_0)[0][0]"
   ]
  },
  {
   "cell_type": "code",
   "execution_count": 9,
   "metadata": {
    "ExecuteTime": {
     "end_time": "2021-10-03T23:20:51.170352Z",
     "start_time": "2021-10-03T23:20:51.137926Z"
    }
   },
   "outputs": [
    {
     "data": {
      "text/plain": [
       "0.1270168302054692"
      ]
     },
     "execution_count": 9,
     "metadata": {},
     "output_type": "execute_result"
    }
   ],
   "source": [
    "risk_source"
   ]
  },
  {
   "cell_type": "code",
   "execution_count": 10,
   "metadata": {
    "ExecuteTime": {
     "end_time": "2021-10-03T23:20:51.458713Z",
     "start_time": "2021-10-03T23:20:51.429928Z"
    }
   },
   "outputs": [],
   "source": [
    "target_risks = list()"
   ]
  },
  {
   "cell_type": "code",
   "execution_count": 11,
   "metadata": {
    "ExecuteTime": {
     "end_time": "2021-10-03T23:20:51.723251Z",
     "start_time": "2021-10-03T23:20:51.659775Z"
    }
   },
   "outputs": [],
   "source": [
    "for cur_target_prob in target_prob_class_1:\n",
    "    target_risks += [\n",
    "        compute_bayes_risk_binary_label_shift(0.25, cur_target_prob, mu_1,\n",
    "                                              mu_0)[0][0]\n",
    "    ]\n",
    "target_risks = np.array(target_risks)"
   ]
  },
  {
   "cell_type": "code",
   "execution_count": 12,
   "metadata": {
    "ExecuteTime": {
     "end_time": "2021-10-03T23:20:52.088249Z",
     "start_time": "2021-10-03T23:20:52.059453Z"
    }
   },
   "outputs": [],
   "source": [
    "nulls = (target_risks-risk_source<=eps_tol)"
   ]
  },
  {
   "cell_type": "code",
   "execution_count": 13,
   "metadata": {
    "ExecuteTime": {
     "end_time": "2021-10-03T23:20:52.564655Z",
     "start_time": "2021-10-03T23:20:52.534770Z"
    }
   },
   "outputs": [
    {
     "data": {
      "text/plain": [
       "0.43939393939393945"
      ]
     },
     "execution_count": 13,
     "metadata": {},
     "output_type": "execute_result"
    }
   ],
   "source": [
    "target_prob_class_1[np.argmin(nulls == True)]"
   ]
  },
  {
   "cell_type": "code",
   "execution_count": 14,
   "metadata": {
    "ExecuteTime": {
     "end_time": "2021-10-03T23:20:54.217518Z",
     "start_time": "2021-10-03T23:20:52.805833Z"
    }
   },
   "outputs": [
    {
     "data": {
      "text/plain": [
       "Text(0.5, 0, 'Class 1 probability')"
      ]
     },
     "execution_count": 14,
     "metadata": {},
     "output_type": "execute_result"
    },
    {
     "data": {
      "image/png": "[encoded data removed]",
      "text/plain": [
       "<Figure size 864x432 with 1 Axes>"
      ]
     },
     "metadata": {},
     "output_type": "display_data"
    }
   ],
   "source": [
    "plt.scatter(target_prob_class_1[nulls],\n",
    "            target_risks[nulls],\n",
    "            label='Target risk, nulls')\n",
    "plt.scatter(target_prob_class_1[~nulls],\n",
    "            target_risks[~nulls],\n",
    "            label='Target risk, alternatives')\n",
    "plt.axhline(y=risk_source, linestyle='dashed', c='black', label='Source risk')\n",
    "plt.axvline(x=target_prob_class_1[np.argmin(nulls == True)], c='red')\n",
    "plt.legend(loc=2, markerscale=1.5, prop={'size': 20})\n",
    "plt.ylabel('Misclassification risk', fontsize=25)\n",
    "plt.xlabel('Class 1 probability', fontsize=25)\n",
    "# plt.show()\n",
    "# plt.savefig('img/nulls_vs_alternatives.pdf', bbox_inches='tight')"
   ]
  },
  {
   "cell_type": "markdown",
   "metadata": {},
   "source": [
    "# Comparison of betting and conjugate emp bernstein"
   ]
  },
  {
   "cell_type": "code",
   "execution_count": 15,
   "metadata": {
    "ExecuteTime": {
     "end_time": "2021-10-03T23:20:56.625544Z",
     "start_time": "2021-10-03T23:20:56.594515Z"
    }
   },
   "outputs": [],
   "source": [
    "num_of_repeats = 250\n",
    "num_of_batches_to_sample = 80\n",
    "\n",
    "size_of_batch = 25\n",
    "size_source_sample = 1000"
   ]
  },
  {
   "cell_type": "code",
   "execution_count": 16,
   "metadata": {
    "ExecuteTime": {
     "end_time": "2021-10-03T23:20:59.107265Z",
     "start_time": "2021-10-03T23:20:59.079728Z"
    }
   },
   "outputs": [],
   "source": [
    "mu_1 = np.array([1, 0])\n",
    "mu_0 = np.array([-1, 0])\n",
    "prob_class_1 = 0.25\n",
    "prob_class_0 = 1 - prob_class_1\n",
    "cov = np.eye(2)"
   ]
  },
  {
   "cell_type": "code",
   "execution_count": 17,
   "metadata": {
    "ExecuteTime": {
     "end_time": "2021-10-03T23:20:59.323596Z",
     "start_time": "2021-10-03T23:20:59.295291Z"
    }
   },
   "outputs": [],
   "source": [
    "clf = LDA_predictor()\n",
    "\n",
    "clf.mean_class_0 = mu_0\n",
    "clf.mean_class_1 = mu_1\n",
    "clf.class_0_prior = prob_class_0\n",
    "clf.class_1_prior = prob_class_1"
   ]
  },
  {
   "cell_type": "code",
   "execution_count": 18,
   "metadata": {
    "ExecuteTime": {
     "end_time": "2021-10-03T23:21:02.189669Z",
     "start_time": "2021-10-03T23:21:02.163158Z"
    }
   },
   "outputs": [],
   "source": [
    "eps_tol = 0"
   ]
  },
  {
   "cell_type": "code",
   "execution_count": 19,
   "metadata": {
    "ExecuteTime": {
     "end_time": "2021-10-03T23:21:02.431509Z",
     "start_time": "2021-10-03T23:21:02.403346Z"
    }
   },
   "outputs": [],
   "source": [
    "tester_conj_bernstein = Drop_tester()\n",
    "tester_bernstein = Drop_tester()\n",
    "tester_betting = Drop_tester()\n",
    "\n",
    "tester_conj_bernstein.eps_tol = eps_tol\n",
    "tester_conj_bernstein.target_conc_type = 'conj-bern'\n",
    "\n",
    "\n",
    "tester_bernstein.eps_tol = eps_tol\n",
    "tester_bernstein.target_conc_type = 'pm_bernstein'\n",
    "\n",
    "\n",
    "tester_betting.eps_tol = eps_tol"
   ]
  },
  {
   "cell_type": "code",
   "execution_count": 81,
   "metadata": {
    "ExecuteTime": {
     "end_time": "2021-09-27T20:00:19.565501Z",
     "start_time": "2021-09-27T20:00:19.530914Z"
    }
   },
   "outputs": [],
   "source": [
    "conj_bern_target_lower_bounds = list()\n",
    "conj_bern_target_sample_sizes = list()\n",
    "\n",
    "pm_bern_target_lower_bounds = list()\n",
    "pm_bern_target_sample_sizes = list()\n",
    "\n",
    "bet_target_lower_bounds = list()\n",
    "bet_target_sample_sizes = list()\n",
    "\n",
    "conj_bern_rej_thrs = list()\n",
    "pm_bern_rej_thrs = list()\n",
    "bet_rej_thrs = list()"
   ]
  },
  {
   "cell_type": "code",
   "execution_count": 20,
   "metadata": {
    "ExecuteTime": {
     "end_time": "2021-10-03T23:21:12.469845Z",
     "start_time": "2021-10-03T23:21:12.443473Z"
    }
   },
   "outputs": [],
   "source": [
    "target_prob_class_1 = 0.75"
   ]
  },
  {
   "cell_type": "code",
   "execution_count": 83,
   "metadata": {
    "ExecuteTime": {
     "end_time": "2021-09-27T20:17:14.479897Z",
     "start_time": "2021-09-27T20:00:20.730586Z"
    }
   },
   "outputs": [],
   "source": [
    "for cur_sim in range(num_of_repeats):\n",
    "    conj_bern_target_lower_bounds += [[]]\n",
    "    conj_bern_target_sample_sizes += [[]]\n",
    "\n",
    "    pm_bern_target_lower_bounds += [[]]\n",
    "    pm_bern_target_sample_sizes += [[]]\n",
    "\n",
    "    bet_target_lower_bounds += [[]]\n",
    "    bet_target_sample_sizes += [[]]\n",
    "\n",
    "    X_val_source, y_val_source = generate_2d_example(0.25, mu_0, mu_1,\n",
    "                                                     size_source_sample)\n",
    "\n",
    "    y_pred_val = clf.predict(X_val_source)\n",
    "    ind_loss_source = misclas_losses(y_pred_val, y_val_source)\n",
    "    \n",
    "    tester_conj_bernstein.estimate_risk_source(ind_loss_source)\n",
    "    tester_bernstein.estimate_risk_source(ind_loss_source)\n",
    "    tester_betting.estimate_risk_source(ind_loss_source)\n",
    "\n",
    "    conj_bern_rej_thrs += [tester_conj_bernstein.source_rejection_threshold]\n",
    "    pm_bern_rej_thrs += [tester_bernstein.source_rejection_threshold]\n",
    "    bet_rej_thrs += [tester_betting.source_rejection_threshold]\n",
    "\n",
    "    X_new_target, y_new_target = generate_2d_example(\n",
    "        target_prob_class_1, mu_0, mu_1,\n",
    "        size_of_batch * num_of_batches_to_sample)\n",
    "    \n",
    "    y_pred_target = clf.predict(X_new_target)\n",
    "    ind_loss_target = misclas_losses(y_pred_target, y_new_target)\n",
    "\n",
    "\n",
    "    \n",
    "    for cur_batch in range(num_of_batches_to_sample):\n",
    "        cur_losses = ind_loss_target[0:(cur_batch + 1) * size_of_batch]\n",
    "        tester_conj_bernstein.estimate_risk_target(cur_losses)\n",
    "        conj_bern_target_lower_bounds[cur_sim] += [tester_conj_bernstein.target_risk_lower_bound]\n",
    "        conj_bern_target_sample_sizes[cur_sim] += [tester_conj_bernstein.target_num_of_samples_used]\n",
    "    \n",
    "    for cur_batch in range(num_of_batches_to_sample):\n",
    "        cur_losses = ind_loss_target[0:(cur_batch + 1) * size_of_batch]\n",
    "        tester_bernstein.estimate_risk_target(cur_losses)\n",
    "        pm_bern_target_lower_bounds[cur_sim] += [tester_bernstein.target_risk_lower_bound]\n",
    "        pm_bern_target_sample_sizes[cur_sim] += [tester_bernstein.target_num_of_samples_used]\n",
    "\n",
    "    for cur_batch in range(num_of_batches_to_sample):\n",
    "        cur_losses = ind_loss_target[0:(cur_batch + 1) * size_of_batch]\n",
    "        tester_betting.estimate_risk_target(cur_losses)\n",
    "        bet_target_lower_bounds[cur_sim] += [tester_betting.target_risk_lower_bound]\n",
    "        bet_target_sample_sizes[cur_sim] += [tester_betting.target_num_of_samples_used]\n",
    "    "
   ]
  },
  {
   "cell_type": "code",
   "execution_count": 25,
   "metadata": {
    "ExecuteTime": {
     "end_time": "2021-10-03T23:22:40.443599Z",
     "start_time": "2021-10-03T23:22:40.380074Z"
    }
   },
   "outputs": [],
   "source": [
    "from utils.tests import brier_scores"
   ]
  },
  {
   "cell_type": "code",
   "execution_count": 87,
   "metadata": {
    "ExecuteTime": {
     "end_time": "2021-09-27T20:19:40.619519Z",
     "start_time": "2021-09-27T20:19:40.137451Z"
    }
   },
   "outputs": [
    {
     "data": {
      "image/png": "[encoded data removed]",
      "text/plain": [
       "<Figure size 864x432 with 1 Axes>"
      ]
     },
     "metadata": {},
     "output_type": "display_data"
    }
   ],
   "source": [
    "l1, = plt.plot(bet_target_sample_sizes[0],\n",
    "               np.mean(bet_target_lower_bounds, axis=0),\n",
    "               label='Lower bound on the target risk, Betting',\n",
    "               color='indianred')\n",
    "\n",
    "plt.fill_between(\n",
    "    bet_target_sample_sizes[0],\n",
    "    y1=np.mean(bet_target_lower_bounds, axis=0) -\n",
    "    2 * np.std(bet_target_lower_bounds, axis=0) / np.sqrt(num_of_repeats),\n",
    "    y2=np.mean(bet_target_lower_bounds, axis=0) +\n",
    "    2 * np.std(bet_target_lower_bounds, axis=0) / np.sqrt(num_of_repeats),\n",
    "    alpha=0.3,\n",
    "    color='indianred')\n",
    "\n",
    "l2, = plt.plot(pm_bern_target_sample_sizes[0],\n",
    "               np.mean(pm_bern_target_lower_bounds, axis=0),\n",
    "               label='Lower bound on the target risk, PM-EB',\n",
    "               color='steelblue')\n",
    "\n",
    "plt.fill_between(\n",
    "    pm_bern_target_sample_sizes[0],\n",
    "    y1=np.mean(pm_bern_target_lower_bounds, axis=0) -\n",
    "    2 * np.std(pm_bern_target_lower_bounds, axis=0) / np.sqrt(num_of_repeats),\n",
    "    y2=np.mean(pm_bern_target_lower_bounds, axis=0) +\n",
    "    2 * np.std(pm_bern_target_lower_bounds, axis=0) / np.sqrt(num_of_repeats),\n",
    "    alpha=0.3,\n",
    "    color='steelblue')\n",
    "\n",
    "l3, = plt.plot(conj_bern_target_sample_sizes[0],\n",
    "               np.mean(conj_bern_target_lower_bounds, axis=0),\n",
    "               label='Lower bound on the target risk,  conj mixtures',\n",
    "               color='mediumaquamarine')\n",
    "\n",
    "plt.fill_between(\n",
    "    conj_bern_target_sample_sizes[0],\n",
    "    y1=np.mean(conj_bern_target_lower_bounds, axis=0) - 2 *\n",
    "    np.std(conj_bern_target_lower_bounds, axis=0) / np.sqrt(num_of_repeats),\n",
    "    y2=np.mean(conj_bern_target_lower_bounds, axis=0) + 2 *\n",
    "    np.std(conj_bern_target_lower_bounds, axis=0) / np.sqrt(num_of_repeats),\n",
    "    alpha=0.3,\n",
    "    color='mediumaquamarine')\n",
    "\n",
    "p5, = plt.plot([0.15], marker='None', linestyle='None', label='dummy-tophead')\n",
    "\n",
    "l4, = plt.plot(conj_bern_target_sample_sizes[0],\n",
    "               np.repeat(np.mean(conj_bern_rej_thrs, axis=0),\n",
    "                         len(conj_bern_target_sample_sizes[0])),\n",
    "               linestyle='dashed',\n",
    "               color='goldenrod',\n",
    "               alpha=0.7)\n",
    "\n",
    "# l4 = plt.axhline(y=np.mean(conj_bern_rej_thrs),\n",
    "#                  linestyle='dashed',\n",
    "#                  c='goldenrod',\n",
    "#                  alpha=0.7)\n",
    "\n",
    "plt.fill_between(\n",
    "    conj_bern_target_sample_sizes[0],\n",
    "    y1=np.mean(conj_bern_rej_thrs, axis=0) - 2 *\n",
    "    np.std(conj_bern_rej_thrs, axis=0) / np.sqrt(num_of_repeats),\n",
    "    y2=np.mean(conj_bern_rej_thrs, axis=0) +\n",
    "    2 * np.std(conj_bern_rej_thrs, axis=0) / np.sqrt(num_of_repeats),\n",
    "    alpha=0.3,\n",
    "    color='goldenrod')\n",
    "\n",
    "categories = [\n",
    "    'UCB on the source risk', r'$\\textbf{LCB on the target risk via:}$ ',\n",
    "    'Betting', 'PM-EB', 'CM-EB'\n",
    "]\n",
    "\n",
    "leg4 = plt.legend([l4, p5, l1, l2, l3],\n",
    "                  categories,\n",
    "                  loc=4,\n",
    "                  ncol=1,\n",
    "                  prop={'size': 20})  # Two columns, horizontal group labels\n",
    "\n",
    "plt.ylabel('Misclassification risk', fontsize=23)\n",
    "plt.xlabel('Number of samples from the target domain', fontsize=23)\n",
    "plt.savefig('img/lower_bounds_misclas.pdf', bbox_inches='tight')"
   ]
  },
  {
   "cell_type": "markdown",
   "metadata": {},
   "source": [
    "# Comparison of betting and conjugate emp bernstein /// Brier score"
   ]
  },
  {
   "cell_type": "code",
   "execution_count": 37,
   "metadata": {
    "ExecuteTime": {
     "end_time": "2021-10-03T23:25:34.694847Z",
     "start_time": "2021-10-03T23:25:34.655510Z"
    }
   },
   "outputs": [],
   "source": [
    "clf = LDA_predictor()\n",
    "\n",
    "clf.mean_class_0 = mu_0\n",
    "clf.mean_class_1 = mu_1\n",
    "clf.class_0_prior = prob_class_0\n",
    "clf.class_1_prior = prob_class_1\n",
    "\n",
    "clf.predict_both_classes=True"
   ]
  },
  {
   "cell_type": "code",
   "execution_count": 42,
   "metadata": {
    "ExecuteTime": {
     "end_time": "2021-10-03T23:26:32.860067Z",
     "start_time": "2021-10-03T23:26:32.819936Z"
    }
   },
   "outputs": [],
   "source": [
    "tester_conj_bernstein = Drop_tester()\n",
    "tester_bernstein = Drop_tester()\n",
    "tester_betting = Drop_tester()\n",
    "\n",
    "tester_conj_bernstein.eps_tol = eps_tol\n",
    "tester_conj_bernstein.target_conc_type = 'conj-bern'\n",
    "tester_conj_bernstein.change_type = 'relative'\n",
    "\n",
    "tester_bernstein.eps_tol = eps_tol\n",
    "tester_bernstein.source_conc_type = 'betting'\n",
    "tester_bernstein.target_conc_type = 'pm_bernstein'\n",
    "tester_bernstein.change_type = 'relative'\n",
    "# tester_betting_bernstein.model = clf\n",
    "# tester_betting_bernstein.eps_tol = eps_tol\n",
    "# tester_betting_bernstein.source_conc_type = 'betting'\n",
    "# tester_betting_bernstein.target_conc_type = 'pm_bernstein'\n",
    "\n",
    "tester_betting.eps_tol = eps_tol\n",
    "tester_betting.change_type = 'relative'\n",
    "# tester_betting.source_conc_type = 'betting'\n",
    "# tester_betting.target_conc_type = 'betting'"
   ]
  },
  {
   "cell_type": "code",
   "execution_count": 43,
   "metadata": {
    "ExecuteTime": {
     "end_time": "2021-10-03T23:26:33.069193Z",
     "start_time": "2021-10-03T23:26:33.041199Z"
    }
   },
   "outputs": [],
   "source": [
    "conj_bern_target_lower_bounds = list()\n",
    "conj_bern_target_sample_sizes = list()\n",
    "\n",
    "pm_bern_target_lower_bounds = list()\n",
    "pm_bern_target_sample_sizes = list()\n",
    "\n",
    "bet_target_lower_bounds = list()\n",
    "bet_target_sample_sizes = list()\n",
    "\n",
    "conj_bern_rej_thrs = list()\n",
    "pm_bern_rej_thrs = list()\n",
    "bet_rej_thrs = list()"
   ]
  },
  {
   "cell_type": "code",
   "execution_count": 44,
   "metadata": {
    "ExecuteTime": {
     "end_time": "2021-10-03T23:49:04.042016Z",
     "start_time": "2021-10-03T23:26:33.519830Z"
    }
   },
   "outputs": [],
   "source": [
    "for cur_sim in range(num_of_repeats):\n",
    "    conj_bern_target_lower_bounds += [[]]\n",
    "    conj_bern_target_sample_sizes += [[]]\n",
    "\n",
    "    pm_bern_target_lower_bounds += [[]]\n",
    "    pm_bern_target_sample_sizes += [[]]\n",
    "\n",
    "    bet_target_lower_bounds += [[]]\n",
    "    bet_target_sample_sizes += [[]]\n",
    "\n",
    "    X_val_source, y_val_source = generate_2d_example(0.25, mu_0, mu_1,\n",
    "                                                     size_source_sample)\n",
    "\n",
    "    y_pred_val = clf.predict_proba(X_val_source)\n",
    "    ind_loss_source = brier_scores(y_val_source,y_pred_val)\n",
    "    \n",
    "    tester_conj_bernstein.estimate_risk_source(ind_loss_source)\n",
    "    tester_bernstein.estimate_risk_source(ind_loss_source)\n",
    "    tester_betting.estimate_risk_source(ind_loss_source)\n",
    "\n",
    "    conj_bern_rej_thrs += [tester_conj_bernstein.source_rejection_threshold]\n",
    "    pm_bern_rej_thrs += [tester_bernstein.source_rejection_threshold]\n",
    "    bet_rej_thrs += [tester_betting.source_rejection_threshold]\n",
    "\n",
    "    X_new_target, y_new_target = generate_2d_example(\n",
    "        target_prob_class_1, mu_0, mu_1,\n",
    "        size_of_batch * num_of_batches_to_sample)\n",
    "    \n",
    "    y_pred_target = clf.predict_proba(X_new_target)\n",
    "    ind_loss_target = brier_scores(y_new_target, y_pred_target)\n",
    "\n",
    "\n",
    "    \n",
    "    for cur_batch in range(num_of_batches_to_sample):\n",
    "        cur_losses = ind_loss_target[0:(cur_batch + 1) * size_of_batch]\n",
    "        tester_conj_bernstein.estimate_risk_target(cur_losses)\n",
    "        conj_bern_target_lower_bounds[cur_sim] += [tester_conj_bernstein.target_risk_lower_bound]\n",
    "        conj_bern_target_sample_sizes[cur_sim] += [tester_conj_bernstein.target_num_of_samples_used]\n",
    "    \n",
    "    for cur_batch in range(num_of_batches_to_sample):\n",
    "        cur_losses = ind_loss_target[0:(cur_batch + 1) * size_of_batch]\n",
    "        tester_bernstein.estimate_risk_target(cur_losses)\n",
    "        pm_bern_target_lower_bounds[cur_sim] += [tester_bernstein.target_risk_lower_bound]\n",
    "        pm_bern_target_sample_sizes[cur_sim] += [tester_bernstein.target_num_of_samples_used]\n",
    "\n",
    "    for cur_batch in range(num_of_batches_to_sample):\n",
    "        cur_losses = ind_loss_target[0:(cur_batch + 1) * size_of_batch]\n",
    "        tester_betting.estimate_risk_target(cur_losses)\n",
    "        bet_target_lower_bounds[cur_sim] += [tester_betting.target_risk_lower_bound]\n",
    "        bet_target_sample_sizes[cur_sim] += [tester_betting.target_num_of_samples_used]\n",
    "    "
   ]
  },
  {
   "cell_type": "code",
   "execution_count": 45,
   "metadata": {
    "ExecuteTime": {
     "end_time": "2021-10-03T23:49:06.330587Z",
     "start_time": "2021-10-03T23:49:04.089977Z"
    }
   },
   "outputs": [
    {
     "data": {
      "image/png": "[encoded data removed]",
      "text/plain": [
       "<Figure size 864x432 with 1 Axes>"
      ]
     },
     "metadata": {},
     "output_type": "display_data"
    }
   ],
   "source": [
    "l1, = plt.plot(bet_target_sample_sizes[0],\n",
    "               np.mean(bet_target_lower_bounds, axis=0),\n",
    "               label='Lower bound on the target risk, Betting',\n",
    "               color='indianred')\n",
    "\n",
    "plt.fill_between(\n",
    "    bet_target_sample_sizes[0],\n",
    "    y1=np.mean(bet_target_lower_bounds, axis=0) -\n",
    "    2 * np.std(bet_target_lower_bounds, axis=0) / np.sqrt(num_of_repeats),\n",
    "    y2=np.mean(bet_target_lower_bounds, axis=0) +\n",
    "    2 * np.std(bet_target_lower_bounds, axis=0) / np.sqrt(num_of_repeats),\n",
    "    alpha=0.3,\n",
    "    color='indianred')\n",
    "\n",
    "l2, = plt.plot(pm_bern_target_sample_sizes[0],\n",
    "               np.mean(pm_bern_target_lower_bounds, axis=0),\n",
    "               label='Lower bound on the target risk, PM-EB',\n",
    "               color='steelblue')\n",
    "\n",
    "plt.fill_between(\n",
    "    pm_bern_target_sample_sizes[0],\n",
    "    y1=np.mean(pm_bern_target_lower_bounds, axis=0) -\n",
    "    2 * np.std(pm_bern_target_lower_bounds, axis=0) / np.sqrt(num_of_repeats),\n",
    "    y2=np.mean(pm_bern_target_lower_bounds, axis=0) +\n",
    "    2 * np.std(pm_bern_target_lower_bounds, axis=0) / np.sqrt(num_of_repeats),\n",
    "    alpha=0.3,\n",
    "    color='steelblue')\n",
    "\n",
    "l3, = plt.plot(conj_bern_target_sample_sizes[0],\n",
    "               np.mean(conj_bern_target_lower_bounds, axis=0),\n",
    "               label='Lower bound on the target risk,  conj mixtures',\n",
    "               color='mediumaquamarine')\n",
    "\n",
    "plt.fill_between(\n",
    "    conj_bern_target_sample_sizes[0],\n",
    "    y1=np.mean(conj_bern_target_lower_bounds, axis=0) - 2 *\n",
    "    np.std(conj_bern_target_lower_bounds, axis=0) / np.sqrt(num_of_repeats),\n",
    "    y2=np.mean(conj_bern_target_lower_bounds, axis=0) + 2 *\n",
    "    np.std(conj_bern_target_lower_bounds, axis=0) / np.sqrt(num_of_repeats),\n",
    "    alpha=0.3,\n",
    "    color='mediumaquamarine')\n",
    "\n",
    "p5, = plt.plot([0.15], marker='None', linestyle='None', label='dummy-tophead')\n",
    "\n",
    "l4, = plt.plot(conj_bern_target_sample_sizes[0],\n",
    "               np.repeat(np.mean(conj_bern_rej_thrs, axis=0),\n",
    "                         len(conj_bern_target_sample_sizes[0])),\n",
    "               linestyle='dashed',\n",
    "               color='goldenrod',\n",
    "               alpha=0.7)\n",
    "\n",
    "# l4 = plt.axhline(y=np.mean(conj_bern_rej_thrs),\n",
    "#                  linestyle='dashed',\n",
    "#                  c='goldenrod',\n",
    "#                  alpha=0.7)\n",
    "\n",
    "plt.fill_between(\n",
    "    conj_bern_target_sample_sizes[0],\n",
    "    y1=np.mean(conj_bern_rej_thrs, axis=0) - 2 *\n",
    "    np.std(conj_bern_rej_thrs, axis=0) / np.sqrt(num_of_repeats),\n",
    "    y2=np.mean(conj_bern_rej_thrs, axis=0) +\n",
    "    2 * np.std(conj_bern_rej_thrs, axis=0) / np.sqrt(num_of_repeats),\n",
    "    alpha=0.3,\n",
    "    color='goldenrod')\n",
    "\n",
    "categories = [\n",
    "    'UCB on the source risk', r'$\\textbf{LCB on the target risk via:}$ ',\n",
    "    'Betting', 'PM-EB', 'CM-EB'\n",
    "]\n",
    "\n",
    "leg4 = plt.legend([l4, p5, l1, l2, l3],\n",
    "                  categories,\n",
    "                  loc=4,\n",
    "                  ncol=1,\n",
    "                  prop={'size': 20})  # Two columns, horizontal group labels\n",
    "\n",
    "plt.ylabel('Brier Score', fontsize=23)\n",
    "plt.xlabel('Number of samples from the target domain', fontsize=23)\n",
    "plt.savefig('img/lower_bounds_brier.pdf', bbox_inches='tight')"
   ]
  }
 ],
 "metadata": {
  "kernelspec": {
   "display_name": "Python 3",
   "language": "python",
   "name": "python3"
  },
  "language_info": {
   "codemirror_mode": {
    "name": "ipython",
    "version": 3
   },
   "file_extension": ".py",
   "mimetype": "text/x-python",
   "name": "python",
   "nbconvert_exporter": "python",
   "pygments_lexer": "ipython3",
   "version": "3.7.7"
  },
  "toc": {
   "base_numbering": 1,
   "nav_menu": {},
   "number_sections": true,
   "sideBar": true,
   "skip_h1_title": false,
   "title_cell": "Table of Contents",
   "title_sidebar": "Contents",
   "toc_cell": false,
   "toc_position": {},
   "toc_section_display": true,
   "toc_window_display": false
  }
 },
 "nbformat": 4,
 "nbformat_minor": 4
}
