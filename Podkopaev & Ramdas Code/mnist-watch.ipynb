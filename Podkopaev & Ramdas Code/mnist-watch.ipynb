{
 "cells": [
  {
   "cell_type": "markdown",
   "metadata": {},
   "source": [
    "# Import Required Libraries\n",
    "Import the necessary libraries, including requests, tarfile, numpy, matplotlib, and any other required libraries."
   ]
  },
  {
   "cell_type": "code",
   "execution_count": 1,
   "metadata": {},
   "outputs": [],
   "source": [
    "# Import Required Libraries\n",
    "\n",
    "import requests  # For downloading the dataset\n",
    "import tarfile  # For extracting the dataset\n",
    "import numpy as np  # For numerical operations\n",
    "import matplotlib.pyplot as plt  # For displaying images and plots"
   ]
  },
  {
   "cell_type": "markdown",
   "metadata": {},
   "source": [
    "# Download MNIST-C Dataset\n",
    "Use the requests library to download the MNIST-C dataset and extract it using the tarfile library."
   ]
  },
  {
   "cell_type": "code",
   "execution_count": 4,
   "metadata": {},
   "outputs": [
    {
     "name": "stdout",
     "output_type": "stream",
     "text": [
      "Downloading the dataset...\n",
      "\n"
     ]
    },
    {
     "name": "stdout",
     "output_type": "stream",
     "text": [
      "Failed to download the dataset. Status code: 404\n"
     ]
    }
   ],
   "source": [
    "# Download MNIST-C Dataset\n",
    "\n",
    "# URL of the MNIST-C dataset\n",
    "url = 'https://zenodo.org/record/3239543/files/mnist_c.tar.gz?download=1'\n",
    "\n",
    "# Download the dataset\n",
    "print(\"Downloading the dataset...\\n\")\n",
    "response = requests.get(url, stream=True)\n",
    "if response.status_code == 200:\n",
    "    with open('mnist_c.tar.gz', 'wb') as file:\n",
    "        for chunk in response.iter_content(chunk_size=1024):\n",
    "            if chunk:\n",
    "                file.write(chunk)\n",
    "\n",
    "    # Extract the dataset\n",
    "    with tarfile.open('mnist_c.tar.gz', 'r:gz') as tar:\n",
    "        tar.extractall(path='mnist_c')\n",
    "else:\n",
    "    print(f\"Failed to download the dataset. Status code: {response.status_code}\")"
   ]
  },
  {
   "cell_type": "markdown",
   "metadata": {},
   "source": [
    "# Load and Explore Dataset\n",
    "Load the dataset into memory using numpy and explore its structure and contents."
   ]
  },
  {
   "cell_type": "code",
   "execution_count": 7,
   "metadata": {},
   "outputs": [
    {
     "ename": "FileNotFoundError",
     "evalue": "[Errno 2] No such file or directory: 'mnist_c/fog.npy'",
     "output_type": "error",
     "traceback": [
      "\u001b[0;31m---------------------------------------------------------------------------\u001b[0m",
      "\u001b[0;31mFileNotFoundError\u001b[0m                         Traceback (most recent call last)",
      "Cell \u001b[0;32mIn[7], line 10\u001b[0m\n\u001b[1;32m      8\u001b[0m \u001b[38;5;66;03m# Example: Load 'fog' corrupted dataset\u001b[39;00m\n\u001b[1;32m      9\u001b[0m corruption_type \u001b[38;5;241m=\u001b[39m \u001b[38;5;124m'\u001b[39m\u001b[38;5;124mfog\u001b[39m\u001b[38;5;124m'\u001b[39m\n\u001b[0;32m---> 10\u001b[0m mnist_c_data \u001b[38;5;241m=\u001b[39m \u001b[43mload_mnist_c\u001b[49m\u001b[43m(\u001b[49m\u001b[43mcorruption_type\u001b[49m\u001b[43m)\u001b[49m\n\u001b[1;32m     12\u001b[0m \u001b[38;5;66;03m# Explore the structure and contents of the dataset\u001b[39;00m\n\u001b[1;32m     13\u001b[0m \u001b[38;5;28mprint\u001b[39m(\u001b[38;5;124mf\u001b[39m\u001b[38;5;124m\"\u001b[39m\u001b[38;5;124mDataset shape: \u001b[39m\u001b[38;5;132;01m{\u001b[39;00mmnist_c_data\u001b[38;5;241m.\u001b[39mshape\u001b[38;5;132;01m}\u001b[39;00m\u001b[38;5;124m\"\u001b[39m)\n",
      "Cell \u001b[0;32mIn[7], line 6\u001b[0m, in \u001b[0;36mload_mnist_c\u001b[0;34m(corruption_type)\u001b[0m\n\u001b[1;32m      4\u001b[0m \u001b[38;5;28;01mdef\u001b[39;00m \u001b[38;5;21mload_mnist_c\u001b[39m(corruption_type):\n\u001b[1;32m      5\u001b[0m     data_path \u001b[38;5;241m=\u001b[39m \u001b[38;5;124mf\u001b[39m\u001b[38;5;124m'\u001b[39m\u001b[38;5;124mmnist_c/\u001b[39m\u001b[38;5;132;01m{\u001b[39;00mcorruption_type\u001b[38;5;132;01m}\u001b[39;00m\u001b[38;5;124m.npy\u001b[39m\u001b[38;5;124m'\u001b[39m\n\u001b[0;32m----> 6\u001b[0m     \u001b[38;5;28;01mreturn\u001b[39;00m \u001b[43mnp\u001b[49m\u001b[38;5;241;43m.\u001b[39;49m\u001b[43mload\u001b[49m\u001b[43m(\u001b[49m\u001b[43mdata_path\u001b[49m\u001b[43m)\u001b[49m\n",
      "File \u001b[0;32m~/anaconda3/envs/wtr/lib/python3.9/site-packages/numpy/lib/_npyio_impl.py:455\u001b[0m, in \u001b[0;36mload\u001b[0;34m(file, mmap_mode, allow_pickle, fix_imports, encoding, max_header_size)\u001b[0m\n\u001b[1;32m    453\u001b[0m     own_fid \u001b[38;5;241m=\u001b[39m \u001b[38;5;28;01mFalse\u001b[39;00m\n\u001b[1;32m    454\u001b[0m \u001b[38;5;28;01melse\u001b[39;00m:\n\u001b[0;32m--> 455\u001b[0m     fid \u001b[38;5;241m=\u001b[39m stack\u001b[38;5;241m.\u001b[39menter_context(\u001b[38;5;28;43mopen\u001b[39;49m\u001b[43m(\u001b[49m\u001b[43mos\u001b[49m\u001b[38;5;241;43m.\u001b[39;49m\u001b[43mfspath\u001b[49m\u001b[43m(\u001b[49m\u001b[43mfile\u001b[49m\u001b[43m)\u001b[49m\u001b[43m,\u001b[49m\u001b[43m \u001b[49m\u001b[38;5;124;43m\"\u001b[39;49m\u001b[38;5;124;43mrb\u001b[39;49m\u001b[38;5;124;43m\"\u001b[39;49m\u001b[43m)\u001b[49m)\n\u001b[1;32m    456\u001b[0m     own_fid \u001b[38;5;241m=\u001b[39m \u001b[38;5;28;01mTrue\u001b[39;00m\n\u001b[1;32m    458\u001b[0m \u001b[38;5;66;03m# Code to distinguish from NumPy binary files and pickles.\u001b[39;00m\n",
      "\u001b[0;31mFileNotFoundError\u001b[0m: [Errno 2] No such file or directory: 'mnist_c/fog.npy'"
     ]
    }
   ],
   "source": [
    "# Load and Explore Dataset\n",
    "\n",
    "# Load the dataset into memory using numpy\n",
    "def load_mnist_c(corruption_type):\n",
    "    data_path = f'mnist_c/{corruption_type}.npy'\n",
    "    return np.load(data_path)\n",
    "\n",
    "# Example: Load 'fog' corrupted dataset\n",
    "corruption_type = 'fog'\n",
    "mnist_c_data = load_mnist_c(corruption_type)\n",
    "\n",
    "# Explore the structure and contents of the dataset\n",
    "print(f\"Dataset shape: {mnist_c_data.shape}\")\n",
    "print(f\"Data type: {mnist_c_data.dtype}\")\n",
    "\n",
    "# Display a few sample images using matplotlib\n",
    "num_samples = 5\n",
    "fig, axes = plt.subplots(1, num_samples, figsize=(15, 3))\n",
    "for i in range(num_samples):\n",
    "    axes[i].imshow(mnist_c_data[i], cmap='gray')\n",
    "    axes[i].axis('off')\n",
    "plt.show()"
   ]
  },
  {
   "cell_type": "markdown",
   "metadata": {},
   "source": [
    "# Display Sample Images\n",
    "Use matplotlib to display a few sample images from the dataset."
   ]
  },
  {
   "cell_type": "code",
   "execution_count": null,
   "metadata": {},
   "outputs": [],
   "source": [
    "# Display Sample Images\n",
    "\n",
    "# Display a few sample images using matplotlib\n",
    "num_samples = 5\n",
    "fig, axes = plt.subplots(1, num_samples, figsize=(15, 3))\n",
    "for i in range(num_samples):\n",
    "    axes[i].imshow(mnist_c_data[i], cmap='gray')\n",
    "    axes[i].axis('off')\n",
    "plt.show()"
   ]
  },
  {
   "cell_type": "markdown",
   "metadata": {},
   "source": [
    "# Visualize Dataset Statistics\n",
    "Generate and display statistics about the dataset, such as the distribution of classes, using matplotlib."
   ]
  },
  {
   "cell_type": "code",
   "execution_count": null,
   "metadata": {},
   "outputs": [],
   "source": [
    "# Visualize Dataset Statistics\n",
    "\n",
    "# Generate and display statistics about the dataset, such as the distribution of classes, using matplotlib\n",
    "\n",
    "# Assuming the dataset is structured as (num_samples, 28, 28) and labels are stored in a separate file\n",
    "# Load the labels for the dataset\n",
    "labels_path = f'mnist_c/labels.npy'\n",
    "mnist_c_labels = np.load(labels_path)\n",
    "\n",
    "# Calculate the distribution of classes\n",
    "class_distribution = np.bincount(mnist_c_labels)\n",
    "\n",
    "# Plot the distribution of classes\n",
    "plt.figure(figsize=(10, 6))\n",
    "plt.bar(range(len(class_distribution)), class_distribution, tick_label=range(len(class_distribution)))\n",
    "plt.xlabel('Class')\n",
    "plt.ylabel('Frequency')\n",
    "plt.title('Distribution of Classes in MNIST-C Dataset')\n",
    "plt.show()"
   ]
  }
 ],
 "metadata": {
  "kernelspec": {
   "display_name": "wtr",
   "language": "python",
   "name": "python3"
  },
  "language_info": {
   "codemirror_mode": {
    "name": "ipython",
    "version": 3
   },
   "file_extension": ".py",
   "mimetype": "text/x-python",
   "name": "python",
   "nbconvert_exporter": "python",
   "pygments_lexer": "ipython3",
   "version": "3.9.19"
  }
 },
 "nbformat": 4,
 "nbformat_minor": 2
}
