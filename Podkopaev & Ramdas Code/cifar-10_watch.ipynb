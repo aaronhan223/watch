{
 "cells": [
  {
   "cell_type": "markdown",
   "metadata": {},
   "source": [
    "# Import Required Libraries\n",
    "Import the necessary libraries, including torch, torchvision, and matplotlib."
   ]
  },
  {
   "cell_type": "code",
   "execution_count": 3,
   "metadata": {},
   "outputs": [],
   "source": [
    "# Import Required Libraries\n",
    "\n",
    "import torch\n",
    "import torchvision\n",
    "import torchvision.transforms as transforms\n",
    "import matplotlib.pyplot as plt\n",
    "import numpy as np"
   ]
  },
  {
   "cell_type": "markdown",
   "metadata": {},
   "source": [
    "# Load CIFAR-10 Dataset\n",
    "Load the CIFAR-10 dataset using torchvision.datasets and apply necessary transformations."
   ]
  },
  {
   "cell_type": "code",
   "execution_count": 5,
   "metadata": {},
   "outputs": [
    {
     "name": "stdout",
     "output_type": "stream",
     "text": [
      "Files already downloaded and verified\n",
      "Files already downloaded and verified\n",
      "Files already downloaded and verified\n",
      "Files already downloaded and verified\n"
     ]
    },
    {
     "ename": "AttributeError",
     "evalue": "'_MultiProcessingDataLoaderIter' object has no attribute 'next'",
     "output_type": "error",
     "traceback": [
      "\u001b[0;31m---------------------------------------------------------------------------\u001b[0m",
      "\u001b[0;31mAttributeError\u001b[0m                            Traceback (most recent call last)",
      "Cell \u001b[0;32mIn[5], line 61\u001b[0m\n\u001b[1;32m     59\u001b[0m \u001b[38;5;66;03m# Get some random training images\u001b[39;00m\n\u001b[1;32m     60\u001b[0m dataiter \u001b[38;5;241m=\u001b[39m \u001b[38;5;28miter\u001b[39m(trainloader)\n\u001b[0;32m---> 61\u001b[0m images, labels \u001b[38;5;241m=\u001b[39m \u001b[43mdataiter\u001b[49m\u001b[38;5;241;43m.\u001b[39;49m\u001b[43mnext\u001b[49m()\n\u001b[1;32m     63\u001b[0m \u001b[38;5;66;03m# Show images\u001b[39;00m\n\u001b[1;32m     64\u001b[0m imshow(torchvision\u001b[38;5;241m.\u001b[39mutils\u001b[38;5;241m.\u001b[39mmake_grid(images))\n",
      "\u001b[0;31mAttributeError\u001b[0m: '_MultiProcessingDataLoaderIter' object has no attribute 'next'"
     ]
    }
   ],
   "source": [
    "# Load CIFAR-10 Dataset\n",
    "\n",
    "# Define transformations for the training and test sets\n",
    "transform = transforms.Compose(\n",
    "    [transforms.ToTensor(),\n",
    "     transforms.Normalize((0.5, 0.5, 0.5), (0.5, 0.5, 0.5))])\n",
    "\n",
    "# Load the training set\n",
    "trainset = torchvision.datasets.CIFAR10(root='./data', train=True,\n",
    "                                        download=True, transform=transform)\n",
    "trainloader = torch.utils.data.DataLoader(trainset, batch_size=4,\n",
    "                                          shuffle=True, num_workers=2)\n",
    "\n",
    "# Load the test set\n",
    "testset = torchvision.datasets.CIFAR10(root='./data', train=False,\n",
    "                                       download=True, transform=transform)\n",
    "testloader = torch.utils.data.DataLoader(testset, batch_size=4,\n",
    "                                         shuffle=False, num_workers=2)\n",
    "\n",
    "# Define the classes in CIFAR-10\n",
    "classes = ('plane', 'car', 'bird', 'cat', 'deer', 'dog', 'frog', 'horse', 'ship', 'truck')\n",
    "\n",
    "# Function to show an image\n",
    "def imshow(img):\n",
    "    img = img / 2 + 0.5  # unnormalize\n",
    "    npimg = img.numpy()\n",
    "    plt.imshow(np.transpose(npimg, (1, 2, 0)))\n",
    "    plt.show()\n",
    "\n",
    "# Load CIFAR-10 Dataset\n",
    "\n",
    "# Define transformations for the training and test sets\n",
    "transform = transforms.Compose(\n",
    "    [transforms.ToTensor(),\n",
    "     transforms.Normalize((0.5, 0.5, 0.5), (0.5, 0.5, 0.5))])\n",
    "\n",
    "# Load the training set\n",
    "trainset = torchvision.datasets.CIFAR10(root='./data', train=True,\n",
    "                                        download=True, transform=transform)\n",
    "trainloader = torch.utils.data.DataLoader(trainset, batch_size=4,\n",
    "                                          shuffle=True, num_workers=2)\n",
    "\n",
    "# Load the test set\n",
    "testset = torchvision.datasets.CIFAR10(root='./data', train=False,\n",
    "                                       download=True, transform=transform)\n",
    "testloader = torch.utils.data.DataLoader(testset, batch_size=4,\n",
    "                                         shuffle=False, num_workers=2)\n",
    "\n",
    "# Define the classes in CIFAR-10\n",
    "classes = ('plane', 'car', 'bird', 'cat', 'deer', 'dog', 'frog', 'horse', 'ship', 'truck')\n",
    "\n",
    "# Function to show an image\n",
    "def imshow(img):\n",
    "    img = img / 2 + 0.5  # unnormalize\n",
    "    npimg = img.numpy()\n",
    "    plt.imshow(np.transpose(npimg, (1, 2, 0)))\n",
    "    plt.show()\n",
    "\n",
    "# Get some random training images\n",
    "dataiter = iter(trainloader)\n",
    "images, labels = dataiter.next()\n",
    "\n",
    "# Show images\n",
    "imshow(torchvision.utils.make_grid(images))\n",
    "# Print labels\n",
    "print(' '.join(f'{classes[labels[j]]:5s}' for j in range(4)))"
   ]
  },
  {
   "cell_type": "markdown",
   "metadata": {},
   "source": [
    "# Introduce Corruption to Dataset\n",
    "Introduce corruption to the dataset by applying random noise or other distortions to the images."
   ]
  },
  {
   "cell_type": "code",
   "execution_count": null,
   "metadata": {},
   "outputs": [],
   "source": [
    "# Introduce Corruption to Dataset\n",
    "\n",
    "import random\n",
    "\n",
    "def add_noise(img, noise_factor=0.2):\n",
    "    \"\"\"Add random noise to an image.\"\"\"\n",
    "    noise = torch.randn(img.size()) * noise_factor\n",
    "    noisy_img = img + noise\n",
    "    noisy_img = torch.clip(noisy_img, 0., 1.)\n",
    "    return noisy_img\n",
    "\n",
    "# Apply noise to the training set\n",
    "corrupted_trainset = []\n",
    "for img, label in trainset:\n",
    "    noisy_img = add_noise(img)\n",
    "    corrupted_trainset.append((noisy_img, label))\n",
    "\n",
    "# Convert the list to a DataLoader\n",
    "corrupted_trainloader = torch.utils.data.DataLoader(corrupted_trainset, batch_size=4,\n",
    "                                                    shuffle=True, num_workers=2)\n",
    "\n",
    "# Get some random corrupted training images\n",
    "dataiter = iter(corrupted_trainloader)\n",
    "corrupted_images, corrupted_labels = dataiter.next()\n",
    "\n",
    "# Show corrupted images\n",
    "imshow(torchvision.utils.make_grid(corrupted_images))\n",
    "# Print labels\n",
    "print(' '.join(f'{classes[corrupted_labels[j]]:5s}' for j in range(4)))"
   ]
  },
  {
   "cell_type": "markdown",
   "metadata": {},
   "source": [
    "# Preprocess the Dataset\n",
    "Preprocess the dataset by normalizing the images and converting them to tensors."
   ]
  },
  {
   "cell_type": "code",
   "execution_count": null,
   "metadata": {},
   "outputs": [],
   "source": [
    "# Preprocess the Dataset\n",
    "\n",
    "# Normalize the images and convert them to tensors\n",
    "transform = transforms.Compose(\n",
    "    [transforms.ToTensor(),\n",
    "     transforms.Normalize((0.5, 0.5, 0.5), (0.5, 0.5, 0.5))])\n",
    "\n",
    "# Apply the transformations to the corrupted training set\n",
    "preprocessed_trainset = [(transform(img), label) for img, label in corrupted_trainset]\n",
    "\n",
    "# Convert the list to a DataLoader\n",
    "preprocessed_trainloader = torch.utils.data.DataLoader(preprocessed_trainset, batch_size=4,\n",
    "                                                       shuffle=True, num_workers=2)\n",
    "\n",
    "# Get some random preprocessed training images\n",
    "dataiter = iter(preprocessed_trainloader)\n",
    "preprocessed_images, preprocessed_labels = dataiter.next()\n",
    "\n",
    "# Show preprocessed images\n",
    "imshow(torchvision.utils.make_grid(preprocessed_images))\n",
    "# Print labels\n",
    "print(' '.join(f'{classes[preprocessed_labels[j]]:5s}' for j in range(4)))"
   ]
  },
  {
   "cell_type": "markdown",
   "metadata": {},
   "source": [
    "# Dataset Analytics\n",
    "Analyze the dataset by visualizing sample images, calculating dataset statistics, and displaying class distributions."
   ]
  },
  {
   "cell_type": "code",
   "execution_count": null,
   "metadata": {},
   "outputs": [],
   "source": [
    "# Dataset Analytics\n",
    "\n",
    "# Visualize sample images from the preprocessed dataset\n",
    "dataiter = iter(preprocessed_trainloader)\n",
    "images, labels = dataiter.next()\n",
    "\n",
    "# Show images\n",
    "imshow(torchvision.utils.make_grid(images))\n",
    "# Print labels\n",
    "print(' '.join(f'{classes[labels[j]]:5s}' for j in range(4)))\n",
    "\n",
    "# Calculate dataset statistics\n",
    "def calculate_statistics(loader):\n",
    "    mean = 0.0\n",
    "    std = 0.0\n",
    "    total_images_count = 0\n",
    "    for images, _ in loader:\n",
    "        batch_samples = images.size(0)  # batch size (the last batch can have smaller size)\n",
    "        images = images.view(batch_samples, images.size(1), -1)\n",
    "        mean += images.mean(2).sum(0)\n",
    "        std += images.std(2).sum(0)\n",
    "        total_images_count += batch_samples\n",
    "\n",
    "    mean /= total_images_count\n",
    "    std /= total_images_count\n",
    "    return mean, std\n",
    "\n",
    "mean, std = calculate_statistics(preprocessed_trainloader)\n",
    "print(f'Mean: {mean}')\n",
    "print(f'Std: {std}')\n",
    "\n",
    "# Display class distributions\n",
    "def display_class_distribution(loader):\n",
    "    class_count = [0] * len(classes)\n",
    "    for _, labels in loader:\n",
    "        for label in labels:\n",
    "            class_count[label] += 1\n",
    "\n",
    "    plt.bar(classes, class_count)\n",
    "    plt.xlabel('Classes')\n",
    "    plt.ylabel('Number of images')\n",
    "    plt.title('Class distribution in the preprocessed dataset')\n",
    "    plt.show()\n",
    "\n",
    "display_class_distribution(preprocessed_trainloader)"
   ]
  }
 ],
 "metadata": {
  "kernelspec": {
   "display_name": "wtr",
   "language": "python",
   "name": "python3"
  },
  "language_info": {
   "codemirror_mode": {
    "name": "ipython",
    "version": 3
   },
   "file_extension": ".py",
   "mimetype": "text/x-python",
   "name": "python",
   "nbconvert_exporter": "python",
   "pygments_lexer": "ipython3",
   "version": "3.9.19"
  }
 },
 "nbformat": 4,
 "nbformat_minor": 2
}
