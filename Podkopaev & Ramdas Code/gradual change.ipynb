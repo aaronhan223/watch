{
 "cells": [
  {
   "cell_type": "markdown",
   "id": "048c26ff",
   "metadata": {},
   "source": [
    "# Libraries"
   ]
  },
  {
   "cell_type": "code",
   "execution_count": 1,
   "id": "f74e1483",
   "metadata": {
    "ExecuteTime": {
     "end_time": "2021-10-03T00:45:33.711134Z",
     "start_time": "2021-10-03T00:45:31.963490Z"
    }
   },
   "outputs": [],
   "source": [
    "import numpy as np\n",
    "import matplotlib.pyplot as plt\n",
    "import seaborn as sns\n",
    "import matplotlib\n",
    "from sklearn.metrics import zero_one_loss\n",
    "\n",
    "%matplotlib inline"
   ]
  },
  {
   "cell_type": "code",
   "execution_count": 2,
   "id": "95d83700",
   "metadata": {
    "ExecuteTime": {
     "end_time": "2021-10-03T00:45:40.449383Z",
     "start_time": "2021-10-03T00:45:40.444537Z"
    }
   },
   "outputs": [],
   "source": [
    "from utils.data_gen import compute_bayes_risk_binary, compute_bayes_risk_binary_label_shift,\\\n",
    "    generate_2d_example\n",
    "\n",
    "from utils.concentrations import hoeffding_ci_lower_limit,\\\n",
    "    hoeffding_ci_upper_limit\n",
    "from utils.concentrations import pm_bernstein_ci_upper_limit,\\\n",
    "    pm_bernstein_ci_lower_limit\n",
    "\n",
    "from utils.concentrations import pm_bernstein_lower_limit, pm_bernstein_upper_limit\n",
    "from utils.concentrations import pm_hoeffding_upper_limit, pm_hoeffding_lower_limit\n",
    "\n",
    "from utils.data_gen import LDA_predictor\n",
    "\n",
    "from utils.concentrations import betting_ci_lower_limit, betting_ci_upper_limit\n",
    "\n",
    "from utils.tests import Drop_tester,misclas_losses"
   ]
  },
  {
   "cell_type": "code",
   "execution_count": 3,
   "id": "b4623a92",
   "metadata": {
    "ExecuteTime": {
     "end_time": "2021-10-03T00:45:45.341886Z",
     "start_time": "2021-10-03T00:45:45.337564Z"
    }
   },
   "outputs": [],
   "source": [
    "sns.set(\n",
    "    style=\"whitegrid\",\n",
    "    font_scale=1.4,\n",
    "    rc={\n",
    "        \"lines.linewidth\": 2,\n",
    "        #             \"axes.facecolor\": \".9\",\n",
    "        'figure.figsize': (12, 6)\n",
    "    })\n",
    "sns.set_palette('Set2')\n",
    "matplotlib.rcParams['text.usetex'] = True"
   ]
  },
  {
   "cell_type": "code",
   "execution_count": 4,
   "id": "6d4367f4",
   "metadata": {
    "ExecuteTime": {
     "end_time": "2021-10-03T00:45:50.685390Z",
     "start_time": "2021-10-03T00:45:50.649934Z"
    }
   },
   "outputs": [],
   "source": [
    "%load_ext autoreload\n",
    "%autoreload 2"
   ]
  },
  {
   "cell_type": "markdown",
   "id": "301fba61",
   "metadata": {},
   "source": [
    "# Data generation"
   ]
  },
  {
   "cell_type": "code",
   "execution_count": 166,
   "id": "3c0ce119",
   "metadata": {
    "ExecuteTime": {
     "end_time": "2021-10-03T01:31:56.043897Z",
     "start_time": "2021-10-03T01:31:56.010155Z"
    }
   },
   "outputs": [],
   "source": [
    "num_of_repeats = 250\n",
    "num_of_batches_to_sample = 80\n",
    "\n",
    "size_of_batch = 20\n",
    "size_source_sample = 1000"
   ]
  },
  {
   "cell_type": "code",
   "execution_count": 167,
   "id": "bc30d8bd",
   "metadata": {
    "ExecuteTime": {
     "end_time": "2021-10-03T01:31:56.265728Z",
     "start_time": "2021-10-03T01:31:56.232732Z"
    }
   },
   "outputs": [],
   "source": [
    "increase_tracker = 0"
   ]
  },
  {
   "cell_type": "code",
   "execution_count": 168,
   "id": "75a3d40e",
   "metadata": {
    "ExecuteTime": {
     "end_time": "2021-10-03T01:31:58.385229Z",
     "start_time": "2021-10-03T01:31:58.346152Z"
    }
   },
   "outputs": [],
   "source": [
    "mu_1 = np.array([1, 0])\n",
    "mu_0 = np.array([-1, 0])\n",
    "prob_class_1 = 0.25\n",
    "prob_class_0 = 1 - prob_class_1\n",
    "cov = np.eye(2)"
   ]
  },
  {
   "cell_type": "code",
   "execution_count": 169,
   "id": "74211063",
   "metadata": {
    "ExecuteTime": {
     "end_time": "2021-10-03T01:31:58.572048Z",
     "start_time": "2021-10-03T01:31:58.532382Z"
    }
   },
   "outputs": [],
   "source": [
    "X_val_source, y_val_source = generate_2d_example(0.25, mu_0, mu_1,\n",
    "                                                 size_source_sample)"
   ]
  },
  {
   "cell_type": "code",
   "execution_count": 170,
   "id": "6da019b6",
   "metadata": {
    "ExecuteTime": {
     "end_time": "2021-10-03T01:31:58.723113Z",
     "start_time": "2021-10-03T01:31:58.689550Z"
    }
   },
   "outputs": [],
   "source": [
    "class_1_probs = list()"
   ]
  },
  {
   "cell_type": "code",
   "execution_count": 171,
   "id": "5269dbd9",
   "metadata": {
    "ExecuteTime": {
     "end_time": "2021-10-03T01:31:58.899176Z",
     "start_time": "2021-10-03T01:31:58.865909Z"
    }
   },
   "outputs": [],
   "source": [
    "batches_per_prob = 10"
   ]
  },
  {
   "cell_type": "code",
   "execution_count": 172,
   "id": "fdb7a8b6",
   "metadata": {
    "ExecuteTime": {
     "end_time": "2021-10-03T01:31:59.276977Z",
     "start_time": "2021-10-03T01:31:59.241928Z"
    }
   },
   "outputs": [],
   "source": [
    "class_1_probs += np.repeat(0.25,batches_per_prob).tolist()\n",
    "class_1_probs += np.repeat(0.35,batches_per_prob).tolist()\n",
    "class_1_probs += np.repeat(0.45,batches_per_prob).tolist()\n",
    "class_1_probs += np.repeat(0.55,batches_per_prob).tolist()\n",
    "class_1_probs += np.repeat(0.65,batches_per_prob).tolist()\n",
    "class_1_probs += np.repeat(0.75,batches_per_prob).tolist()\n",
    "class_1_probs += np.repeat(0.85,num_of_batches_to_sample - 6 * batches_per_prob).tolist()"
   ]
  },
  {
   "cell_type": "code",
   "execution_count": 173,
   "id": "c00b6d7d",
   "metadata": {
    "ExecuteTime": {
     "end_time": "2021-10-03T01:31:59.483775Z",
     "start_time": "2021-10-03T01:31:59.449669Z"
    },
    "scrolled": true
   },
   "outputs": [
    {
     "data": {
      "text/plain": [
       "80"
      ]
     },
     "execution_count": 173,
     "metadata": {},
     "output_type": "execute_result"
    }
   ],
   "source": [
    "len(class_1_probs)"
   ]
  },
  {
   "cell_type": "code",
   "execution_count": 174,
   "id": "b834ba57",
   "metadata": {
    "ExecuteTime": {
     "end_time": "2021-10-03T01:31:59.827295Z",
     "start_time": "2021-10-03T01:31:59.794132Z"
    }
   },
   "outputs": [],
   "source": [
    "clf = LDA_predictor()\n",
    "\n",
    "clf.mean_class_0 = mu_0\n",
    "clf.mean_class_1 = mu_1\n",
    "clf.class_0_prior = prob_class_0\n",
    "clf.class_1_prior = prob_class_1"
   ]
  },
  {
   "cell_type": "code",
   "execution_count": 175,
   "id": "86c1fa75",
   "metadata": {
    "ExecuteTime": {
     "end_time": "2021-10-03T01:32:00.014466Z",
     "start_time": "2021-10-03T01:31:59.980723Z"
    }
   },
   "outputs": [],
   "source": [
    "eps_tol = 0"
   ]
  },
  {
   "cell_type": "code",
   "execution_count": 176,
   "id": "d87f5462",
   "metadata": {
    "ExecuteTime": {
     "end_time": "2021-10-03T01:32:00.159183Z",
     "start_time": "2021-10-03T01:32:00.125867Z"
    }
   },
   "outputs": [],
   "source": [
    "tester_conj_bernstein = Drop_tester()\n",
    "\n",
    "tester_conj_bernstein.eps_tol = eps_tol\n",
    "tester_conj_bernstein.target_conc_type = 'conj-bern'\n"
   ]
  },
  {
   "cell_type": "code",
   "execution_count": 177,
   "id": "0a0a9251",
   "metadata": {
    "ExecuteTime": {
     "end_time": "2021-10-03T01:32:00.299472Z",
     "start_time": "2021-10-03T01:32:00.265349Z"
    }
   },
   "outputs": [],
   "source": [
    "conj_bern_target_lower_bounds = list()\n",
    "conj_bern_source_upper_bounds = list()"
   ]
  },
  {
   "cell_type": "code",
   "execution_count": 178,
   "id": "142153c8",
   "metadata": {
    "ExecuteTime": {
     "end_time": "2021-10-03T01:39:26.148235Z",
     "start_time": "2021-10-03T01:32:00.419375Z"
    }
   },
   "outputs": [],
   "source": [
    "for cur_sim in range(num_of_repeats):\n",
    "    conj_bern_target_lower_bounds+=[[]]\n",
    "    X_val_source, y_val_source = generate_2d_example(0.25, mu_0, mu_1,\n",
    "                                                     size_source_sample)\n",
    "\n",
    "    y_pred_val = clf.predict(X_val_source)\n",
    "    ind_loss_source = misclas_losses(y_pred_val, y_val_source)\n",
    "\n",
    "    tester_conj_bernstein.estimate_risk_source(ind_loss_source)\n",
    "\n",
    "    conj_bern_source_upper_bounds += [\n",
    "        tester_conj_bernstein.source_rejection_threshold\n",
    "    ]\n",
    "\n",
    "    X_target = []\n",
    "    y_target = []\n",
    "\n",
    "    for cur_class_1_prob in class_1_probs:\n",
    "        X_new_target, y_new_target = generate_2d_example(\n",
    "            cur_class_1_prob, mu_0, mu_1, size_of_batch)\n",
    "\n",
    "        X_target += [X_new_target]\n",
    "        y_target += [y_new_target]\n",
    "\n",
    "    X_target = np.vstack(X_target)\n",
    "    y_target = np.hstack(y_target)\n",
    "\n",
    "    y_pred_target = clf.predict(X_target)\n",
    "    ind_loss_target = misclas_losses(y_pred_target, y_target)\n",
    "\n",
    "    for cur_batch in range(num_of_batches_to_sample):\n",
    "        cur_losses = ind_loss_target[0:(cur_batch + 1) * size_of_batch]\n",
    "        tester_conj_bernstein.estimate_risk_target(cur_losses)\n",
    "        conj_bern_target_lower_bounds[cur_sim] += [\n",
    "            tester_conj_bernstein.target_risk_lower_bound\n",
    "        ]"
   ]
  },
  {
   "cell_type": "code",
   "execution_count": 179,
   "id": "77242562",
   "metadata": {
    "ExecuteTime": {
     "end_time": "2021-10-03T01:39:26.281650Z",
     "start_time": "2021-10-03T01:39:26.151167Z"
    }
   },
   "outputs": [],
   "source": [
    "sample_sizes = np.arange(size_of_batch,size_of_batch*(num_of_batches_to_sample+1), step=size_of_batch)"
   ]
  },
  {
   "cell_type": "code",
   "execution_count": 180,
   "id": "5d6399e2",
   "metadata": {
    "ExecuteTime": {
     "end_time": "2021-10-03T01:39:26.317091Z",
     "start_time": "2021-10-03T01:39:26.284059Z"
    }
   },
   "outputs": [
    {
     "data": {
      "text/plain": [
       "80"
      ]
     },
     "execution_count": 180,
     "metadata": {},
     "output_type": "execute_result"
    }
   ],
   "source": [
    "len(sample_sizes)"
   ]
  },
  {
   "cell_type": "code",
   "execution_count": 182,
   "id": "77095da1",
   "metadata": {
    "ExecuteTime": {
     "end_time": "2021-10-03T01:39:44.889658Z",
     "start_time": "2021-10-03T01:39:44.469078Z"
    }
   },
   "outputs": [
    {
     "data": {
      "image/png": "[encoded data removed]",
      "text/plain": [
       "<Figure size 864x432 with 1 Axes>"
      ]
     },
     "metadata": {},
     "output_type": "display_data"
    }
   ],
   "source": [
    "l1, = plt.plot(sample_sizes,np.mean(conj_bern_target_lower_bounds, axis=0),\n",
    "               color='indianred')\n",
    "\n",
    "\n",
    "plt.fill_between(\n",
    "    sample_sizes,\n",
    "    y1=np.mean(conj_bern_target_lower_bounds, axis=0) -\n",
    "    2 * np.std(conj_bern_target_lower_bounds, axis=0) / np.sqrt(num_of_repeats),\n",
    "    y2=np.mean(conj_bern_target_lower_bounds, axis=0) +\n",
    "    2 * np.std(conj_bern_target_lower_bounds, axis=0) / np.sqrt(num_of_repeats),\n",
    "    alpha=0.3,\n",
    "    color='indianred')\n",
    "\n",
    "l2, = plt.plot(sample_sizes,\n",
    "               np.repeat(np.mean(conj_bern_source_upper_bounds, axis=0),num_of_batches_to_sample\n",
    "                         ),\n",
    "               linestyle='dashed',\n",
    "               color='goldenrod',\n",
    "               alpha=0.7)\n",
    "\n",
    "plt.fill_between(\n",
    "    sample_sizes,\n",
    "    y1=np.mean(conj_bern_source_upper_bounds, axis=0) - 2 *\n",
    "    np.std(conj_bern_source_upper_bounds, axis=0) / np.sqrt(num_of_repeats),\n",
    "    y2=np.mean(conj_bern_source_upper_bounds, axis=0) +\n",
    "    2 * np.std(conj_bern_source_upper_bounds, axis=0) / np.sqrt(num_of_repeats),\n",
    "    alpha=0.3,\n",
    "    color='goldenrod')\n",
    "\n",
    "categories = [\n",
    "     'LCB on the target risk via CM-EB','UCB on the source risk'\n",
    "]\n",
    "\n",
    "leg4 = plt.legend([l1, l2],\n",
    "                  categories,\n",
    "                  loc=4,\n",
    "                  ncol=1,\n",
    "                  prop={'size': 20})  # Two columns, horizontal group labels\n",
    "\n",
    "plt.ylabel('Misclassification risk', fontsize=23)\n",
    "plt.xlabel('Number of samples from the target domain', fontsize=23)\n",
    "plt.savefig('img/gradual_change.pdf', bbox_inches='tight')"
   ]
  },
  {
   "cell_type": "code",
   "execution_count": 112,
   "id": "4caa6f80",
   "metadata": {
    "ExecuteTime": {
     "end_time": "2021-10-03T01:07:10.940789Z",
     "start_time": "2021-10-03T01:07:10.895894Z"
    }
   },
   "outputs": [
    {
     "data": {
      "text/plain": [
       "[0.0,\n",
       " 0.0,\n",
       " 0.0,\n",
       " 0.0,\n",
       " 0.0,\n",
       " 0.022889261300762714,\n",
       " 0.04195205278501282,\n",
       " 0.04175468455189922,\n",
       " 0.041429784490946406,\n",
       " 0.04578490825621781,\n",
       " 0.04556783522680004,\n",
       " 0.050922545924624224,\n",
       " 0.0588216554429023,\n",
       " 0.0646834619501955,\n",
       " 0.06819385534191476,\n",
       " 0.07895258919756418,\n",
       " 0.0894275656112861,\n",
       " 0.09545576772325498,\n",
       " 0.09999515651914787,\n",
       " 0.10747447241134726,\n",
       " 0.11010528383691401,\n",
       " 0.1141576588255856,\n",
       " 0.1166107095607631,\n",
       " 0.12129729984630166,\n",
       " 0.12255029647197958,\n",
       " 0.12742868169412871,\n",
       " 0.12903575920974691,\n",
       " 0.12941324569787774,\n",
       " 0.13557455315925887,\n",
       " 0.1358845664340108,\n",
       " 0.13788148695620947,\n",
       " 0.13899063373011747,\n",
       " 0.13896163162270153,\n",
       " 0.14483511486587575,\n",
       " 0.14683719433665948,\n",
       " 0.1502245713948177,\n",
       " 0.15141548398415391,\n",
       " 0.15253481107368314,\n",
       " 0.1572818993559109,\n",
       " 0.15938365717511654,\n",
       " 0.16038401235015345,\n",
       " 0.16088803904011584,\n",
       " 0.16420895941284536,\n",
       " 0.1662921920712003,\n",
       " 0.167021260305191,\n",
       " 0.16700600702301457,\n",
       " 0.1678058374892488,\n",
       " 0.1684147126142052,\n",
       " 0.16840041528503907,\n",
       " 0.16952125322040212,\n",
       " 0.17525555974887203,\n",
       " 0.18078902384480647,\n",
       " 0.18258430222132613,\n",
       " 0.18257366027727856,\n",
       " 0.18291121709272593,\n",
       " 0.18441434017025654,\n",
       " 0.1868807905267073,\n",
       " 0.1890684750245228,\n",
       " 0.1890600792252734,\n",
       " 0.1917223458734425,\n",
       " 0.19297484312430746,\n",
       " 0.19784765184751366,\n",
       " 0.1991873296920848,\n",
       " 0.1991804161575298,\n",
       " 0.19982242966534647,\n",
       " 0.20018599238874552,\n",
       " 0.20087131993532115,\n",
       " 0.2029087420993151,\n",
       " 0.20462880360351932,\n",
       " 0.20462291956837153,\n",
       " 0.20461663361468418,\n",
       " 0.20799301338371096,\n",
       " 0.20993326672368245,\n",
       " 0.20995053947837033,\n",
       " 0.21103770607319897,\n",
       " 0.21103275981314484,\n",
       " 0.21102748658230477,\n",
       " 0.21141332765840654,\n",
       " 0.21171709766903535,\n",
       " 0.21196312484166402,\n",
       " 0.0,\n",
       " 0.0,\n",
       " 0.0,\n",
       " 0.0,\n",
       " 0.0,\n",
       " 0.0,\n",
       " 0.023528904569539627,\n",
       " 0.029407894580196492,\n",
       " 0.04304908053896411,\n",
       " 0.04456201210792682,\n",
       " 0.06185983916621647,\n",
       " 0.06680586748807542,\n",
       " 0.07647047135201683,\n",
       " 0.07973072982065704,\n",
       " 0.09021476118366017,\n",
       " 0.10114113915677446,\n",
       " 0.11524490278715353,\n",
       " 0.1192019071968833,\n",
       " 0.12242633076430982,\n",
       " 0.12475493280744555,\n",
       " 0.12917232162154693,\n",
       " 0.13368376954814232,\n",
       " 0.1336413524538153,\n",
       " 0.13835224748138153,\n",
       " 0.14636502266188187,\n",
       " 0.14718436893092424,\n",
       " 0.15205513715624627,\n",
       " 0.15372384366895442,\n",
       " 0.15446301716825894,\n",
       " 0.1579605178100587,\n",
       " 0.1662673667916681,\n",
       " 0.17472554598071344,\n",
       " 0.17471031375334248,\n",
       " 0.1748330560719733,\n",
       " 0.17496496559968963,\n",
       " 0.17495024725871466,\n",
       " 0.17815587620868278,\n",
       " 0.1801438724208763,\n",
       " 0.18441824865907006,\n",
       " 0.18535704542305464,\n",
       " 0.18646036734231186,\n",
       " 0.18765064413163945,\n",
       " 0.18884220408644667,\n",
       " 0.19034468986847278,\n",
       " 0.1917817092659763,\n",
       " 0.19177197652795142,\n",
       " 0.1928083704156499,\n",
       " 0.19313415538365572,\n",
       " 0.19427432520720894,\n",
       " 0.19767021599918133,\n",
       " 0.20106394375015518,\n",
       " 0.20615659950600945,\n",
       " 0.20859196318816828,\n",
       " 0.20878849565450114,\n",
       " 0.208782107539645,\n",
       " 0.2087749521840083,\n",
       " 0.20908941165964595,\n",
       " 0.21002077536375452,\n",
       " 0.2132313898348537,\n",
       " 0.2157245782775989,\n",
       " 0.2161416419334563,\n",
       " 0.21613583831915534,\n",
       " 0.21612946616916096,\n",
       " 0.21633970088183357,\n",
       " 0.21745897062545105,\n",
       " 0.21745397435325764,\n",
       " 0.21860924001013682,\n",
       " 0.22129106583894584,\n",
       " 0.22208400148204213,\n",
       " 0.22223427837863372,\n",
       " 0.22327798923196368,\n",
       " 0.22407654320404685,\n",
       " 0.22846270028999893,\n",
       " 0.2284588548049114,\n",
       " 0.23003905651753048,\n",
       " 0.23003543884804317,\n",
       " 0.23003148389180453,\n",
       " 0.23002720122568474,\n",
       " 0.2300226000542556,\n",
       " 0.2307150183345358,\n",
       " 0.0,\n",
       " 0.0,\n",
       " 0.0,\n",
       " 0.0,\n",
       " 0.0,\n",
       " 0.0,\n",
       " 0.0010180436009647603,\n",
       " 0.005352372887422685,\n",
       " 0.027925047331694125,\n",
       " 0.027662607976134623,\n",
       " 0.035650406525377334,\n",
       " 0.04178295480395654,\n",
       " 0.060194694350926614,\n",
       " 0.060680924986535226,\n",
       " 0.0605273742678257,\n",
       " 0.06273425090764134,\n",
       " 0.06735863403435054,\n",
       " 0.06722939900643433,\n",
       " 0.07008751974082073,\n",
       " 0.07443382069552501,\n",
       " 0.08691399745771089,\n",
       " 0.09429170787423076,\n",
       " 0.09941317131448124,\n",
       " 0.10599439252633597,\n",
       " 0.10731212116192954,\n",
       " 0.10725631371607533,\n",
       " 0.10727935993910434,\n",
       " 0.10939374526271092,\n",
       " 0.11088569719686434,\n",
       " 0.1129199138708516,\n",
       " 0.11615313074901112,\n",
       " 0.12041464580888558,\n",
       " 0.12343986330689272,\n",
       " 0.12898132112125626,\n",
       " 0.13104561009357937,\n",
       " 0.1323030144385827,\n",
       " 0.1332742674665999,\n",
       " 0.13556835262784925,\n",
       " 0.14037581813404376,\n",
       " 0.14366547713147276,\n",
       " 0.14731014141255494,\n",
       " 0.14934442726847966,\n",
       " 0.14932532266768506,\n",
       " 0.15386836435341963,\n",
       " 0.1568225791790414,\n",
       " 0.15832383300944003,\n",
       " 0.1583072588680978,\n",
       " 0.15913294985382395,\n",
       " 0.15911796719910265,\n",
       " 0.16213451035743734,\n",
       " 0.16441696022418661,\n",
       " 0.16588948011841437,\n",
       " 0.16659693866315567,\n",
       " 0.1673395377636031,\n",
       " 0.16883612844332968,\n",
       " 0.16957735469108934,\n",
       " 0.1695656240380401,\n",
       " 0.16955324398361918,\n",
       " 0.17054223658895545,\n",
       " 0.17167393413646823,\n",
       " 0.1737989107558674,\n",
       " 0.17547691161141296,\n",
       " 0.17620764605170675,\n",
       " 0.17619824167965442,\n",
       " 0.1769050405945139,\n",
       " 0.17911420340308262,\n",
       " 0.17992689505461787,\n",
       " 0.18134163000998196,\n",
       " 0.18265066177039083,\n",
       " 0.18510882657480862,\n",
       " 0.18629898362743819,\n",
       " 0.18629177301239624,\n",
       " 0.18664837987279198,\n",
       " 0.18664121875279632,\n",
       " 0.18663372177503312,\n",
       " 0.18662589893783155,\n",
       " 0.18661775983880133,\n",
       " 0.18660931369579423,\n",
       " 0.1889115867314471,\n",
       " 0.1893616137763971,\n",
       " 0.0,\n",
       " 0.0,\n",
       " 0.0,\n",
       " 0.0,\n",
       " 0.0,\n",
       " 0.00471908572043335,\n",
       " 0.0128737727858656,\n",
       " 0.02425218377935573,\n",
       " 0.028921478147393792,\n",
       " 0.045582971043630655,\n",
       " 0.07265329509450373,\n",
       " 0.08022926030025229,\n",
       " 0.08010693079032086,\n",
       " 0.07995221357317121,\n",
       " 0.07977037496693108,\n",
       " 0.08230937292677715,\n",
       " 0.08564477868377715,\n",
       " 0.09298656880715538,\n",
       " 0.09614152078831685,\n",
       " 0.10164488738712904,\n",
       " 0.1045780260685796,\n",
       " 0.10951165579864773,\n",
       " 0.12045928037726897,\n",
       " 0.12395652323139818,\n",
       " 0.12917756143282952,\n",
       " 0.13607090094190197,\n",
       " 0.14335773019296782,\n",
       " 0.1496058680307103,\n",
       " 0.15502658426838778,\n",
       " 0.15642893499678648,\n",
       " 0.15949264733507904,\n",
       " 0.16321176638847504,\n",
       " 0.16471824313475258,\n",
       " 0.16508611419375818,\n",
       " 0.16844588766979326,\n",
       " 0.1684279481632829,\n",
       " 0.1713726624449654,\n",
       " 0.17250591347224623,\n",
       " 0.1743354498284442,\n",
       " 0.1768233724614363,\n",
       " 0.17962753502618029,\n",
       " 0.18322636647883503,\n",
       " 0.1832139921518744,\n",
       " 0.18433676383955866,\n",
       " 0.18723503777788628,\n",
       " 0.18733757057718764,\n",
       " 0.18732628946314617,\n",
       " 0.1873138753463648,\n",
       " 0.18902287761692116,\n",
       " 0.18901293470296832,\n",
       " 0.19004636751238535,\n",
       " 0.1900367670630144,\n",
       " 0.19002630140618232,\n",
       " 0.190015006714704,\n",
       " 0.19201645764180678,\n",
       " 0.19433741243120412,\n",
       " 0.19864139387002627,\n",
       " 0.19989966284878272,\n",
       " 0.20178122544396715,\n",
       " 0.2019719960499252,\n",
       " 0.2019648841419785,\n",
       " 0.2054883034710106,\n",
       " 0.20564979028741226,\n",
       " 0.20638311437583315,\n",
       " 0.20774632857307723,\n",
       " 0.20845431669671965,\n",
       " 0.20917752017330044,\n",
       " 0.20921909051414408,\n",
       " 0.2098429544102012,\n",
       " 0.21152844491490638,\n",
       " 0.21170434405304583,\n",
       " 0.21169905562818067,\n",
       " 0.21169338858783018,\n",
       " 0.2116873543602367,\n",
       " 0.21168096390451852,\n",
       " 0.21167422773590008,\n",
       " 0.2116671559488072,\n",
       " 0.21165975823906616,\n",
       " 0.21165204392413897,\n",
       " 0.2116440219624619,\n",
       " 0.0,\n",
       " 0.0,\n",
       " 0.0,\n",
       " 0.0,\n",
       " 0.0007921666251142212,\n",
       " 0.017135723358438743,\n",
       " 0.021172001494678364,\n",
       " 0.022729727876055913,\n",
       " 0.0377151401610686,\n",
       " 0.03747539382503913,\n",
       " 0.05068219999257101,\n",
       " 0.05798270317248648,\n",
       " 0.06487463494750442,\n",
       " 0.076179954150035,\n",
       " 0.08283471945560174,\n",
       " 0.08769107273732255,\n",
       " 0.09889760742770112,\n",
       " 0.09882544521783442,\n",
       " 0.0990395058915841,\n",
       " 0.10304502206665113,\n",
       " 0.10588410123221441,\n",
       " 0.11101577293222502,\n",
       " 0.1120342339799711,\n",
       " 0.11349650455780265,\n",
       " 0.11656298495962185,\n",
       " 0.12072827285265536,\n",
       " 0.12068586698497005,\n",
       " 0.12238995214876036,\n",
       " 0.12703329284347706,\n",
       " 0.1333550869732965,\n",
       " 0.13424311755198215,\n",
       " 0.13694061425024712,\n",
       " 0.1399327159069064,\n",
       " 0.14325300962666943,\n",
       " 0.14616200966197823,\n",
       " 0.14657991674280132,\n",
       " 0.15282976584497202,\n",
       " 0.15400787799460222,\n",
       " 0.15551853813571967,\n",
       " 0.1587514358079383,\n",
       " 0.16715353805924107,\n",
       " 0.16792076466657604,\n",
       " 0.16880958502440346,\n",
       " 0.16965878137076673,\n",
       " 0.17112718796917661,\n",
       " 0.1711135908729774,\n",
       " 0.17109884062289282,\n",
       " 0.17153189288708393,\n",
       " 0.1733279158634087,\n",
       " 0.18074568572767954,\n",
       " 0.18334341521335257,\n",
       " 0.18495580125271613,\n",
       " 0.18561040922978977,\n",
       " 0.18696072743721426,\n",
       " 0.18740565816936874,\n",
       " 0.18816673655573368,\n",
       " 0.1890249541550755,\n",
       " 0.19184328761752686,\n",
       " 0.19236512780781206,\n",
       " 0.19300232468698095,\n",
       " 0.1929944242107652,\n",
       " 0.1929859566788997,\n",
       " 0.1949246273556411,\n",
       " 0.19639039117661472,\n",
       " 0.19839134995947455,\n",
       " 0.19842940620866067,\n",
       " 0.20120594989925744,\n",
       " 0.20290267613319557,\n",
       " 0.20531461539615828,\n",
       " 0.2062298618698571,\n",
       " 0.20719834402593718,\n",
       " 0.20843339600533217,\n",
       " 0.21001251146589087,\n",
       " 0.2110297550857268,\n",
       " 0.21196030943146144,\n",
       " 0.21195539967969884,\n",
       " 0.2123682083323092,\n",
       " 0.21437963126678422,\n",
       " 0.21437492764498137,\n",
       " 0.21448416627383368]"
      ]
     },
     "execution_count": 112,
     "metadata": {},
     "output_type": "execute_result"
    }
   ],
   "source": [
    "conj_bern_target_lower_bounds"
   ]
  },
  {
   "cell_type": "code",
   "execution_count": null,
   "id": "5250c6e7",
   "metadata": {},
   "outputs": [],
   "source": [
    "l1, = plt.plot(bet_target_sample_sizes[0],\n",
    "               np.mean(bet_target_lower_bounds, axis=0),\n",
    "               label='Lower bound on the target risk, Betting',\n",
    "               color='indianred')\n",
    "\n",
    "plt.fill_between(\n",
    "    bet_target_sample_sizes[0],\n",
    "    y1=np.mean(bet_target_lower_bounds, axis=0) -\n",
    "    2 * np.std(bet_target_lower_bounds, axis=0) / np.sqrt(num_of_repeats),\n",
    "    y2=np.mean(bet_target_lower_bounds, axis=0) +\n",
    "    2 * np.std(bet_target_lower_bounds, axis=0) / np.sqrt(num_of_repeats),\n",
    "    alpha=0.3,\n",
    "    color='indianred')\n",
    "\n",
    "l2, = plt.plot(pm_bern_target_sample_sizes[0],\n",
    "               np.mean(pm_bern_target_lower_bounds, axis=0),\n",
    "               label='Lower bound on the target risk, PM-EB',\n",
    "               color='steelblue')\n",
    "\n",
    "plt.fill_between(\n",
    "    pm_bern_target_sample_sizes[0],\n",
    "    y1=np.mean(pm_bern_target_lower_bounds, axis=0) -\n",
    "    2 * np.std(pm_bern_target_lower_bounds, axis=0) / np.sqrt(num_of_repeats),\n",
    "    y2=np.mean(pm_bern_target_lower_bounds, axis=0) +\n",
    "    2 * np.std(pm_bern_target_lower_bounds, axis=0) / np.sqrt(num_of_repeats),\n",
    "    alpha=0.3,\n",
    "    color='steelblue')\n",
    "\n",
    "l3, = plt.plot(conj_bern_target_sample_sizes[0],\n",
    "               np.mean(conj_bern_target_lower_bounds, axis=0),\n",
    "               label='Lower bound on the target risk,  conj mixtures',\n",
    "               color='mediumaquamarine')\n",
    "\n",
    "plt.fill_between(\n",
    "    conj_bern_target_sample_sizes[0],\n",
    "    y1=np.mean(conj_bern_target_lower_bounds, axis=0) - 2 *\n",
    "    np.std(conj_bern_target_lower_bounds, axis=0) / np.sqrt(num_of_repeats),\n",
    "    y2=np.mean(conj_bern_target_lower_bounds, axis=0) + 2 *\n",
    "    np.std(conj_bern_target_lower_bounds, axis=0) / np.sqrt(num_of_repeats),\n",
    "    alpha=0.3,\n",
    "    color='mediumaquamarine')\n",
    "\n",
    "p5, = plt.plot([0.15], marker='None', linestyle='None', label='dummy-tophead')\n",
    "\n",
    "l4, = plt.plot(conj_bern_target_sample_sizes[0],\n",
    "               np.repeat(np.mean(conj_bern_rej_thrs, axis=0),\n",
    "                         len(conj_bern_target_sample_sizes[0])),\n",
    "               linestyle='dashed',\n",
    "               color='goldenrod',\n",
    "               alpha=0.7)\n",
    "\n",
    "# l4 = plt.axhline(y=np.mean(conj_bern_rej_thrs),\n",
    "#                  linestyle='dashed',\n",
    "#                  c='goldenrod',\n",
    "#                  alpha=0.7)\n",
    "\n",
    "plt.fill_between(\n",
    "    conj_bern_target_sample_sizes[0],\n",
    "    y1=np.mean(conj_bern_rej_thrs, axis=0) - 2 *\n",
    "    np.std(conj_bern_target_lower_bounds, axis=0) / np.sqrt(num_of_repeats),\n",
    "    y2=np.mean(conj_bern_rej_thrs, axis=0) +\n",
    "    2 * np.std(conj_bern_rej_thrs, axis=0) / np.sqrt(num_of_repeats),\n",
    "    alpha=0.3,\n",
    "    color='goldenrod')\n",
    "\n",
    "categories = [\n",
    "    'UCB on the source risk', r'$\\textbf{LCB on the target risk via:}$ ',\n",
    "    'Betting', 'PM-EB', 'CM-EB'\n",
    "]\n",
    "\n",
    "leg4 = plt.legend([l4, p5, l1, l2, l3],\n",
    "                  categories,\n",
    "                  loc=4,\n",
    "                  ncol=1,\n",
    "                  prop={'size': 20})  # Two columns, horizontal group labels\n",
    "\n",
    "plt.ylabel('Misclassification risk', fontsize=23)\n",
    "plt.xlabel('Number of samples from the target domain', fontsize=23)\n",
    "# plt.savefig('img/lower_bounds_misclas.pdf', bbox_inches='tight')"
   ]
  }
 ],
 "metadata": {
  "kernelspec": {
   "display_name": "Python 3",
   "language": "python",
   "name": "python3"
  },
  "language_info": {
   "codemirror_mode": {
    "name": "ipython",
    "version": 3
   },
   "file_extension": ".py",
   "mimetype": "text/x-python",
   "name": "python",
   "nbconvert_exporter": "python",
   "pygments_lexer": "ipython3",
   "version": "3.7.7"
  },
  "toc": {
   "base_numbering": 1,
   "nav_menu": {},
   "number_sections": true,
   "sideBar": true,
   "skip_h1_title": false,
   "title_cell": "Table of Contents",
   "title_sidebar": "Contents",
   "toc_cell": false,
   "toc_position": {},
   "toc_section_display": true,
   "toc_window_display": false
  }
 },
 "nbformat": 4,
 "nbformat_minor": 5
}
