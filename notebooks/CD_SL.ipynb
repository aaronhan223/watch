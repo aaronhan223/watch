{
 "cells": [
  {
   "cell_type": "markdown",
   "metadata": {},
   "source": [
    "# Experiments for the retraining note"
   ]
  },
  {
   "cell_type": "markdown",
   "metadata": {},
   "source": [
    "To be submitted to UAI.\n",
    "This notebook is modelled on the Wine Quality one."
   ]
  },
  {
   "cell_type": "markdown",
   "metadata": {},
   "source": [
    "## 1 Testing exchangeability"
   ]
  },
  {
   "cell_type": "markdown",
   "metadata": {},
   "source": [
    "First we just read the dataset."
   ]
  },
  {
   "cell_type": "code",
   "execution_count": 4,
   "metadata": {},
   "outputs": [
    {
     "name": "stdout",
     "output_type": "stream",
     "text": [
      "The sizes of the training and test sets are: 2400 920\n"
     ]
    }
   ],
   "source": [
    "import numpy as np\n",
    "import matplotlib.pyplot as plt\n",
    "from sklearn.preprocessing import StandardScaler\n",
    "\n",
    "# The key parameters: the 3 below plus Ncal (at the end)\n",
    "rg = np.random.default_rng(0)     # key parameter; setting the seed for reproducibility [default 0]\n",
    "Jrate = 0.01  # the jumping rate; in the book: 0.001; canonical: 0.01\n",
    "K = 3  # the number of folds\n",
    "SL = 4  # the version of the dataset\n",
    "\n",
    "# reading the data\n",
    "if SL==1:\n",
    "  columns = (1,2,3,4,5,6)\n",
    "  dataset = np.loadtxt(\"C:/DnB/Work/R/Papers/OCM/CD/Python/StenaLine/SL_1.csv\",\n",
    "    skiprows=1, delimiter=',', usecols=columns)\n",
    "elif SL==2:\n",
    "  columns = (1,2,3,4,5,6)\n",
    "  dataset = np.loadtxt(\"C:/DnB/Work/R/Papers/OCM/CD/Python/StenaLine/SL_2.csv\",\n",
    "    skiprows=1, delimiter=',', usecols=columns)\n",
    "elif SL==3:\n",
    "  columns = (2,3,4,5)\n",
    "  dataset = np.loadtxt(\"C:/DnB/Work/R/Papers/OCM/CD/Python/StenaLine/SL_3.csv\",\n",
    "    skiprows=1, delimiter=',', usecols=columns)\n",
    "elif SL==4:\n",
    "  columns = (2,3,4,5,6,7)  # includes GOKI (5) and KIGO (6)\n",
    "  # columns = (2,3,4,7)   # includes weekday (3)\n",
    "  # columns = (2,4,7)   # based only on D2D\n",
    "  # columns = (2,3,7)   # based only on the weekday\n",
    "  # columns = (2,2,7)   # based only on the week (silly)\n",
    "  dataset = np.loadtxt(\"C:/DnB/Work/R/Papers/OCM/CD/Python/StenaLine/SL_4.csv\",\n",
    "    skiprows=1, delimiter=',', usecols=columns)\n",
    "elif SL==5:  ## IIDisation of the SL_4 dataset\n",
    "  columns = (2,4,7)   # based only on D2D, with a spare column for IIDisation\n",
    "  dataset_raw = np.loadtxt(\"C:/DnB/Work/R/Papers/OCM/CD/Python/StenaLine/SL_4.csv\",\n",
    "    skiprows=1, delimiter=',', usecols=columns)\n",
    "else:\n",
    "  print(\"No such dataset\")\n",
    "last = len(columns)-1  # the index of the label variable\n",
    "N = dataset.shape[0]  # the total size of the dataset\n",
    "\n",
    "if SL==5:  ## IIDisation of the SL_4 dataset\n",
    "  lag = 1\n",
    "  N = N-lag\n",
    "  dataset = np.empty((N,4))\n",
    "  for n in range(N):\n",
    "    dataset[n,0] = dataset_raw[n+lag,0]\n",
    "    dataset[n,1] = dataset_raw[n+lag,1]\n",
    "    dataset[n,2] = dataset_raw[n,2]\n",
    "    dataset[n,3] = dataset_raw[n+lag,2]\n",
    "\n",
    "if SL==1:\n",
    "  N_train = 600         # the size of the training set for SL_1\n",
    "elif SL==2:\n",
    "  N_train = 450\n",
    "elif SL==3:\n",
    "  N_train = 2400        # default: 2700\n",
    "elif SL==4 or SL==5:\n",
    "  N_train = 2400        # default: 2700\n",
    "else:\n",
    "  print(\"No such dataset\")\n",
    "N_test = N - N_train  # the size of the test set\n",
    "\n",
    "train = np.copy(dataset[0:N_train,:])  # the training set\n",
    "test = np.copy(dataset[N_train:N,:])   # the test set\n",
    "\n",
    "rg.shuffle(train)  # shuffling the training set\n",
    "\n",
    "# Other views of the data:\n",
    "if SL==1:\n",
    "  X_train = train[:,1:last]  # matrix of objects\n",
    "  X_test = test[:,1:last]  # matrix of objects\n",
    "  y_train = train[:,last]    # vector of labels (real numbers)\n",
    "  y_test = test[:,last]    # vector of labels (real numbers)\n",
    "elif SL==2:\n",
    "  X_train = train[:,2:last]  # matrix of objects\n",
    "  X_test = test[:,2:last]  # matrix of objects\n",
    "  y_train = train[:,last]    # vector of labels (real numbers)\n",
    "  y_test = test[:,last]    # vector of labels (real numbers)\n",
    "elif SL==3:\n",
    "  X_train = train[:,1:last]  # matrix of objects\n",
    "  X_test = test[:,1:last]  # matrix of objects\n",
    "  y_train = train[:,last]    # vector of labels (real numbers)\n",
    "  y_test = test[:,last]    # vector of labels (real numbers)\n",
    "elif SL==4 or SL==5:\n",
    "  X_train = train[:,1:last]  # matrix of objects\n",
    "  X_test = test[:,1:last]  # matrix of objects\n",
    "  y_train = train[:,last]    # vector of labels (real numbers)\n",
    "  y_test = test[:,last]    # vector of labels (real numbers)\n",
    "else:\n",
    "  print(\"No such dataset\")\n",
    "\n",
    "fold_size = int(N_train/3)   # N_train is assumed divisible by 3\n",
    "fold = np.array([0,fold_size,2*fold_size])  # the array of starting positions of different folds\n",
    "print(\"The sizes of the training and test sets are:\",N_train,N_test)\n",
    "\n",
    "# The linear calibrator:\n",
    "def lin_cal(p,a):\n",
    "  return 1 + a*(p-0.5)\n",
    "\n",
    "# My family of calibrators:\n",
    "Ncal = 3  # the number of calibrators; default 2 or 3\n",
    "def my_cal(p,k):\n",
    "  if k==0:\n",
    "    return lin_cal(p,1)\n",
    "  if k==1:\n",
    "    return lin_cal(p,-1)\n",
    "  if k==2:\n",
    "    return lin_cal(p,0)\n",
    "  else:\n",
    "    print(\"my_cal failure\")"
   ]
  },
  {
   "cell_type": "markdown",
   "metadata": {},
   "source": [
    "Let us now process the test observations carefully (shuffling each week)."
   ]
  },
  {
   "cell_type": "code",
   "execution_count": 2,
   "metadata": {},
   "outputs": [],
   "source": [
    "test_week = np.copy(dataset[N_train:N,0])   # the week numbers in the test set\n",
    "current_week = test_week[0]\n",
    "first_index = 0\n",
    "for n in range(1,N_test):\n",
    "  if test_week[n] != current_week:\n",
    "    to_shuffle = test[first_index:n]  # current week that needs shuffling\n",
    "    rg.shuffle(to_shuffle)\n",
    "    test[first_index:n] = to_shuffle\n",
    "    current_week = test_week[n]\n",
    "    first_index = n\n",
    "  if n == N_test-1:\n",
    "    to_shuffle = test[first_index:N_test]  # last week, which needs shuffling\n",
    "    rg.shuffle(to_shuffle)\n",
    "    test[first_index:N_test] = to_shuffle"
   ]
  },
  {
   "cell_type": "markdown",
   "metadata": {},
   "source": [
    "The following is a much more careless procedure (shuffling periodically)."
   ]
  },
  {
   "cell_type": "code",
   "execution_count": 4,
   "metadata": {},
   "outputs": [],
   "source": [
    "from_index = 0\n",
    "while True:\n",
    "  to_index = from_index + 50\n",
    "  # print(to_index)\n",
    "  if to_index >= N_test:\n",
    "    to_shuffle = test[from_index:N_test]\n",
    "    rg.shuffle(to_shuffle)\n",
    "    # print(to_shuffle.size)\n",
    "    test[from_index:N_test] = to_shuffle\n",
    "    break\n",
    "  else:\n",
    "    to_shuffle = test[from_index:to_index]\n",
    "    # print(from_index,to_index,to_shuffle.size)\n",
    "    rg.shuffle(to_shuffle)\n",
    "    # print(from_index,to_index,to_shuffle.size)\n",
    "    test[from_index:to_index] = to_shuffle\n",
    "    from_index = to_index"
   ]
  },
  {
   "cell_type": "markdown",
   "metadata": {},
   "source": [
    "### 1.1 Various inductive conformity measures"
   ]
  },
  {
   "cell_type": "markdown",
   "metadata": {},
   "source": [
    "Let us now use $|y-\\hat y|$ (absdiff) or $y-\\hat y$ (diff)\n",
    "for the underlying algorithms that perform best on the full training set.\n",
    "Running time: around 2-3 secs."
   ]
  },
  {
   "cell_type": "code",
   "execution_count": 6,
   "metadata": {},
   "outputs": [
    {
     "data": {
      "image/png": "[encoded data removed]",
      "text/plain": [
       "<Figure size 432x288 with 1 Axes>"
      ]
     },
     "metadata": {
      "needs_background": "light"
     },
     "output_type": "display_data"
    },
    {
     "name": "stdout",
     "output_type": "stream",
     "text": [
      "Time elapsed: 2.3279194831848145\n"
     ]
    }
   ],
   "source": [
    "predictor = 0  # 0 Least Squares, 1 Ridge Regression, 2 SGD, 3 Lasso, 4 Ilia's Nearest Distance\n",
    "c_measure = 0  # 0 diff (difference), 1 absdiff (absolute difference), 2 diff for Ilia's Nearest distance\n",
    "\n",
    "if predictor==0:\n",
    "  from sklearn.linear_model import LinearRegression\n",
    "elif predictor==1:\n",
    "  from sklearn.linear_model import Ridge\n",
    "elif predictor==2:\n",
    "  from sklearn.linear_model import SGDRegressor\n",
    "elif predictor==3:\n",
    "  from sklearn.linear_model import Lasso\n",
    "elif predictor==4:\n",
    "  from sklearn.neighbors import NearestNeighbors\n",
    "else:\n",
    "  print(\"Invalid predictor\")\n",
    "\n",
    "import time   # for timing\n",
    "start = time.time()\n",
    "\n",
    "martingales = np.zeros((K,fold_size+N_test))\n",
    "martingales_size = np.zeros(K)\n",
    "\n",
    "# Going over all folds:\n",
    "for kkk in range(K):\n",
    "  current_fold = np.arange(fold[kkk],fold[kkk]+fold_size)\n",
    "  calibration = np.copy(train[current_fold])  # calibration set (=current fold)\n",
    "  N_calibration = calibration.shape[0]   # the size of the calibration set\n",
    "  rest = np.setdiff1d(np.arange(N_train),current_fold)  # the remaining folds\n",
    "  train_proper = np.copy(train[rest])  # training set proper\n",
    "  N_train_proper = train_proper.shape[0]  # the size of the training set proper\n",
    "  # Other views of the data:\n",
    "  if SL==1:\n",
    "    X_calibration = calibration[:,1:last]  # matrix of objects\n",
    "    X_train_proper = train_proper[:,1:last]  # matrix of objects\n",
    "    y_calibration = calibration[:,last]    # vector of labels (real numbers)\n",
    "    y_train_proper = train_proper[:,last]    # vector of labels (real numbers)\n",
    "  elif SL==2:\n",
    "    X_calibration = calibration[:,2:last]  # matrix of objects\n",
    "    X_train_proper = train_proper[:,2:last]  # matrix of objects\n",
    "    y_calibration = calibration[:,last]    # vector of labels (real numbers)\n",
    "    y_train_proper = train_proper[:,last]    # vector of labels (real numbers)\n",
    "  elif SL==3:\n",
    "    X_calibration = calibration[:,1:last]  # matrix of objects\n",
    "    X_train_proper = train_proper[:,1:last]  # matrix of objects\n",
    "    y_calibration = calibration[:,last]    # vector of labels (real numbers)\n",
    "    y_train_proper = train_proper[:,last]    # vector of labels (real numbers)\n",
    "  elif SL==4 or SL==5:\n",
    "    X_calibration = calibration[:,1:last]  # matrix of objects\n",
    "    X_train_proper = train_proper[:,1:last]  # matrix of objects\n",
    "    y_calibration = calibration[:,last]    # vector of labels (real numbers)\n",
    "    y_train_proper = train_proper[:,last]    # vector of labels (real numbers)\n",
    "  else:\n",
    "    print(\"No such dataset here\")\n",
    "  # Normalization\n",
    "  scaler = StandardScaler()\n",
    "  scaler.fit(X_train_proper)\n",
    "  X_train_proper_scaled = scaler.transform(X_train_proper)\n",
    "  X_calibration_scaled = scaler.transform(X_calibration)\n",
    "  X_test_scaled = scaler.transform(X_test)\n",
    "\n",
    "  # Computing the p-values:\n",
    "  N_runs = N_calibration + N_test  # number of runs\n",
    "\n",
    "  # p is the p-values\n",
    "  p = np.zeros(N_runs)    # p initialized\n",
    "\n",
    "  p[0] = rg.random()\n",
    "\n",
    "  ## The key part starts.  First, choose predictor and train it on the training set proper.\n",
    "  if predictor==0: # Least Squares\n",
    "    model = LinearRegression()\n",
    "    # model = KNeighborsClassifier(n_neighbors=1, p=1)  # using the Manhattan metric\n",
    "  elif predictor==1: # Ridge Regression\n",
    "    model = Ridge()\n",
    "  elif predictor==2: # Stochastic Gradient Descent\n",
    "    model = SGDRegressor(random_state=0)\n",
    "  elif predictor==3:\n",
    "    model = Lasso()\n",
    "  elif predictor==4:\n",
    "    model = NearestNeighbors(n_neighbors=1)\n",
    "  else:\n",
    "    print(\"Failure\")\n",
    "  model.fit(X_train_proper_scaled,y_train_proper)\n",
    "\n",
    "  ## Evaluating the quality for diff and absdiff:\n",
    "  if c_measure==0:  # diff\n",
    "    predictions_calibration = model.predict(X_calibration_scaled)\n",
    "    predictions_test = model.predict(X_test_scaled)\n",
    "    conf_scores_calibration = y_calibration - predictions_calibration\n",
    "    conf_scores_test = y_test - predictions_test\n",
    "  elif c_measure==1:  # absdiff\n",
    "    predictions_calibration = model.predict(X_calibration_scaled)\n",
    "    predictions_test = model.predict(X_test_scaled)\n",
    "    conf_scores_calibration = np.abs(y_calibration - predictions_calibration)\n",
    "    conf_scores_test = np.abs(y_test - predictions_test)\n",
    "  elif c_measure==2:  # only for Ilia's nearest distance\n",
    "    conf_scores_calibration = np.array(model.kneighbors(X_calibration_scaled))[0,:,0]\n",
    "    conf_scores_test = np.array(model.kneighbors(X_test_scaled))[0,:,0]\n",
    "  else:\n",
    "    print(\"Failure\")\n",
    "\n",
    "  for n in range(1,N_calibration):  # the first phase (going over the calibration set)\n",
    "    countG = 0   # the number of alpha's > alpha_n\n",
    "    countE = 1   # the number of alpha's = alpha_n\n",
    "    alpha_n = conf_scores_calibration[n]  # (non)conformity score\n",
    "    for i in range(n):\n",
    "      alpha_i = conf_scores_calibration[i]  # (non)conformity score\n",
    "      if alpha_i > alpha_n:\n",
    "        countG = countG+1\n",
    "      if alpha_i == alpha_n:\n",
    "        countE = countE+1\n",
    "    p[n] = (countG + rg.random() * countE) / (n+1)\n",
    "\n",
    "  for n in range(N_test):  # the second phase (going over the test set)\n",
    "    countG = 0   # the number of alpha's > alpha_n\n",
    "    countE = 1   # the number of alpha's = alpha_n\n",
    "    alpha_n = conf_scores_test[n]  # (non)conformity score\n",
    "    for i in range(N_calibration):   # going over the calibration set\n",
    "      alpha_i = conf_scores_calibration[i]  # (non)conformity score\n",
    "      if alpha_i > alpha_n:\n",
    "        countG = countG+1\n",
    "      if alpha_i == alpha_n:\n",
    "        countE = countE+1\n",
    "    for i in range(n):  # going over a beginning of the test set\n",
    "      alpha_i = conf_scores_test[i]  # (non)conformity score\n",
    "      if alpha_i > alpha_n:\n",
    "        countG = countG+1\n",
    "      if alpha_i == alpha_n:\n",
    "        countE = countE+1\n",
    "    p[N_calibration+n] = (countG + rg.random() * countE) / (N_calibration+n+1)\n",
    "\n",
    "  my_colors = ['r','g','b']\n",
    "\n",
    "  # Processing the test set\n",
    "  MartCap = np.zeros((Ncal,N_runs))  # the total capital of martingales in each state\n",
    "  MartCap[:,0] = 1/Ncal  # the initial distribution is uniform\n",
    "  for i in range(1,N_runs):\n",
    "    # Jump mixing starts\n",
    "    Capital = np.sum(MartCap[:,i-1])\n",
    "    MartCap[:,i] = (1-Jrate)*MartCap[:,i-1] + (Jrate/Ncal)*Capital\n",
    "    # Jump mixing ends\n",
    "    for k in range(Ncal):\n",
    "      MartCap[k,i] = MartCap[k,i] * my_cal(p[i],k)\n",
    "  martingale = np.sum(MartCap,axis=0)\n",
    "  plt.plot(martingale,c=my_colors[kkk],label='fold '+str(kkk+1))\n",
    "  martingales[kkk,0:martingale.size] = martingale  # for future use\n",
    "  martingales_size[kkk] = martingale.size\n",
    "\n",
    "plt.yscale(\"log\")\n",
    "if SL==1:\n",
    "  plt.axvline(x=772-2*fold_size,c='k',lw=1)   # lockdown in England\n",
    "elif SL==2:\n",
    "  plt.axvline(x=478-2*fold_size,c='k',lw=1)   # lockdown in England\n",
    "elif SL==3:\n",
    "  plt.axvline(x=2797-2*fold_size,c='k',lw=1)   # WHO declare pandemic (11 Mar 2020)\n",
    "elif SL==4 or SL==5:\n",
    "  plt.axvline(x=3070-2*fold_size,c='k',lw=1)   # WHO declare pandemic (11 Mar 2020)\n",
    "  plt.axvline(x=3027-2*fold_size,c='r',lw=1)   # Beijing cancels Chinese New Year\n",
    "else:\n",
    "  print(\"No such dataset\")\n",
    "plt.legend(loc='best')\n",
    "# plt.savefig(\"SL.pdf\", bbox_inches='tight')\n",
    "plt.show()\n",
    "\n",
    "# print(\"Final blue value:\", martingale2[N-1])\n",
    "\n",
    "# finding time elapsed in seconds\n",
    "end = time.time()\n",
    "print(\"Time elapsed:\", end - start)\n",
    "\n",
    "# Sound:\n",
    "import winsound\n",
    "frequency = 2500  # Set Frequency To 2500 Hertz\n",
    "duration = 1000  # Set Duration To 1000 ms == 1 second\n",
    "winsound.Beep(frequency, duration)"
   ]
  },
  {
   "cell_type": "markdown",
   "metadata": {},
   "source": [
    "### 1.2 Nicer pictures"
   ]
  },
  {
   "cell_type": "markdown",
   "metadata": {},
   "source": [
    "If needed, we can easily redraw the Ville picture (since we remembered the martingales)."
   ]
  },
  {
   "cell_type": "code",
   "execution_count": 19,
   "metadata": {},
   "outputs": [
    {
     "name": "stdout",
     "output_type": "stream",
     "text": [
      "No such dataset\n"
     ]
    },
    {
     "data": {
      "image/png": "[encoded data removed]",
      "text/plain": [
       "<Figure size 432x288 with 1 Axes>"
      ]
     },
     "metadata": {
      "needs_background": "light"
     },
     "output_type": "display_data"
    }
   ],
   "source": [
    "# This code requires the arrays martingales0, martingales 1, and martingales_size\n",
    "# (and other stuff from the previous cell, such as K)\n",
    "my_colors = ['r','g','b']\n",
    "for kkk in range(K):   # going over all folds\n",
    "  N = int(martingales_size[kkk])  # number of trials\n",
    "  # N = 1200   # for partial pictures\n",
    "  plt.plot(martingales[kkk,0:N],c=my_colors[kkk],label='fold '+str(kkk+1))\n",
    "  ## the change point under microscope:\n",
    "  # plt.plot(np.arange(1000,N),martingales0[kkk,1000:N],c=my_colors[kkk+3])\n",
    "  # plt.plot(np.arange(1000,N),martingales1[kkk,1000:N],c=my_colors[kkk],label='fold '+str(kkk+1))\n",
    "    \n",
    "predictors = [\"LS\",\"RR\",\"SGD\",\"Lasso\",\"IND\"]\n",
    "c_measures = [\"diff\",\"absdiff\",\"\"]\n",
    "\n",
    "plt.yscale(\"log\")\n",
    "if SL==1:\n",
    "  plt.axvline(x=772-2*fold_size)   # lockdown in England\n",
    "elif SL==2:\n",
    "  plt.axvline(x=478-2*fold_size)   # lockdown in England\n",
    "elif SL==3:\n",
    "  plt.axvline(x=2797-2*fold_size,c='k',lw=1)   # WHO declare pandemic (11 Mar 2020)\n",
    "else:\n",
    "  print(\"No such dataset\")\n",
    "plt.legend(loc='best')\n",
    "plt.savefig(\"SL_\"+predictors[predictor]+c_measures[c_measure]+\"_Ville.pdf\", bbox_inches='tight')\n",
    "plt.show()"
   ]
  },
  {
   "cell_type": "markdown",
   "metadata": {},
   "source": [
    "Now let me do the Shiryaev-Roberts picture."
   ]
  },
  {
   "cell_type": "code",
   "execution_count": 93,
   "metadata": {},
   "outputs": [
    {
     "data": {
      "image/png": "[encoded data removed]",
      "text/plain": [
       "<Figure size 432x288 with 1 Axes>"
      ]
     },
     "metadata": {
      "needs_background": "light"
     },
     "output_type": "display_data"
    }
   ],
   "source": [
    "# This code requires the arrays martingales and martingales_size\n",
    "# (and other stuff from the previous cell, such as K)\n",
    "my_colors = ['r','g','b']\n",
    "for kkk in range(K):   # going over all folds\n",
    "  N = int(martingales_size[kkk])  # number of trials\n",
    "  SR = np.zeros(N)  # Shiryaev-Roberts array\n",
    "  for n in range(1,N):  # going over the time\n",
    "    SR[n] = (martingales[kkk,n]/martingales[kkk,n-1]) * (SR[n-1]+1)\n",
    "  SR[0] = 1   # for a nicer picture\n",
    "  plt.plot(SR,c=my_colors[kkk],label='fold '+str(kkk+1))\n",
    "\n",
    "plt.yscale(\"log\")\n",
    "plt.axvline(x=772-400, linewidth=0.5, c='k')  # lockdown in England\n",
    "plt.legend(loc='best')\n",
    "plt.savefig(\"SL_\"+predictors[predictor]+c_measures[c_measure]+\"_SR.pdf\", bbox_inches='tight')\n",
    "plt.show()"
   ]
  },
  {
   "cell_type": "markdown",
   "metadata": {},
   "source": [
    "Finally, the CUSUM picture."
   ]
  },
  {
   "cell_type": "code",
   "execution_count": 94,
   "metadata": {},
   "outputs": [
    {
     "data": {
      "image/png": "[encoded data removed]",
      "text/plain": [
       "<Figure size 432x288 with 1 Axes>"
      ]
     },
     "metadata": {
      "needs_background": "light"
     },
     "output_type": "display_data"
    }
   ],
   "source": [
    "# This code requires the arrays martingales and martingales_size\n",
    "# (and other stuff from the previous cell, such as K)\n",
    "my_colors = ['r','g','b']\n",
    "for kkk in range(K):   # going over all folds\n",
    "  N = int(martingales_size[kkk])  # number of trials\n",
    "  CUSUM = np.ones(N)  # CUSUM array\n",
    "  min_so_far = 1  # min so far initialized\n",
    "  for n in range(1,N):  # going over the time\n",
    "    if martingales[kkk,n]<min_so_far:\n",
    "      min_so_far = martingales[kkk,n]\n",
    "    CUSUM[n] = martingales[kkk,n] / min_so_far\n",
    "    # for a nicer picture:\n",
    "    if CUSUM[n]<1:\n",
    "      CUSUM[n] = 1\n",
    "  plt.plot(CUSUM,c=my_colors[kkk],label='fold '+str(kkk+1))\n",
    "\n",
    "plt.yscale(\"log\")\n",
    "plt.axvline(x=772-400, linewidth=0.5, c='k')  # lockdown in England\n",
    "plt.legend(loc='best')\n",
    "plt.savefig(\"SL_\"+predictors[predictor]+c_measures[c_measure]+\"_CUSUM.pdf\", bbox_inches='tight')\n",
    "plt.show()"
   ]
  },
  {
   "cell_type": "markdown",
   "metadata": {},
   "source": [
    "## 2 Prediction accuracy"
   ]
  },
  {
   "cell_type": "markdown",
   "metadata": {},
   "source": [
    "Let us first turn the data into a format good for scikit-learn."
   ]
  },
  {
   "cell_type": "code",
   "execution_count": 31,
   "metadata": {},
   "outputs": [],
   "source": [
    "from sklearn.preprocessing import StandardScaler\n",
    "\n",
    "# Normalization\n",
    "scaler = StandardScaler()\n",
    "scaler.fit(X_train)\n",
    "X_train_scaled = scaler.transform(X_train)\n",
    "X_test_scaled = scaler.transform(X_test)"
   ]
  },
  {
   "cell_type": "markdown",
   "metadata": {},
   "source": [
    "### 2.1 The algorithms from CS3920"
   ]
  },
  {
   "cell_type": "markdown",
   "metadata": {},
   "source": [
    "First the prediction accuracy of K-Nearest Neighbours."
   ]
  },
  {
   "cell_type": "code",
   "execution_count": 61,
   "metadata": {},
   "outputs": [
    {
     "name": "stdout",
     "output_type": "stream",
     "text": [
      "Score in scikit-learn: 0.02643171806167401\n",
      "Accuracy: 13.193832599118943\n"
     ]
    }
   ],
   "source": [
    "# Training 1-Nearest Neighbour:\n",
    "from sklearn.neighbors import KNeighborsClassifier\n",
    "knn = KNeighborsClassifier(n_neighbors=1)\n",
    "# knn = KNeighborsClassifier(n_neighbors=1, p=1)  # using the Manhattan metric (identical results)\n",
    "knn.fit(X_train_scaled,y_train)\n",
    "\n",
    "# Evaluating the quality:\n",
    "print(\"Score in scikit-learn:\", knn.score(X_test_scaled,y_test))\n",
    "predictions = knn.predict(X_test_scaled)\n",
    "print(\"Accuracy:\",np.mean(np.abs(y_test-predictions)))"
   ]
  },
  {
   "cell_type": "markdown",
   "metadata": {},
   "source": [
    "Now let us try Least Squares."
   ]
  },
  {
   "cell_type": "code",
   "execution_count": 59,
   "metadata": {},
   "outputs": [
    {
     "name": "stdout",
     "output_type": "stream",
     "text": [
      "Score in scikit-learn: 0.14811122636355756\n",
      "MAD: 10.715059699356372\n"
     ]
    }
   ],
   "source": [
    "from sklearn.linear_model import LinearRegression\n",
    "ls = LinearRegression().fit(X_train_scaled,y_train)\n",
    "\n",
    "# Evaluating the quality:\n",
    "print(\"Score in scikit-learn:\", ls.score(X_test_scaled,y_test))\n",
    "predictions = ls.predict(X_test_scaled)\n",
    "print(\"MAD:\",np.mean(np.abs(y_test-predictions)))"
   ]
  },
  {
   "cell_type": "markdown",
   "metadata": {},
   "source": [
    "Next Ridge Regression."
   ]
  },
  {
   "cell_type": "code",
   "execution_count": 62,
   "metadata": {},
   "outputs": [
    {
     "name": "stdout",
     "output_type": "stream",
     "text": [
      "Score in scikit-learn: 0.14802915684882512\n",
      "Accuracy: 10.714250767138552\n"
     ]
    }
   ],
   "source": [
    "from sklearn.linear_model import Ridge\n",
    "ridge = Ridge().fit(X_train_scaled,y_train)\n",
    "# ridge = Ridge(alpha=0.1).fit(X_train_scaled,y_train)  # the default (in the line above) is alpha=1\n",
    "\n",
    "# Evaluating the quality:\n",
    "print(\"Score in scikit-learn:\", ridge.score(X_test_scaled,y_test))\n",
    "predictions = ridge.predict(X_test_scaled)\n",
    "print(\"Accuracy:\",np.mean(np.abs(y_test-predictions)))"
   ]
  },
  {
   "cell_type": "markdown",
   "metadata": {},
   "source": [
    "Now the Lasso."
   ]
  },
  {
   "cell_type": "code",
   "execution_count": 80,
   "metadata": {},
   "outputs": [
    {
     "name": "stdout",
     "output_type": "stream",
     "text": [
      "Score in scikit-learn: 0.1336580328318604\n",
      "Lasso(alpha=1.0, copy_X=True, fit_intercept=True, max_iter=1000,\n",
      "      normalize=False, positive=False, precompute=False, random_state=None,\n",
      "      selection='cyclic', tol=0.0001, warm_start=False)\n",
      "Accuracy: 10.672711090483382\n",
      "Number of non-zero coefficients: 1\n",
      "The coeeficients: [-0.          4.55603094 -0.          0.        ]\n"
     ]
    }
   ],
   "source": [
    "from sklearn.linear_model import Lasso\n",
    "lasso = Lasso().fit(X_train_scaled,y_train)\n",
    "\n",
    "# Evaluating the quality:\n",
    "print(\"Score in scikit-learn:\", lasso.score(X_test_scaled,y_test))\n",
    "predictions = lasso.predict(X_test_scaled)\n",
    "print(lasso)\n",
    "print(\"Accuracy:\", np.mean(np.abs(y_test-predictions)))\n",
    "print(\"Number of non-zero coefficients:\", np.sum(lasso.coef_ != 0))\n",
    "print(\"The coeeficients:\", lasso.coef_)"
   ]
  },
  {
   "cell_type": "markdown",
   "metadata": {},
   "source": [
    "Next Nearest Neighbour with the polynomial and RBF kernels.\n",
    "(This takes 1 sec for the polynomial and 4 secs for RBF.)"
   ]
  },
  {
   "cell_type": "code",
   "execution_count": 65,
   "metadata": {},
   "outputs": [
    {
     "name": "stdout",
     "output_type": "stream",
     "text": [
      "Score in scikit-learn: 0.030837004405286344\n",
      "Accuracy: 12.94273127753304\n",
      "Time elapsed: 3.3799831867218018\n"
     ]
    }
   ],
   "source": [
    "import time   # for timing\n",
    "start = time.time()\n",
    "\n",
    "def poly_kernel(x,y,d):\n",
    "  return (1+np.dot(x,y))**d\n",
    "d = 3 # trying the polynomial kernel of degree d\n",
    "def poly_dist(x,y): # squared distance\n",
    "  return poly_kernel(x,x,d) + poly_kernel(y,y,d) - 2*poly_kernel(x,y,d)\n",
    "\n",
    "def rbf_kernel(x,y,gamma):\n",
    "  return np.exp(-gamma*np.sum((x-y)**2))\n",
    "gamma = 10 # the parameter gamma of the rbf kernel\n",
    "def rbf_dist(x,y): # squared distance\n",
    "  return rbf_kernel(x,x,gamma) + rbf_kernel(y,y,gamma) - 2*rbf_kernel(x,y,gamma)\n",
    "\n",
    "# knn = KNeighborsClassifier(n_neighbors=1, metric=rbf_dist)\n",
    "knn = KNeighborsClassifier(n_neighbors=1, metric=poly_dist)\n",
    "knn.fit(X_train_scaled,y_train)\n",
    "\n",
    "# Evaluating the quality:\n",
    "print(\"Score in scikit-learn:\", knn.score(X_test_scaled,y_test))\n",
    "predictions = knn.predict(X_test_scaled)\n",
    "print(\"Accuracy:\",np.mean(np.abs(y_test-predictions)))\n",
    "\n",
    "# finding time elapsed in seconds\n",
    "end = time.time()\n",
    "print(\"Time elapsed:\", end - start)"
   ]
  },
  {
   "cell_type": "markdown",
   "metadata": {},
   "source": [
    "Next neural nets (without using the boundedness of the label)."
   ]
  },
  {
   "cell_type": "code",
   "execution_count": 66,
   "metadata": {},
   "outputs": [
    {
     "name": "stderr",
     "output_type": "stream",
     "text": [
      "C:\\Users\\uhac013\\Anaconda3\\lib\\site-packages\\sklearn\\neural_network\\_multilayer_perceptron.py:571: ConvergenceWarning: Stochastic Optimizer: Maximum iterations (200) reached and the optimization hasn't converged yet.\n",
      "  % self.max_iter, ConvergenceWarning)\n"
     ]
    },
    {
     "name": "stdout",
     "output_type": "stream",
     "text": [
      "Score in scikit-learn: 0.03524229074889868\n",
      "Accuracy: 11.555066079295154\n",
      "Time elapsed: 3.0023961067199707\n"
     ]
    },
    {
     "name": "stderr",
     "output_type": "stream",
     "text": [
      "C:\\Users\\uhac013\\Anaconda3\\lib\\site-packages\\sklearn\\neural_network\\_multilayer_perceptron.py:571: ConvergenceWarning: Stochastic Optimizer: Maximum iterations (200) reached and the optimization hasn't converged yet.\n",
      "  % self.max_iter, ConvergenceWarning)\n"
     ]
    }
   ],
   "source": [
    "import time   # for timing\n",
    "start = time.time()\n",
    "\n",
    "from sklearn.neural_network import MLPClassifier\n",
    "\n",
    "mlp = MLPClassifier(random_state=0).fit(X_train_scaled, y_train) # 11.6 (2 secs)\n",
    "# mlp = MLPClassifier(max_iter=1000,random_state=0).fit(X_train_scaled, y_train) # 13.3 (10 secs)\n",
    "# default max_iter is 200; there was a warning that it's not enough\n",
    "# mlp = MLPClassifier(hidden_layer_sizes=[10]).fit(X_train_scaled, y_train) # 11.2\n",
    "# mlp = MLPClassifier(solver='lbfgs',hidden_layer_sizes=[10]).fit(X_train_scaled, y_train) # \n",
    "# mlp = MLPClassifier(solver='lbfgs',hidden_layer_sizes=[10],activation='tanh').fit(X_train_scaled, y_train) # \n",
    "# the default for the hidden layer sizes is 100; there are warnings about non-convergence\n",
    "# the options are as in CS3920, Lab 8\n",
    "mlp.fit(X_train_scaled,y_train)\n",
    "\n",
    "# Evaluating the quality:\n",
    "print(\"Score in scikit-learn:\", mlp.score(X_test_scaled,y_test))\n",
    "predictions = mlp.predict(X_test_scaled)\n",
    "print(\"Accuracy:\",np.mean(np.abs(y_test-predictions)))\n",
    "\n",
    "# finding time elapsed in seconds\n",
    "end = time.time()\n",
    "print(\"Time elapsed:\", end - start)"
   ]
  },
  {
   "cell_type": "markdown",
   "metadata": {},
   "source": [
    "Next linear Support Vector Regression."
   ]
  },
  {
   "cell_type": "code",
   "execution_count": 82,
   "metadata": {},
   "outputs": [
    {
     "name": "stdout",
     "output_type": "stream",
     "text": [
      "Score in scikit-learn: 0.13309070383865562\n",
      "Accuracy: 10.497629251102776\n",
      "Time elapsed: 0.005088090896606445\n"
     ]
    }
   ],
   "source": [
    "import time   # for timing\n",
    "start = time.time()\n",
    "\n",
    "from sklearn.svm import LinearSVR\n",
    "svr = LinearSVR(random_state=0).fit(X_train_scaled, y_train)  # 0.56\n",
    "# svr = LinearSVR(max_iter=10000,random_state=0).fit(X_train_scaled, y_train)  # 0.56\n",
    "# the default is max_iter=1000\n",
    "\n",
    "# Evaluating the quality:\n",
    "print(\"Score in scikit-learn:\", svr.score(X_test_scaled,y_test))\n",
    "predictions = svr.predict(X_test_scaled)\n",
    "print(\"Accuracy:\",np.mean(np.abs(y_test-predictions)))\n",
    "\n",
    "# finding time elapsed in seconds\n",
    "end = time.time()\n",
    "print(\"Time elapsed:\", end - start)"
   ]
  },
  {
   "cell_type": "markdown",
   "metadata": {},
   "source": [
    "Next kernel Support Vector Regression."
   ]
  },
  {
   "cell_type": "code",
   "execution_count": 81,
   "metadata": {},
   "outputs": [
    {
     "name": "stdout",
     "output_type": "stream",
     "text": [
      "Score in scikit-learn: 0.020055649484843507\n",
      "Accuracy: 10.62655977829401\n",
      "Time elapsed: 0.051488637924194336\n"
     ]
    }
   ],
   "source": [
    "import time   # for timing\n",
    "start = time.time()\n",
    "\n",
    "from sklearn.svm import SVR\n",
    "svr = SVR().fit(X_train_scaled, y_train)  # 0.50\n",
    "\n",
    "# Evaluating the quality:\n",
    "print(\"Score in scikit-learn:\", svr.score(X_test_scaled,y_test))\n",
    "predictions = svr.predict(X_test_scaled)\n",
    "print(\"Accuracy:\",np.mean(np.abs(y_test-predictions)))\n",
    "\n",
    "# finding time elapsed in seconds\n",
    "end = time.time()\n",
    "print(\"Time elapsed:\", end - start)"
   ]
  },
  {
   "cell_type": "markdown",
   "metadata": {},
   "source": [
    "Now let's try decision trees."
   ]
  },
  {
   "cell_type": "code",
   "execution_count": 74,
   "metadata": {},
   "outputs": [
    {
     "name": "stdout",
     "output_type": "stream",
     "text": [
      "Score in scikit-learn: -0.16206806485505806\n",
      "Accuracy: 12.308370044052863\n"
     ]
    }
   ],
   "source": [
    "from sklearn.tree import DecisionTreeRegressor\n",
    "tree = DecisionTreeRegressor()\n",
    "tree.fit(X_train_scaled, y_train)\n",
    "\n",
    "# Evaluating the quality:\n",
    "print(\"Score in scikit-learn:\", tree.score(X_test_scaled,y_test))\n",
    "predictions = tree.predict(X_test_scaled)\n",
    "print(\"Accuracy:\",np.mean(np.abs(y_test-predictions)))"
   ]
  },
  {
   "cell_type": "markdown",
   "metadata": {},
   "source": [
    "Now we enhance decision trees to the random forest."
   ]
  },
  {
   "cell_type": "code",
   "execution_count": 75,
   "metadata": {},
   "outputs": [
    {
     "name": "stdout",
     "output_type": "stream",
     "text": [
      "Score in scikit-learn: 0.0649072123791381\n",
      "Accuracy: 10.649118942731278\n"
     ]
    }
   ],
   "source": [
    "from sklearn.ensemble import RandomForestRegressor\n",
    "# forest = RandomForestRegressor(n_estimators=1000,random_state=0)  # 10,000 is too long\n",
    "forest = RandomForestRegressor(random_state=0)  # 10.6\n",
    "# default: n_estimators = 100\n",
    "# 1000 estimators: 10.6\n",
    "# 100 estimators: 10.6 (default)\n",
    "# 10 estimator: 11.1 (this was the defaut before scikit-learn 0.22)\n",
    "forest.fit(X_train_scaled, y_train)\n",
    "\n",
    "# Evaluating the quality:\n",
    "print(\"Score in scikit-learn:\", forest.score(X_test_scaled,y_test))\n",
    "predictions = forest.predict(X_test_scaled)\n",
    "print(\"Accuracy:\",np.mean(np.abs(y_test-predictions)))"
   ]
  },
  {
   "cell_type": "markdown",
   "metadata": {},
   "source": [
    "Finally, Gradient Boosting (the other algorithms are for classification)."
   ]
  },
  {
   "cell_type": "code",
   "execution_count": 76,
   "metadata": {},
   "outputs": [
    {
     "name": "stdout",
     "output_type": "stream",
     "text": [
      "Score in scikit-learn: 0.07889910126651256\n",
      "Accuracy: 10.770529693969529\n"
     ]
    }
   ],
   "source": [
    "from sklearn.ensemble import GradientBoostingRegressor\n",
    "gb = GradientBoostingRegressor(random_state=0)  # 10.8\n",
    "# gb = GradientBoostingRegressor(random_state=0,max_depth=1)  # 10.6\n",
    "# gb = GradientBoostingRegressor(random_state=0,learning_rate=0.01)  # 10.7\n",
    "gb.fit(X_train_scaled, y_train)\n",
    "\n",
    "# Evaluating the quality:\n",
    "print(\"Score in scikit-learn:\", gb.score(X_test_scaled,y_test))\n",
    "predictions = gb.predict(X_test_scaled)\n",
    "print(\"Accuracy:\",np.mean(np.abs(y_test-predictions)))"
   ]
  },
  {
   "cell_type": "markdown",
   "metadata": {},
   "source": [
    "### 2.2 Other algorithms from scikit-learn"
   ]
  },
  {
   "cell_type": "markdown",
   "metadata": {},
   "source": [
    "On 15 February 2021 I went over all the regression algorithms in scikit-learn.\n",
    "None of them was comparable with SVR and Least Squares (the best two in CS3920)."
   ]
  },
  {
   "cell_type": "markdown",
   "metadata": {},
   "source": [
    "Kernel Ridge Regression:"
   ]
  },
  {
   "cell_type": "code",
   "execution_count": 77,
   "metadata": {},
   "outputs": [
    {
     "name": "stdout",
     "output_type": "stream",
     "text": [
      "Score in scikit-learn: 0.02226886662067107\n",
      "Accuracy: 10.924359375249928\n"
     ]
    }
   ],
   "source": [
    "from sklearn.kernel_ridge import KernelRidge\n",
    "# krr = KernelRidge()  # hopeless\n",
    "krr = KernelRidge(kernel='rbf')\n",
    "# krr = KernelRidge(alpha=1.0)  # alpha=1.0 is the default\n",
    "krr.fit(X_train_scaled, y_train)\n",
    "\n",
    "# Evaluating the quality:\n",
    "print(\"Score in scikit-learn:\", krr.score(X_test_scaled,y_test))\n",
    "predictions = krr.predict(X_test_scaled)\n",
    "print(\"Accuracy:\",np.mean(np.abs(y_test-predictions)))"
   ]
  },
  {
   "cell_type": "markdown",
   "metadata": {},
   "source": [
    "Stochastic Gradient Desecent:"
   ]
  },
  {
   "cell_type": "code",
   "execution_count": 78,
   "metadata": {},
   "outputs": [
    {
     "name": "stdout",
     "output_type": "stream",
     "text": [
      "Score in scikit-learn: 0.14810676472988415\n",
      "Accuracy: 10.710011049441995\n"
     ]
    }
   ],
   "source": [
    "from sklearn.linear_model import SGDRegressor\n",
    "sgd = SGDRegressor(random_state=0)  # 10.7\n",
    "# sgd = SGDRegressor(max_iter=1000, tol=1e-3)  # example given in the scikit-learn documentation #\n",
    "sgd.fit(X_train_scaled, y_train)\n",
    "\n",
    "# Evaluating the quality:\n",
    "print(\"Score in scikit-learn:\", sgd.score(X_test_scaled,y_test))\n",
    "predictions = sgd.predict(X_test_scaled)\n",
    "print(\"Accuracy:\",np.mean(np.abs(y_test-predictions)))"
   ]
  },
  {
   "cell_type": "markdown",
   "metadata": {},
   "source": [
    "Gaussian Process Regression:"
   ]
  },
  {
   "cell_type": "code",
   "execution_count": 79,
   "metadata": {},
   "outputs": [
    {
     "name": "stdout",
     "output_type": "stream",
     "text": [
      "Score in scikit-learn: 0.13914906777082814\n",
      "Accuracy: 10.672466103555463\n"
     ]
    }
   ],
   "source": [
    "from sklearn.gaussian_process import GaussianProcessRegressor\n",
    "from sklearn.gaussian_process.kernels import DotProduct, WhiteKernel\n",
    "kernel = DotProduct() + WhiteKernel()   # example given in the scikit-learn documentation # 10.7\n",
    "gpr = GaussianProcessRegressor(kernel=kernel,random_state=0).fit(X_train_scaled,y_train)  # 10.7\n",
    "# gpr = GaussianProcessRegressor(random_state=0).fit(X_train_scaled,y_train)   # huge\n",
    "\n",
    "# Evaluating the quality:\n",
    "print(\"Score in scikit-learn:\", gpr.score(X_test_scaled,y_test))\n",
    "predictions = gpr.predict(X_test_scaled)\n",
    "print(\"Accuracy:\",np.mean(np.abs(y_test-predictions)))"
   ]
  },
  {
   "cell_type": "markdown",
   "metadata": {},
   "source": [
    "## 3 Sandbox"
   ]
  },
  {
   "cell_type": "code",
   "execution_count": null,
   "metadata": {},
   "outputs": [],
   "source": []
  }
 ],
 "metadata": {
  "kernelspec": {
   "display_name": "Python 3 (ipykernel)",
   "language": "python",
   "name": "python3"
  },
  "language_info": {
   "codemirror_mode": {
    "name": "ipython",
    "version": 3
   },
   "file_extension": ".py",
   "mimetype": "text/x-python",
   "name": "python",
   "nbconvert_exporter": "python",
   "pygments_lexer": "ipython3",
   "version": "3.11.7"
  }
 },
 "nbformat": 4,
 "nbformat_minor": 4
}
