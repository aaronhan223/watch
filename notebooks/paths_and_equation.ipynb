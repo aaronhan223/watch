{
 "cells": [
  {
   "cell_type": "markdown",
   "metadata": {},
   "source": [
    "# Simple Jumper in the ideal situation"
   ]
  },
  {
   "cell_type": "markdown",
   "metadata": {},
   "source": [
    "## Paths"
   ]
  },
  {
   "cell_type": "markdown",
   "metadata": {},
   "source": [
    "The following cell draws one path of the Simple Jumper.\n",
    "About 20 secs for $N=10^6$.\n",
    "It is modelled on Python/CUSUM/AWS_linux.py."
   ]
  },
  {
   "cell_type": "code",
   "execution_count": 14,
   "metadata": {},
   "outputs": [
    {
     "data": {
      "image/png": "[encoded data removed]",
      "text/plain": [
       "<Figure size 432x288 with 1 Axes>"
      ]
     },
     "metadata": {
      "needs_background": "light"
     },
     "output_type": "display_data"
    },
    {
     "name": "stdout",
     "output_type": "stream",
     "text": [
      "Time elapsed: 51.356404542922974\n"
     ]
    }
   ],
   "source": [
    "import numpy as np\n",
    "import matplotlib.pyplot as plt\n",
    "\n",
    "# The key parameters: the 5 below plus Ncal (line 16)\n",
    "rg = np.random.default_rng(0)     # key parameter; setting the seed for reproducibility [default 0]\n",
    "Jrate = 0.01   # the jumping rate; default: 0.01\n",
    "K = 3          # how many paths to draw\n",
    "N = 10**6      # the number of observations\n",
    "reset_interval = 10000  # occasional reset to avoid capital undeflow\n",
    "\n",
    "# The linear calibrator:\n",
    "def lin_cal(p,a):\n",
    "  return 1 + a*(p-0.5)\n",
    "\n",
    "# My family of calibrators:\n",
    "Ncal = 3  # the number of calibrators; default 3\n",
    "def my_cal(p,k):\n",
    "  if k==0:\n",
    "    return lin_cal(p,1)\n",
    "  if k==1:\n",
    "    return lin_cal(p,-1)\n",
    "  if k==2:\n",
    "    return lin_cal(p,0)\n",
    "  else:\n",
    "    print(\"my_cal failure\")\n",
    "\n",
    "import time\n",
    "start = time.time()\n",
    "\n",
    "log_Ville = np.empty(N)    # the path of the log capital\n",
    "my_colors = ['r','g','b']\n",
    "labels = ['path 1','path 2','path 3']\n",
    "\n",
    "MartCap = np.empty(Ncal)  # the total capital of martingales in each state\n",
    "for k in range(3):\n",
    "  accumulated = 0           # accumulated shortfall (on the log scale)\n",
    "  MartCap[:] = 1/Ncal       # the uniform initial distribution\n",
    "  Capital = np.sum(MartCap) # the total capital (1)\n",
    "  # generating the dataset:\n",
    "  p = rg.random(N)\n",
    "  for n in range(N):  # going through the observations\n",
    "    # Jump mixing starts\n",
    "    MartCap[:] = (1-Jrate)*MartCap[:] + (Jrate/Ncal)*Capital\n",
    "    # Jump mixing ends\n",
    "    for kk in range(Ncal):\n",
    "      MartCap[kk] = MartCap[kk] * my_cal(p[n],kk)\n",
    "    Capital = np.sum(MartCap)\n",
    "    log_Ville[n] = np.log10(Capital) + accumulated\n",
    "    # to avoid underflow:\n",
    "    if n%reset_interval == 0:\n",
    "      MartCap[:] = MartCap[:] / Capital\n",
    "      accumulated += np.log10(Capital)\n",
    "      Capital = 1\n",
    "  # drawing the trajectory:\n",
    "  plt.plot(log_Ville,c=my_colors[k],label=labels[k],alpha=0.8)\n",
    "\n",
    "plt.yticks(ticks=[0,-500,-1000,-1500],labels=[r'$10^0$',r'$10^{-500}$',r'$10^{-1000}$',r'$10^{-1500}$'])\n",
    "plt.legend(loc=1)  # upper right\n",
    "plt.savefig(\"Ville_N=10^\"+str(int(np.log10(N)))+\"_paths.pdf\", bbox_inches='tight')\n",
    "plt.show()\n",
    "\n",
    "# finding time elapsed in seconds\n",
    "end = time.time()\n",
    "print(\"Time elapsed:\", end - start)"
   ]
  },
  {
   "cell_type": "markdown",
   "metadata": {},
   "source": [
    "## Equation"
   ]
  },
  {
   "cell_type": "code",
   "execution_count": 15,
   "metadata": {},
   "outputs": [
    {
     "name": "stdout",
     "output_type": "stream",
     "text": [
      "906.6996834240854\n"
     ]
    }
   ],
   "source": [
    "import numpy as np\n",
    "# the left-hand side:\n",
    "def LHS(n):\n",
    "  return 4*n*10**(-0.00172*n)\n",
    "# the right-hand side:\n",
    "def RHS(n):\n",
    "  return 100\n",
    "left = 600\n",
    "right = 1200\n",
    "for _ in range(30):  # default: 30 (accuracy more than enough)\n",
    "  middle = 0.5*(left+right)\n",
    "  if (LHS(middle)>RHS(middle)):  # < to the left of 200, > to the right of 200\n",
    "    left = middle\n",
    "  else:\n",
    "    right = middle\n",
    "print((left+right)/2)"
   ]
  },
  {
   "cell_type": "code",
   "execution_count": 7,
   "metadata": {},
   "outputs": [],
   "source": [
    "n=28"
   ]
  },
  {
   "cell_type": "code",
   "execution_count": 8,
   "metadata": {},
   "outputs": [
    {
     "data": {
      "text/plain": [
       "100.24391571437828"
      ]
     },
     "execution_count": 8,
     "metadata": {},
     "output_type": "execute_result"
    }
   ],
   "source": [
    "4*n*10**(-0.00172*n)"
   ]
  },
  {
   "cell_type": "code",
   "execution_count": 16,
   "metadata": {},
   "outputs": [
    {
     "data": {
      "image/png": "[encoded data removed]",
      "text/plain": [
       "<Figure size 432x288 with 1 Axes>"
      ]
     },
     "metadata": {
      "needs_background": "light"
     },
     "output_type": "display_data"
    }
   ],
   "source": [
    "import matplotlib.pyplot as plt\n",
    "my_range = np.arange(1200)\n",
    "plt.plot(my_range,LHS(my_range),c='b')\n",
    "plt.axhline(100,c='r')\n",
    "plt.savefig(\"equation.pdf\", bbox_inches='tight')\n",
    "plt.show()"
   ]
  },
  {
   "cell_type": "code",
   "execution_count": null,
   "metadata": {},
   "outputs": [],
   "source": []
  }
 ],
 "metadata": {
  "kernelspec": {
   "display_name": "Python 3",
   "language": "python",
   "name": "python3"
  },
  "language_info": {
   "codemirror_mode": {
    "name": "ipython",
    "version": 3
   },
   "file_extension": ".py",
   "mimetype": "text/x-python",
   "name": "python",
   "nbconvert_exporter": "python",
   "pygments_lexer": "ipython3",
   "version": "3.6.8"
  }
 },
 "nbformat": 4,
 "nbformat_minor": 4
}
