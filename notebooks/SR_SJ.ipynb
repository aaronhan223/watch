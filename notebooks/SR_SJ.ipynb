{
 "cells": [
  {
   "cell_type": "markdown",
   "metadata": {},
   "source": [
    "# Shiryaev-Roberts experiments for the retraining note (artifical data)"
   ]
  },
  {
   "cell_type": "markdown",
   "metadata": {},
   "source": [
    "## Shiryaev-Roberts plot"
   ]
  },
  {
   "cell_type": "markdown",
   "metadata": {},
   "source": [
    "Let us now try SR.\n",
    "The following code runs about 20 secs for each trajectory for $N=10^6$."
   ]
  },
  {
   "cell_type": "code",
   "execution_count": 2,
   "metadata": {},
   "outputs": [
    {
     "data": {
      "image/png": "[encoded data removed]",
      "text/plain": [
       "<Figure size 432x288 with 1 Axes>"
      ]
     },
     "metadata": {
      "needs_background": "light"
     },
     "output_type": "display_data"
    },
    {
     "name": "stdout",
     "output_type": "stream",
     "text": [
      "21.878786087036133\n"
     ]
    }
   ],
   "source": [
    "import numpy as np\n",
    "\n",
    "# The key parameters: the 3 below plus Ncal (line 15)\n",
    "rg = np.random.default_rng(0)     # key parameter; setting the seed for reproducibility [default 0]\n",
    "Jrate = 0.01  # the jumping rate; in the book: 0.001; canonical: 0.01\n",
    "K = 1          # the number of trajectories to draw\n",
    "N = 10**6     # for the plots in the paper\n",
    "reset_interval = np.inf  # occasional reset to avoid undeflow; default 10,000 (or np.inf)\n",
    "\n",
    "import matplotlib.pyplot as plt\n",
    "import time\n",
    "start = time.time()\n",
    "\n",
    "# The linear calibrator:\n",
    "def lin_cal(p,a):\n",
    "  return 1 + a*(p-0.5)\n",
    "\n",
    "# My family of calibrators:\n",
    "Ncal = 3  # the number of calibrators; default 3\n",
    "def my_cal(p,k):\n",
    "  if k==0:\n",
    "    return lin_cal(p,1)\n",
    "  if k==1:\n",
    "    return lin_cal(p,-1)\n",
    "  if k==2:\n",
    "    return lin_cal(p,0)\n",
    "  else:\n",
    "    print(\"my_cal failure\")\n",
    "\n",
    "my_colors = ['b','r','g','lightskyblue','salmon','greenyellow']\n",
    "\n",
    "MartCap = np.empty((Ncal,N+1)) # the total capital of martingales in each state\n",
    "Capital = np.empty(N+1)        # the martingale\n",
    "SR = np.empty(N+1)     # the SR statistics (whole trajectory)\n",
    "record_SR = np.empty(N+1) # the records of the SR statistics\n",
    "for k in range(K):   # going over the trajectories\n",
    "  MartCap[:,0] = 1/Ncal       # the uniform initial distribution\n",
    "  SR[0] = 0      # initial SR value\n",
    "  record_SR[0] = 0  # initial record of SR\n",
    "  Capital[0] = np.sum(MartCap[:,0]) # the total capital (1)\n",
    "  # generating the dataset:\n",
    "  p = rg.random(N)\n",
    "  for n in range(1,N+1):  # going through the observations\n",
    "    # Jump mixing starts\n",
    "    MartCap[:,n] = (1-Jrate)*MartCap[:,n-1] + (Jrate/Ncal)*Capital[n-1]\n",
    "    # Jump mixing ends\n",
    "    for kk in range(Ncal):\n",
    "      MartCap[kk,n] = MartCap[kk,n] * my_cal(p[n-1],kk)\n",
    "    Capital[n] = np.sum(MartCap[:,n]) # the total capital\n",
    "    SR[n] = (1+SR[n-1]) * Capital[n] / Capital[n-1]\n",
    "    if SR[n] > record_SR[n-1]:  # if a new record is set\n",
    "      record_SR[n] = SR[n]\n",
    "    else:\n",
    "      record_SR[n] = record_SR[n-1]\n",
    "    # to avoid underflow:\n",
    "    if (n+1)%reset_interval == 0:\n",
    "      MartCap[:,n] = MartCap[:,n] / Capital[n]\n",
    "      Capital[n] = 1\n",
    "  # drawing the SR statistic:\n",
    "  plt.plot(np.arange(1,N+1),SR[1:(N+1)],c=my_colors[k+3])  # drawing the actual SR statistic\n",
    "  plt.plot(np.arange(1,N+1),record_SR[1:(N+1)],c=my_colors[k])  # drawing its records\n",
    "\n",
    "plt.plot(np.arange(1,N+1),np.arange(1,N+1),c='k')\n",
    "## For plotting the picture with underflow:\n",
    "# breakpoint_x = 188000 # the visual breakpoint (x-coordinate)\n",
    "# breakpoint_y = 150    # the visual breakpoint (y-coordinate)\n",
    "# plt.plot(np.arange(breakpoint_x+1,N+1),np.arange(breakpoint_y+1,N-breakpoint_x+breakpoint_y+1),'k--')\n",
    "plt.xscale(\"log\")\n",
    "plt.yscale(\"log\")\n",
    "plt.savefig(\"K=\"+str(int(K))+\"_SR_plot.pdf\", bbox_inches='tight')\n",
    "plt.show()\n",
    "\n",
    "end = time.time()\n",
    "print(end - start)\n",
    "import winsound\n",
    "frequency = 2500  # Set Frequency To 2500 Hertz\n",
    "duration = 1000  # Set Duration To 1000 ms == 1 second\n",
    "winsound.Beep(frequency, duration)"
   ]
  },
  {
   "cell_type": "code",
   "execution_count": 4,
   "metadata": {},
   "outputs": [
    {
     "data": {
      "text/plain": [
       "array([1.        , 1.09168409, 1.23378735, 1.25313991, 1.01065199,\n",
       "       0.98954656, 0.9111852 , 0.95598209, 0.97289735, 0.94786836])"
      ]
     },
     "execution_count": 4,
     "metadata": {},
     "output_type": "execute_result"
    }
   ],
   "source": [
    "Capital[220000:220010]"
   ]
  },
  {
   "cell_type": "code",
   "execution_count": 10,
   "metadata": {},
   "outputs": [
    {
     "data": {
      "text/plain": [
       "array([[0.12431657, 0.113399  , 0.1149258 , 0.10966964, 0.09348933,\n",
       "        0.04875922, 0.04428142, 0.02601562, 0.03588252, 0.02412696],\n",
       "       [0.11215725, 0.12613803, 0.12894719, 0.13930498, 0.16448856,\n",
       "        0.24788845, 0.28473011, 0.414207  , 0.32732831, 0.45356535],\n",
       "       [0.76352617, 0.75922425, 0.75496121, 0.75074104, 0.74656602,\n",
       "        0.74244884, 0.738488  , 0.73466146, 0.73123112, 0.72756695]])"
      ]
     },
     "execution_count": 10,
     "metadata": {},
     "output_type": "execute_result"
    }
   ],
   "source": [
    "MartCap[:,270000:270010]"
   ]
  },
  {
   "cell_type": "code",
   "execution_count": 8,
   "metadata": {},
   "outputs": [
    {
     "data": {
      "text/plain": [
       "5e-324"
      ]
     },
     "execution_count": 8,
     "metadata": {},
     "output_type": "execute_result"
    }
   ],
   "source": [
    "np.nextafter(0,1)"
   ]
  },
  {
   "cell_type": "markdown",
   "metadata": {},
   "source": [
    "A more precise result would be:\n",
    "\n",
    "* np.nextafter(0,1)\n",
    "* 4.9406564584124654e-324"
   ]
  },
  {
   "cell_type": "code",
   "execution_count": 10,
   "metadata": {},
   "outputs": [
    {
     "data": {
      "text/plain": [
       "-1074.0"
      ]
     },
     "execution_count": 10,
     "metadata": {},
     "output_type": "execute_result"
    }
   ],
   "source": [
    "np.log2(4.9406564584124654e-324)"
   ]
  },
  {
   "cell_type": "code",
   "execution_count": 12,
   "metadata": {},
   "outputs": [
    {
     "data": {
      "text/plain": [
       "-1074.0"
      ]
     },
     "execution_count": 12,
     "metadata": {},
     "output_type": "execute_result"
    }
   ],
   "source": [
    "np.log2(4.9406564584124654)-324*np.log2(10)"
   ]
  },
  {
   "cell_type": "markdown",
   "metadata": {},
   "source": [
    "The IEEE 754 standard specifies a binary64 as having:\n",
    "\n",
    "* Sign bit: 1 bit\n",
    "* Exponent: 11 bits\n",
    "* Significand precision: 53 bits (52 explicitly stored)\n",
    "\n",
    "Exponents range from −1022 to +1023 because exponents of −1023 (all 0s) and +1024 (all 1s) are reserved for special numbers.\n",
    "\n",
    "We get -1074 as -1022-52."
   ]
  },
  {
   "cell_type": "markdown",
   "metadata": {},
   "source": [
    "## CUSUM plot"
   ]
  },
  {
   "cell_type": "markdown",
   "metadata": {},
   "source": [
    "Just for my interest, let me do a similar plot for CUSUM.\n",
    "The following code runs also about 20 secs for each trajectory for $N=10^6$."
   ]
  },
  {
   "cell_type": "code",
   "execution_count": 3,
   "metadata": {},
   "outputs": [
    {
     "data": {
      "image/png": "[encoded data removed]",
      "text/plain": [
       "<Figure size 432x288 with 1 Axes>"
      ]
     },
     "metadata": {
      "needs_background": "light"
     },
     "output_type": "display_data"
    },
    {
     "name": "stdout",
     "output_type": "stream",
     "text": [
      "574.0125102996826\n"
     ]
    }
   ],
   "source": [
    "import numpy as np\n",
    "\n",
    "# The key parameters: the 3 below plus Ncal (line 15)\n",
    "rg = np.random.default_rng(1)     # key parameter; setting the seed for reproducibility [default 0]\n",
    "Jrate = 0.01  # the jumping rate; in the book: 0.001; canonical: 0.01\n",
    "K = 3          # the number of trajectories to draw\n",
    "# N = 6000    # the number of observations for plot 1 (6000)\n",
    "# N = 25*10**4      # the number of observations for the extra plot\n",
    "N = 10**7     # for plot 2\n",
    "reset_interval = 10000  # occasional reset to avoid undeflow\n",
    "\n",
    "import matplotlib.pyplot as plt\n",
    "import time\n",
    "start = time.time()\n",
    "\n",
    "# The linear calibrator:\n",
    "def lin_cal(p,a):\n",
    "  return 1 + a*(p-0.5)\n",
    "\n",
    "# My family of calibrators:\n",
    "Ncal = 3  # the number of calibrators; default 3\n",
    "def my_cal(p,k):\n",
    "  if k==0:\n",
    "    return lin_cal(p,1)\n",
    "  if k==1:\n",
    "    return lin_cal(p,-1)\n",
    "  if k==2:\n",
    "    return lin_cal(p,0)\n",
    "  else:\n",
    "    print(\"my_cal failure\")\n",
    "\n",
    "my_colors = ['b','r','g','lightskyblue','salmon','greenyellow']\n",
    "\n",
    "MartCap = np.empty((Ncal,N+1)) # the total capital of martingales in each state\n",
    "Capital = np.empty(N+1)        # the martingale\n",
    "min_Capital = np.empty(N+1)    # the minimal value of the martingale\n",
    "CUSUM = np.empty(N+1)     # the CUSUM statistics (whole trajectory)\n",
    "record_CUSUM = np.empty(N+1) # the records of the SR statistics\n",
    "for k in range(K):   # going over the trajectories\n",
    "  MartCap[:,0] = 1/Ncal       # the uniform initial distribution\n",
    "  CUSUM[0] = 1      # initial CUSUM value\n",
    "  record_CUSUM[0] = 1  # initial record \n",
    "  Capital[0] = np.sum(MartCap[:,0]) # the total capital (1)\n",
    "  min_Capital[0] = Capital[0]       # the minimal capital (1)\n",
    "  # generating the dataset:\n",
    "  p = rg.random(N)\n",
    "  for n in range(1,N+1):  # going through the observations\n",
    "    # Jump mixing starts\n",
    "    MartCap[:,n] = (1-Jrate)*MartCap[:,n-1] + (Jrate/Ncal)*Capital[n-1]\n",
    "    # Jump mixing ends\n",
    "    for kk in range(Ncal):\n",
    "      MartCap[kk,n] = MartCap[kk,n] * my_cal(p[n-1],kk)\n",
    "    Capital[n] = np.sum(MartCap[:,n]) # the total capital\n",
    "    if Capital[n] < min_Capital[n-1]:  # if a new record is set\n",
    "      min_Capital[n] = Capital[n]\n",
    "    else:\n",
    "      min_Capital[n] = min_Capital[n-1]\n",
    "    CUSUM[n] = Capital[n] / min_Capital[n]\n",
    "    if CUSUM[n] > record_CUSUM[n-1]:  # if a new record is set\n",
    "      record_CUSUM[n] = CUSUM[n]\n",
    "    else:\n",
    "      record_CUSUM[n] = record_CUSUM[n-1]\n",
    "    # to avoid underflow:\n",
    "    if n%reset_interval == 0:\n",
    "      MartCap[:,n] = MartCap[:,n] / min_Capital[n]\n",
    "      Capital[n] = Capital[n] / min_Capital[n]\n",
    "      min_Capital[n] = 1\n",
    "  # drawing the SR statistic:\n",
    "  plt.plot(np.arange(1,N+1),CUSUM[1:(N+1)],c=my_colors[k+3],alpha=0.5)  # drawing the actual CUSUM statistic\n",
    "  plt.plot(np.arange(1,N+1),record_CUSUM[1:(N+1)],c=my_colors[k],alpha=0.5)  # drawing its records\n",
    "\n",
    "plt.plot(np.arange(1,N+1),np.arange(1,N+1),c='k')\n",
    "plt.xscale(\"log\")\n",
    "plt.yscale(\"log\")\n",
    "plt.show()\n",
    "\n",
    "end = time.time()\n",
    "print(end - start)\n",
    "import winsound\n",
    "frequency = 2500  # Set Frequency To 2500 Hertz\n",
    "duration = 1000  # Set Duration To 1000 ms == 1 second\n",
    "winsound.Beep(frequency, duration)"
   ]
  },
  {
   "cell_type": "markdown",
   "metadata": {},
   "source": [
    "## Sandpit"
   ]
  },
  {
   "cell_type": "code",
   "execution_count": 6,
   "metadata": {},
   "outputs": [
    {
     "name": "stdout",
     "output_type": "stream",
     "text": [
      "[0.   0.05 0.1  0.15 0.2  0.25 0.3  0.35 0.4  0.45 0.5 ]\n",
      "11\n"
     ]
    }
   ],
   "source": [
    "import numpy as np\n",
    "A = np.linspace(0,0.5,11)\n",
    "print(A)\n",
    "print(A.size)"
   ]
  },
  {
   "cell_type": "code",
   "execution_count": 7,
   "metadata": {},
   "outputs": [
    {
     "name": "stdout",
     "output_type": "stream",
     "text": [
      "[0.  0.1 0.2 0.3 0.4 0.5 0.6 0.7 0.8 0.9 1. ]\n"
     ]
    }
   ],
   "source": [
    "B = np.linspace(0,0.5,11)\n",
    "C = A+B\n",
    "print(C)"
   ]
  },
  {
   "cell_type": "code",
   "execution_count": 37,
   "metadata": {},
   "outputs": [],
   "source": [
    "small = 2.96e-323"
   ]
  },
  {
   "cell_type": "code",
   "execution_count": 41,
   "metadata": {},
   "outputs": [
    {
     "data": {
      "text/plain": [
       "5e-324"
      ]
     },
     "execution_count": 41,
     "metadata": {},
     "output_type": "execute_result"
    }
   ],
   "source": [
    "small/10"
   ]
  },
  {
   "cell_type": "code",
   "execution_count": null,
   "metadata": {},
   "outputs": [],
   "source": []
  }
 ],
 "metadata": {
  "kernelspec": {
   "display_name": "Python 3",
   "language": "python",
   "name": "python3"
  },
  "language_info": {
   "codemirror_mode": {
    "name": "ipython",
    "version": 3
   },
   "file_extension": ".py",
   "mimetype": "text/x-python",
   "name": "python",
   "nbconvert_exporter": "python",
   "pygments_lexer": "ipython3",
   "version": "3.6.8"
  }
 },
 "nbformat": 4,
 "nbformat_minor": 4
}
