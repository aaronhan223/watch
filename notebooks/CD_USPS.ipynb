{
 "cells": [
  {
   "cell_type": "markdown",
   "metadata": {},
   "source": [
    "# Experiments for change detection"
   ]
  },
  {
   "cell_type": "markdown",
   "metadata": {},
   "source": [
    "## 1 Processing p-values"
   ]
  },
  {
   "cell_type": "markdown",
   "metadata": {},
   "source": [
    "### 1.1 Simplified Sleepy Jumper (SSJ)"
   ]
  },
  {
   "cell_type": "markdown",
   "metadata": {},
   "source": [
    "This is an extremely simple version, with a primitive symmetric family of linear calibrators."
   ]
  },
  {
   "cell_type": "code",
   "execution_count": 7,
   "metadata": {
    "scrolled": true
   },
   "outputs": [
    {
     "data": {
      "image/png": "[encoded data removed]",
      "text/plain": [
       "<Figure size 432x288 with 1 Axes>"
      ]
     },
     "metadata": {
      "needs_background": "light"
     },
     "output_type": "display_data"
    },
    {
     "name": "stdout",
     "output_type": "stream",
     "text": [
      "Final blue value: 1.700478920983209e-14\n"
     ]
    }
   ],
   "source": [
    "# What I am drawing:\n",
    "seed = \"\"  # choose \"\" (for seed 0), \"permuted/\" (for seed 0 permuted), \"seed_1/\", \"seed_2/\", etc. (folder)\n",
    "distance = \"t9_\"  # choose \"\" (for Euclidean or supercrazy), \"t6_\", or \"t9_\"\n",
    "conf_measure = \"nearest\"  # conformity measure; choose \"ratio\", \"ratio2\", \"same\", \"other\", or \"nearest\"\n",
    "\n",
    "import numpy as np\n",
    "import matplotlib.pyplot as plt\n",
    "\n",
    "# Processing p1 (direct)\n",
    "p = np.loadtxt(\"C:/DnB/Work/R/Papers/OCM/CD/Python/p/\"+seed+distance+\"p1_\"+conf_measure+\".txt\")\n",
    "\n",
    "N = p.size  # 9298, the total number of observations\n",
    "# N = 1000\n",
    "\n",
    "Jrate = 0.1  # the jumping rate; in the book: 0.001; canonical: 0.01\n",
    "APrate = 0.1   # the switching rate between active and passive; in the book and canonical: 0.01\n",
    "\n",
    "# The quadratic calibrator:\n",
    "def quad_cal(p,a,b):\n",
    "  return 1 - b/12 + a*(p-0.5) + b*(p-0.5)**2\n",
    "\n",
    "# My family of calibrators:\n",
    "Ncal = 2  # the number of calibrators\n",
    "def my_cal(p,k):\n",
    "  if k==0:\n",
    "    return quad_cal(p,1,0)\n",
    "  if k==1:\n",
    "    return quad_cal(p,-1,0)\n",
    "  if k==2:\n",
    "    return quad_cal(p,-1,1)\n",
    "  if k==3:\n",
    "    return quad_cal(p,1,-1)\n",
    "  else:\n",
    "    print(\"my_cal failure\")\n",
    "\n",
    "# Processing p1\n",
    "MartPass = np.zeros((Ncal,N)) # the total capital of passive martingales\n",
    "MartAct = np.zeros((Ncal,N))  # the total capital of active martingales\n",
    "MartActJ = np.zeros((Ncal,N)) # the total capital of active martingales after jumping\n",
    "mart = np.zeros((Ncal,N))     # the total capital of passive and active martingales\n",
    "\n",
    "MartPass[:,0] = 1/Ncal  # the uniform initial distrobution; should be MartPass unless APrate = 0\n",
    "mart[:,0] = 1/Ncal      # the initial values are equal\n",
    "# print(mart[:,0])\n",
    "for i in range(1,N):\n",
    "  # Jumps mixing starts\n",
    "  ActCapital = np.sum(MartAct[:,i-1])\n",
    "  MartActJ[:,i] = (1-Jrate)*MartAct[:,i-1] + (Jrate/Ncal)*ActCapital\n",
    "  # Jumps mixing ends\n",
    "  # StartStop mixing starts\n",
    "  MartAct[:,i] = (1-APrate)*MartActJ[:,i] + APrate*MartPass[:,i-1]\n",
    "  MartPass[:,i] = (1-APrate)*MartPass[:,i-1] + APrate*MartActJ[:,i]\n",
    "  # StartStop mixing ends\n",
    "  for k in range(Ncal):\n",
    "    MartAct[k,i] = MartAct[k,i] * my_cal(p[i],k)\n",
    "  mart[:,i] = MartAct[:,i] + MartPass[:,i]\n",
    "martingale1 = np.sum(mart,axis=0)\n",
    "\n",
    "# Processing p2 (concept)\n",
    "p = np.loadtxt(\"C:/DnB/Work/R/Papers/OCM/CD/Python/p/\"+seed+distance+\"p2_\"+conf_measure+\".txt\")\n",
    "MartPass = np.zeros((Ncal,N)) # the total capital of passive martingales\n",
    "MartAct = np.zeros((Ncal,N))  # the total capital of active martingales\n",
    "MartActJ = np.zeros((Ncal,N)) # the total capital of active martingales after jumping\n",
    "mart = np.zeros((Ncal,N))     # the total capital of passive and active martingales\n",
    "\n",
    "MartPass[:,0] = 1/Ncal   # the initial distribution is uniform; should be MartPass unless APrate = 0\n",
    "mart[:,0] = 1/Ncal       # the initial values are equal\n",
    "for i in range(1,N):\n",
    "  # Jumps mixing starts\n",
    "  ActCapital = np.sum(MartAct[:,i-1])\n",
    "  MartActJ[:,i] = (1-Jrate)*MartAct[:,i-1] + (Jrate/Ncal)*ActCapital\n",
    "  # Jumps mixing ends\n",
    "  # StartStop mixing starts\n",
    "  MartAct[:,i] = (1-APrate)*MartActJ[:,i] + APrate*MartPass[:,i-1]\n",
    "  MartPass[:,i] = (1-APrate)*MartPass[:,i-1] + APrate*MartActJ[:,i]\n",
    "  # StartStop mixing ends\n",
    "  for k in range(Ncal):\n",
    "    MartAct[k,i] = MartAct[k,i] * my_cal(p[i],k)\n",
    "  mart[:,i] = MartAct[:,i] + MartPass[:,i]\n",
    "martingale2 = np.sum(mart,axis=0)\n",
    "\n",
    "# Processing p3 (label)\n",
    "p = np.loadtxt(\"C:/DnB/Work/R/Papers/OCM/CD/Python/p/\"+seed+distance+\"p3_\"+conf_measure+\".txt\")\n",
    "MartPass = np.zeros((Ncal,N)) # the total capital of passive martingales\n",
    "MartAct = np.zeros((Ncal,N))  # the total capital of active martingales\n",
    "MartActJ = np.zeros((Ncal,N)) # the total capital of active martingales after jumping\n",
    "mart = np.zeros((Ncal,N))     # the total capital of passive and active martingales\n",
    "\n",
    "MartPass[:,0] = 1/Ncal  # the initial distribuition is uniform; should be MartPass unless APrate = 0\n",
    "mart[:,0] = 1/Ncal   # the initial values are equal\n",
    "for i in range(1,N):\n",
    "  # Jumps mixing starts\n",
    "  ActCapital = np.sum(MartAct[:,i-1])\n",
    "  MartActJ[:,i] = (1-Jrate)*MartAct[:,i-1] + (Jrate/Ncal)*ActCapital\n",
    "  # Jumps mixing ends\n",
    "  # StartStop mixing starts\n",
    "  MartAct[:,i] = (1-APrate)*MartActJ[:,i] + APrate*MartPass[:,i-1]\n",
    "  MartPass[:,i] = (1-APrate)*MartPass[:,i-1] + APrate*MartActJ[:,i]\n",
    "  # StartStop mixing ends\n",
    "  for k in range(Ncal):\n",
    "    MartAct[k,i] = MartAct[k,i] * my_cal(p[i],k)\n",
    "  mart[:,i] = MartAct[:,i] + MartPass[:,i]\n",
    "martingale3 = np.sum(mart,axis=0)\n",
    "\n",
    "plt.plot(np.log10(martingale1),c='k',label='dataset shift')\n",
    "plt.plot(np.log10(martingale2)+np.log10(martingale3),c='b',label='concept and label shift')\n",
    "plt.plot(np.log10(martingale2),c='r',label='concept shift')\n",
    "plt.plot(np.log10(martingale3),c='g',label='label shift')\n",
    "plt.axvline(x=7291)  # 7291 is the size of the training set\n",
    "plt.legend(loc='best')\n",
    "plt.savefig(distance+\"sSJ_all_\"+conf_measure+\".pdf\", bbox_inches='tight')\n",
    "plt.show()\n",
    "\n",
    "print(\"Final blue value:\", martingale2[N-1] * martingale3[N-1])"
   ]
  },
  {
   "cell_type": "markdown",
   "metadata": {},
   "source": [
    "## 2 Sandbox"
   ]
  },
  {
   "cell_type": "code",
   "execution_count": 4,
   "metadata": {},
   "outputs": [],
   "source": [
    "USPS = np.loadtxt(\"C:/DnB/Work/R/Data/MachineLearning/USPS/USPS.txt\")"
   ]
  },
  {
   "cell_type": "code",
   "execution_count": 9,
   "metadata": {},
   "outputs": [],
   "source": [
    "rg = np.random.default_rng(0)     # key parameter; setting the seed for reproducibility [default 0]\n",
    "USPS1 = np.loadtxt(\"C:/DnB/Work/R/Data/MachineLearning/USPS/USPS.train\",skiprows=3)\n",
    "rg.shuffle(USPS1)     # permute the training set in USPS\n",
    "N1 = USPS1.shape[0]   # reading the data set ends here; N = 9298\n",
    "USPS2 = np.loadtxt(\"C:/DnB/Work/R/Data/MachineLearning/USPS/USPS.test\",skiprows=3)\n",
    "rg.shuffle(USPS2)     # permute the training set in USPS\n",
    "N2 = USPS2.shape[0]   # reading the data set ends here; N = 9298\n",
    "USPS3 = np.concatenate((USPS1,USPS2))  # the full dataset\n",
    "N = N1+N2   # size"
   ]
  },
  {
   "cell_type": "code",
   "execution_count": 11,
   "metadata": {},
   "outputs": [
    {
     "data": {
      "text/plain": [
       "array([[ True,  True,  True, ...,  True,  True, False],\n",
       "       [ True,  True, False, ..., False, False, False],\n",
       "       [ True,  True,  True, ...,  True,  True, False],\n",
       "       ...,\n",
       "       [ True,  True, False, ...,  True,  True, False],\n",
       "       [ True,  True,  True, ...,  True,  True, False],\n",
       "       [ True,  True, False, ...,  True,  True, False]])"
      ]
     },
     "execution_count": 11,
     "metadata": {},
     "output_type": "execute_result"
    }
   ],
   "source": [
    "USPS==USPS3"
   ]
  },
  {
   "cell_type": "code",
   "execution_count": null,
   "metadata": {},
   "outputs": [],
   "source": []
  }
 ],
 "metadata": {
  "kernelspec": {
   "display_name": "Python 3 (ipykernel)",
   "language": "python",
   "name": "python3"
  },
  "language_info": {
   "codemirror_mode": {
    "name": "ipython",
    "version": 3
   },
   "file_extension": ".py",
   "mimetype": "text/x-python",
   "name": "python",
   "nbconvert_exporter": "python",
   "pygments_lexer": "ipython3",
   "version": "3.11.7"
  }
 },
 "nbformat": 4,
 "nbformat_minor": 4
}
