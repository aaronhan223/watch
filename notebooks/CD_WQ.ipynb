{
 "cells": [
  {
   "cell_type": "markdown",
   "metadata": {},
   "source": [
    "# Experiments for the retraining note"
   ]
  },
  {
   "cell_type": "markdown",
   "metadata": {},
   "source": [
    "To be published in COPA 2021."
   ]
  },
  {
   "cell_type": "markdown",
   "metadata": {},
   "source": [
    "## 1 Testing exchangeability"
   ]
  },
  {
   "cell_type": "markdown",
   "metadata": {},
   "source": [
    "First we just read the dataset."
   ]
  },
  {
   "cell_type": "code",
   "execution_count": 1,
   "metadata": {},
   "outputs": [
    {
     "name": "stdout",
     "output_type": "stream",
     "text": [
      "Reading 1599 = 1599 red wines\n",
      "Reading 4898 = 4898 white wines\n",
      "The size of the training set is 3299 3299 = 3299\n"
     ]
    }
   ],
   "source": [
    "import numpy as np\n",
    "import matplotlib.pyplot as plt\n",
    "from sklearn.preprocessing import StandardScaler\n",
    "\n",
    "# The key parameters: the 3 below plus Ncal (at the end)\n",
    "rg = np.random.default_rng(0)     # key parameter; setting the seed for reproducibility [default 0]\n",
    "Jrate = 0.01  # the jumping rate; in the book: 0.001; canonical: 0.01\n",
    "K = 3  # the number of folds\n",
    "\n",
    "# reading the data, first red wines\n",
    "test1 = np.loadtxt(\"C:/DnB/Work/R/Data/MachineLearning/wine_quality/winequality-red.csv\",\n",
    "  skiprows=1, delimiter=';')\n",
    "N_test = test1.shape[0]  # 1599, number of red wines\n",
    "print(\"Reading\",N_test,\"= 1599 red wines\")\n",
    "rg.shuffle(test1)  # shuffling the red wines\n",
    "\n",
    "# reading white wines\n",
    "white_wines = np.loadtxt(\"C:/DnB/Work/R/Data/MachineLearning/wine_quality/winequality-white.csv\",\n",
    "  skiprows=1, delimiter=';')\n",
    "N_white = white_wines.shape[0]  # 4898, number of white wines\n",
    "print(\"Reading\",N_white,\"= 4898 white wines\")\n",
    "rg.shuffle(white_wines)  # shuffling the white wines\n",
    "\n",
    "test0 = np.copy(white_wines[N_white-N_test:N_white,:])\n",
    "\n",
    "# Other views of the data:\n",
    "X_test0 = test0[:,0:11]  # matrix of objects\n",
    "y_test0 = test0[:,11]    # vector of labels (real numbers)\n",
    "X_test1 = test1[:,0:11]  # matrix of objects\n",
    "y_test1 = test1[:,11]    # vector of labels (real numbers)\n",
    "\n",
    "N_train = N_white - N_test  # the size of the training set\n",
    "\n",
    "fold = np.array([0,1100,2200])  # the array of starting positions of different folds\n",
    "fold_size = np.array([1100,1100,1099])  # the array of fold sizes\n",
    "print(\"The size of the training set is\",N_train,np.sum(fold_size),\"= 3299\")\n",
    "\n",
    "# The linear calibrator:\n",
    "def lin_cal(p,a):\n",
    "  return 1 + a*(p-0.5)\n",
    "\n",
    "# My family of calibrators:\n",
    "Ncal = 3  # the number of calibrators; default 2 or 3\n",
    "def my_cal(p,k):\n",
    "  if k==0:\n",
    "    return lin_cal(p,1)\n",
    "  if k==1:\n",
    "    return lin_cal(p,-1)\n",
    "  if k==2:\n",
    "    return lin_cal(p,0)\n",
    "  else:\n",
    "    print(\"my_cal failure\")"
   ]
  },
  {
   "cell_type": "markdown",
   "metadata": {},
   "source": [
    "### 1.1 Full Nearest Distance conformity measure"
   ]
  },
  {
   "cell_type": "markdown",
   "metadata": {},
   "source": [
    "Let us use the distance to the Nearest Neighbour, as for the USPS dataset.\n",
    "Running time: below 3 mins."
   ]
  },
  {
   "cell_type": "code",
   "execution_count": 13,
   "metadata": {},
   "outputs": [
    {
     "data": {
      "image/png": "[encoded data removed]",
      "text/plain": [
       "<Figure size 432x288 with 1 Axes>"
      ]
     },
     "metadata": {
      "needs_background": "light"
     },
     "output_type": "display_data"
    },
    {
     "name": "stdout",
     "output_type": "stream",
     "text": [
      "Time elapsed: 151.02236795425415\n"
     ]
    }
   ],
   "source": [
    "import time   # for timing\n",
    "start = time.time()\n",
    "\n",
    "martingales0 = np.zeros((K,1100+N_test))\n",
    "martingales1 = np.zeros((K,1100+N_test))\n",
    "martingales_size = np.zeros(K)\n",
    "\n",
    "# Going over all folds:\n",
    "for kkk in range(K):\n",
    "  current_fold = np.arange(fold[kkk],fold[kkk]+fold_size[kkk])\n",
    "  calibration = np.copy(white_wines[current_fold])  # calibration set (=current fold)\n",
    "  N_calibration = calibration.shape[0]   # the size of the calibration set\n",
    "  rest = np.setdiff1d(np.arange(N_train),current_fold)  # the remaining folds\n",
    "  train_proper = np.copy(white_wines[rest])  # training set proper\n",
    "  N_train_proper = train_proper.shape[0]  # the size of the training set proper\n",
    "  # Other views of the data:\n",
    "  X_calibration = calibration[:,0:11]  # matrix of objects\n",
    "  y_calibration = calibration[:,11]    # vector of labels (real numbers)\n",
    "  X_train_proper = train_proper[:,0:11]  # matrix of objects\n",
    "  y_train_proper = train_proper[:,11]    # vector of labels (real numbers)\n",
    "  # Normalization\n",
    "  scaler = StandardScaler()\n",
    "  scaler.fit(X_train_proper)\n",
    "  X_calibration_scaled = scaler.transform(X_calibration)\n",
    "  X_test0_scaled = scaler.transform(X_test0)\n",
    "  X_test1_scaled = scaler.transform(X_test1)\n",
    "\n",
    "  # Computing the p-values:\n",
    "  N_runs = N_calibration + N_test  # number of runs; remember that N_test is the size of both test0 and test1\n",
    "  shortest0 = np.inf * np.ones(N_runs)  # shortest distances to the nearest neighbour, scenario 0\n",
    "  shortest1 = np.inf * np.ones(N_runs)  # shortest distances to the nearest neighbour, scenario 1\n",
    "  # p is the p-values\n",
    "  p0 = np.zeros(N_runs)    # p initialized, scenario 0\n",
    "  p1 = np.zeros(N_runs)    # p initialized, scenario 1\n",
    "\n",
    "  p0[0] = p1[0] = rg.random()\n",
    "\n",
    "  for n in range(1,N_calibration):  # the first phase (going over the calibration set)\n",
    "    for i in range(n):\n",
    "      Dni = np.linalg.norm(X_calibration_scaled[i,:]-X_calibration_scaled[n,:])\n",
    "      if Dni < shortest0[i]:\n",
    "        shortest0[i] = shortest1[i] = Dni\n",
    "      if Dni < shortest0[n]:\n",
    "        shortest0[n] = shortest1[n] = Dni\n",
    "    countG = 0   # the number of alpha's > alpha_n\n",
    "    countE = 1   # the number of alpha's = alpha_n\n",
    "    alpha_n = shortest0[n]  # (non)conformity score\n",
    "    for i in range(n):\n",
    "      alpha_i = shortest0[i]  # (non)conformity score\n",
    "      if alpha_i > alpha_n:\n",
    "        countG = countG+1\n",
    "      if alpha_i == alpha_n:\n",
    "        countE = countE+1\n",
    "    p0[n] = p1[n] = (countG + rg.random() * countE) / (n+1)\n",
    "\n",
    "  for n in range(N_test):  # the second phase, scenario 0 (going over test0)\n",
    "    for i in range(N_calibration):  # going over the calibration set\n",
    "      Dni = np.linalg.norm(X_calibration_scaled[i,:]-X_test0_scaled[n,:])\n",
    "      if Dni < shortest0[i]:\n",
    "        shortest0[i] = Dni\n",
    "      if Dni < shortest0[N_calibration+n]:\n",
    "        shortest0[N_calibration+n] = Dni\n",
    "    for i in range(n):  # going over a beginning of test set 0\n",
    "      Dni = np.linalg.norm(X_test0_scaled[i,:]-X_test0_scaled[n,:])\n",
    "      if Dni < shortest0[N_calibration+i]:\n",
    "        shortest0[N_calibration+i] = Dni\n",
    "      if Dni < shortest0[N_calibration+n]:\n",
    "        shortest0[N_calibration+n] = Dni\n",
    "    countG = 0   # the number of alpha's > alpha_n\n",
    "    countE = 1   # the number of alpha's = alpha_n\n",
    "    alpha_n = shortest0[N_calibration+n]  # (non)conformity score\n",
    "    for i in range(N_calibration):   # going over the calibration set\n",
    "      alpha_i = shortest0[i]  # (non)conformity score\n",
    "      if alpha_i > alpha_n:\n",
    "        countG = countG+1\n",
    "      if alpha_i == alpha_n:\n",
    "        countE = countE+1\n",
    "    for i in range(n):  # going over a beginning of test set 0\n",
    "      alpha_i = shortest0[N_calibration+i]  # (non)conformity score\n",
    "      if alpha_i > alpha_n:\n",
    "        countG = countG+1\n",
    "      if alpha_i == alpha_n:\n",
    "        countE = countE+1\n",
    "    p0[N_calibration+n] = (countG + rg.random() * countE) / (N_calibration+n+1)\n",
    "\n",
    "  for n in range(N_test):  # the second phase, scenario 1 (going over test1)\n",
    "    for i in range(N_calibration):  # going over the calibration set\n",
    "      Dni = np.linalg.norm(X_calibration_scaled[i,:]-X_test1_scaled[n,:])\n",
    "      if Dni < shortest1[i]:\n",
    "        shortest1[i] = Dni\n",
    "      if Dni < shortest1[N_calibration+n]:\n",
    "        shortest1[N_calibration+n] = Dni\n",
    "    for i in range(n):  # going over a beginning of test set 1\n",
    "      Dni = np.linalg.norm(X_test1_scaled[i,:]-X_test1_scaled[n,:])\n",
    "      if Dni < shortest1[N_calibration+i]:\n",
    "        shortest1[N_calibration+i] = Dni\n",
    "      if Dni < shortest1[N_calibration+n]:\n",
    "        shortest1[N_calibration+n] = Dni\n",
    "    countG = 0   # the number of alpha's > alpha_n\n",
    "    countE = 1   # the number of alpha's = alpha_n\n",
    "    alpha_n = shortest1[N_calibration+n]  # (non)conformity score\n",
    "    for i in range(N_calibration):   # going over the calibration set\n",
    "      alpha_i = shortest1[i]  # (non)conformity score\n",
    "      if alpha_i > alpha_n:\n",
    "        countG = countG+1\n",
    "      if alpha_i == alpha_n:\n",
    "        countE = countE+1\n",
    "    for i in range(n):  # going over a beginning of test set 0\n",
    "      alpha_i = shortest1[N_calibration+i]  # (non)conformity score\n",
    "      if alpha_i > alpha_n:\n",
    "        countG = countG+1\n",
    "      if alpha_i == alpha_n:\n",
    "        countE = countE+1\n",
    "    p1[N_calibration+n] = (countG + rg.random() * countE) / (N_calibration+n+1)\n",
    "\n",
    "  # Processing test0\n",
    "  MartCap = np.zeros((Ncal,N_runs))  # the total capital of martingales in each state\n",
    "  MartCap[:,0] = 1/Ncal  # the initial distribution is uniform\n",
    "  for i in range(1,N_runs):\n",
    "    # Jumps mixing starts\n",
    "    Capital = np.sum(MartCap[:,i-1])\n",
    "    MartCap[:,i] = (1-Jrate)*MartCap[:,i-1] + (Jrate/Ncal)*Capital\n",
    "    # Jumps mixing ends\n",
    "    for k in range(Ncal):\n",
    "      MartCap[k,i] = MartCap[k,i] * my_cal(p0[i],k)\n",
    "  martingale = np.sum(MartCap,axis=0)\n",
    "  my_colors = ['r','g','b']\n",
    "  plt.plot(martingale,c=my_colors[kkk])\n",
    "  martingales0[kkk,0:martingale.size] = martingale  # for future use\n",
    "  martingales_size[kkk] = martingale.size    # for future use\n",
    "\n",
    "  # Processing test1\n",
    "  MartCap = np.zeros((Ncal,N_runs))  # the total capital of martingales in each state\n",
    "  MartCap[:,0] = 1/Ncal  # the initial distribution is uniform\n",
    "  for i in range(1,N_runs):\n",
    "    # Jumps mixing starts\n",
    "    Capital = np.sum(MartCap[:,i-1])\n",
    "    MartCap[:,i] = (1-Jrate)*MartCap[:,i-1] + (Jrate/Ncal)*Capital\n",
    "    # Jumps mixing ends\n",
    "    for k in range(Ncal):\n",
    "      MartCap[k,i] = MartCap[k,i] * my_cal(p1[i],k)\n",
    "  martingale = np.sum(MartCap,axis=0)\n",
    "  plt.plot(martingale,c=my_colors[kkk],label='fold '+str(kkk+1))\n",
    "  martingales1[kkk,0:martingale.size] = martingale  # for future use\n",
    "\n",
    "plt.yscale(\"log\")\n",
    "plt.axvline(x=1100)   # typical size of the calibration set\n",
    "plt.legend(loc='best')\n",
    "# plt.savefig(\"wine.pdf\", bbox_inches='tight')\n",
    "predictor, c_measure = 0, 0  # change the file name (NNdiff to FND)\n",
    "plt.show()\n",
    "\n",
    "# print(\"Final blue value:\", martingale2[N-1])\n",
    "\n",
    "# finding time elapsed in seconds\n",
    "end = time.time()\n",
    "print(\"Time elapsed:\", end - start)\n",
    "\n",
    "# Sound:\n",
    "import winsound\n",
    "frequency = 2500  # Set Frequency To 2500 Hertz\n",
    "duration = 1000  # Set Duration To 1000 ms == 1 second\n",
    "winsound.Beep(frequency, duration)"
   ]
  },
  {
   "cell_type": "markdown",
   "metadata": {},
   "source": [
    "### 1.2 Nearest Neighbour, Random Forest, MLP, and SVR inductive conformity measures"
   ]
  },
  {
   "cell_type": "markdown",
   "metadata": {},
   "source": [
    "Let us now use $|y-\\hat y|$ (absdiff) or $y-\\hat y$ (diff) for the Nearest Neighbour or Random Forest,\n",
    "or the PIT (probability integral transform) for the Random Forest.\n",
    "Running time: 10-15 secs."
   ]
  },
  {
   "cell_type": "code",
   "execution_count": 3,
   "metadata": {},
   "outputs": [
    {
     "data": {
      "image/png": "[encoded data removed]",
      "text/plain": [
       "<Figure size 432x288 with 1 Axes>"
      ]
     },
     "metadata": {
      "needs_background": "light"
     },
     "output_type": "display_data"
    },
    {
     "name": "stdout",
     "output_type": "stream",
     "text": [
      "Time elapsed: 10.427018404006958\n"
     ]
    }
   ],
   "source": [
    "predictor = 4  # 0 Nearest Neighbour, 1 Random Forest, 2 MLP, 3 SVR, 4 Ilia's Nearest Distance\n",
    "c_measure = 4  # 0 diff (difference), 1 absdiff (absolute difference), 2 pit (probability integral transform),\n",
    "  # 3 crps (continuous ranked probability score, not implemented)\n",
    "  # 4 diff for Ilia's Nearest istance\n",
    "\n",
    "if predictor==0:\n",
    "  from sklearn.neighbors import KNeighborsClassifier  # 0.43\n",
    "elif predictor==1:\n",
    "  from sklearn.ensemble import RandomForestRegressor  # 0.44\n",
    "elif predictor==2:\n",
    "  from sklearn.neural_network import MLPClassifier   # 0.46\n",
    "elif predictor==3:\n",
    "  from sklearn.svm import SVR   # 0.50\n",
    "elif predictor==4:\n",
    "  from sklearn.neighbors import NearestNeighbors\n",
    "else:\n",
    "  print(\"Invalid predictor\")\n",
    "\n",
    "import time   # for timing\n",
    "start = time.time()\n",
    "\n",
    "martingales0 = np.zeros((K,1100+N_test))\n",
    "martingales1 = np.zeros((K,1100+N_test))\n",
    "martingales_size = np.zeros(K)\n",
    "\n",
    "# Going over all folds:\n",
    "for kkk in range(K):\n",
    "  current_fold = np.arange(fold[kkk],fold[kkk]+fold_size[kkk])\n",
    "  calibration = np.copy(white_wines[current_fold])  # calibration set (=current fold)\n",
    "  N_calibration = calibration.shape[0]   # the size of the calibration set\n",
    "  rest = np.setdiff1d(np.arange(N_train),current_fold)  # the remaining folds\n",
    "  train_proper = np.copy(white_wines[rest])  # training set proper\n",
    "  N_train_proper = train_proper.shape[0]  # the size of the training set proper\n",
    "  # Other views of the data:\n",
    "  X_calibration = calibration[:,0:11]  # matrix of objects\n",
    "  y_calibration = calibration[:,11]    # vector of labels (real numbers)\n",
    "  X_train_proper = train_proper[:,0:11]  # matrix of objects\n",
    "  y_train_proper = train_proper[:,11]    # vector of labels (real numbers)\n",
    "  # Normalization\n",
    "  scaler = StandardScaler()\n",
    "  scaler.fit(X_train_proper)\n",
    "  X_train_proper_scaled = scaler.transform(X_train_proper)\n",
    "  X_calibration_scaled = scaler.transform(X_calibration)\n",
    "  X_test0_scaled = scaler.transform(X_test0)\n",
    "  X_test1_scaled = scaler.transform(X_test1)\n",
    "\n",
    "  # Computing the p-values:\n",
    "  N_runs = N_calibration + N_test  # number of runs; remember that N_test is the size of both test0 and test1\n",
    "\n",
    "  # p is the p-values\n",
    "  p0 = np.zeros(N_runs)    # p initialized, scenario 0\n",
    "  p1 = np.zeros(N_runs)    # p initialized, scenario 1\n",
    "\n",
    "  p0[0] = p1[0] = rg.random()\n",
    "\n",
    "  ## The key part starts.  First, choose predictor and train it on the training set proper.\n",
    "  if predictor==0: # 1-Nearest Neighbour\n",
    "    model = KNeighborsClassifier(n_neighbors=1)\n",
    "    # model = KNeighborsClassifier(n_neighbors=1, p=1)  # using the Manhattan metric (identical results)\n",
    "  elif predictor==1: # Random Forest\n",
    "    n_trees = 100  # the default number of trees is 100\n",
    "    model = RandomForestRegressor(n_estimators=n_trees,random_state=0)\n",
    "  elif predictor==2: # Multilayer Perceptron\n",
    "    model = MLPClassifier(random_state=0) # 0.46 (with warnings)\n",
    "    # model = MLPClassifier(max_iter=1000,random_state=0)\n",
    "  elif predictor==3:\n",
    "    model = SVR()  # 0.50\n",
    "  elif predictor==4:\n",
    "    model = NearestNeighbors(n_neighbors=1)\n",
    "  else:\n",
    "    print(\"Failure\")\n",
    "  model.fit(X_train_proper_scaled,y_train_proper)\n",
    "\n",
    "  ## Evaluating the quality for diff and absdiff:\n",
    "  if c_measure==0:  # diff\n",
    "    predictions_calibration = model.predict(X_calibration_scaled)\n",
    "    predictions_test0 = model.predict(X_test0_scaled)\n",
    "    predictions_test1 = model.predict(X_test1_scaled)\n",
    "    conf_scores_calibration = y_calibration - predictions_calibration\n",
    "    conf_scores_test0 = y_test0 - predictions_test0\n",
    "    conf_scores_test1 = y_test1 - predictions_test1\n",
    "  elif c_measure==1:  # absdiff\n",
    "    predictions_calibration = model.predict(X_calibration_scaled)\n",
    "    predictions_test0 = model.predict(X_test0_scaled)\n",
    "    predictions_test1 = model.predict(X_test1_scaled)\n",
    "    conf_scores_calibration = np.abs(y_calibration - predictions_calibration)\n",
    "    conf_scores_test0 = np.abs(y_test0 - predictions_test0)\n",
    "    conf_scores_test1 = np.abs(y_test1 - predictions_test1)\n",
    "  elif c_measure==2:  # pit (probability integral transform):\n",
    "    predictions_calibration = np.zeros((n_trees,N_calibration))  # individual trees' predictions initialized\n",
    "    predictions_test0 = np.zeros((n_trees,N_test))               # individual trees' predictions initialized\n",
    "    predictions_test1 = np.zeros((n_trees,N_test))               # individual trees' predictions initialized\n",
    "    conf_scores_calibration = np.zeros(N_calibration)    # (non)conformity scores initialized\n",
    "    conf_scores_test0 = np.zeros(N_test)                 # (non)conformity scores initialized\n",
    "    conf_scores_test1 = np.zeros(N_test)                 # (non)conformity scores initialized\n",
    "    for tree in range(n_trees):  # go over all trees finding their predictions\n",
    "      predictions_calibration[tree,:] = model.estimators_[tree].predict(X_calibration_scaled)\n",
    "      predictions_test0[tree,:] = model.estimators_[tree].predict(X_test0_scaled)\n",
    "      predictions_test1[tree,:] = model.estimators_[tree].predict(X_test1_scaled)\n",
    "    # use the PITs as (non)conformity scores\n",
    "    for n in range(N_calibration):\n",
    "      conf_scores_calibration[n] = np.sum(predictions_calibration[:,n] <= y_calibration[n])\n",
    "    for n in range(N_test):\n",
    "      conf_scores_test0[n] = np.sum(predictions_test0[:,n] <= y_test0[n])\n",
    "      conf_scores_test1[n] = np.sum(predictions_test1[:,n] <= y_test1[n])\n",
    "  elif c_measure==4:  # only for Ilia's nearest distance\n",
    "    conf_scores_calibration = np.array(model.kneighbors(X_calibration_scaled))[0,:,0]\n",
    "    conf_scores_test0 = np.array(model.kneighbors(X_test0_scaled))[0,:,0]\n",
    "    conf_scores_test1 = np.array(model.kneighbors(X_test1_scaled))[0,:,0]\n",
    "  else:\n",
    "    print(\"Failure\")\n",
    "\n",
    "  for n in range(1,N_calibration):  # the first phase (going over the calibration set)\n",
    "    countG = 0   # the number of alpha's > alpha_n\n",
    "    countE = 1   # the number of alpha's = alpha_n\n",
    "    alpha_n = conf_scores_calibration[n]  # (non)conformity score\n",
    "    for i in range(n):\n",
    "      alpha_i = conf_scores_calibration[i]  # (non)conformity score\n",
    "      if alpha_i > alpha_n:\n",
    "        countG = countG+1\n",
    "      if alpha_i == alpha_n:\n",
    "        countE = countE+1\n",
    "    p0[n] = p1[n] = (countG + rg.random() * countE) / (n+1)\n",
    "\n",
    "  for n in range(N_test):  # the second phase, scenario 0 (going over test0)\n",
    "    countG = 0   # the number of alpha's > alpha_n\n",
    "    countE = 1   # the number of alpha's = alpha_n\n",
    "    alpha_n = conf_scores_test0[n]  # (non)conformity score\n",
    "    for i in range(N_calibration):   # going over the calibration set\n",
    "      alpha_i = conf_scores_calibration[i]  # (non)conformity score\n",
    "      if alpha_i > alpha_n:\n",
    "        countG = countG+1\n",
    "      if alpha_i == alpha_n:\n",
    "        countE = countE+1\n",
    "    for i in range(n):  # going over a beginning of test set 0\n",
    "      alpha_i = conf_scores_test0[i]  # (non)conformity score\n",
    "      if alpha_i > alpha_n:\n",
    "        countG = countG+1\n",
    "      if alpha_i == alpha_n:\n",
    "        countE = countE+1\n",
    "    p0[N_calibration+n] = (countG + rg.random() * countE) / (N_calibration+n+1)\n",
    "\n",
    "  for n in range(N_test):  # the second phase, scenario 1 (going over test1)\n",
    "    countG = 0   # the number of alpha's > alpha_n\n",
    "    countE = 1   # the number of alpha's = alpha_n\n",
    "    alpha_n = conf_scores_test1[n]  # (non)conformity score\n",
    "    for i in range(N_calibration):   # going over the calibration set\n",
    "      alpha_i = conf_scores_calibration[i]  # (non)conformity score\n",
    "      if alpha_i > alpha_n:\n",
    "        countG = countG+1\n",
    "      if alpha_i == alpha_n:\n",
    "        countE = countE+1\n",
    "    for i in range(n):  # going over a beginning of test set 0\n",
    "      alpha_i = conf_scores_test1[i]  # (non)conformity score\n",
    "      if alpha_i > alpha_n:\n",
    "        countG = countG+1\n",
    "      if alpha_i == alpha_n:\n",
    "        countE = countE+1\n",
    "    p1[N_calibration+n] = (countG + rg.random() * countE) / (N_calibration+n+1)\n",
    "\n",
    "  # Processing test0\n",
    "  MartCap = np.zeros((Ncal,N_runs))  # the total capital of martingales in each state\n",
    "  MartCap[:,0] = 1/Ncal  # the initial distribution is uniform\n",
    "  for i in range(1,N_runs):\n",
    "    # Jumps mixing starts\n",
    "    Capital = np.sum(MartCap[:,i-1])\n",
    "    MartCap[:,i] = (1-Jrate)*MartCap[:,i-1] + (Jrate/Ncal)*Capital\n",
    "    # Jumps mixing ends\n",
    "    for k in range(Ncal):\n",
    "      MartCap[k,i] = MartCap[k,i] * my_cal(p0[i],k)\n",
    "  martingale = np.sum(MartCap,axis=0)\n",
    "  my_colors = ['r','g','b']\n",
    "  plt.plot(martingale,c=my_colors[kkk])\n",
    "  martingales0[kkk,0:martingale.size] = martingale  # for future use\n",
    "  martingales_size[kkk] = martingale.size    # for future use\n",
    "\n",
    "  # Processing test1\n",
    "  MartCap = np.zeros((Ncal,N_runs))  # the total capital of martingales in each state\n",
    "  MartCap[:,0] = 1/Ncal  # the initial distribution is uniform\n",
    "  for i in range(1,N_runs):\n",
    "    # Jumps mixing starts\n",
    "    Capital = np.sum(MartCap[:,i-1])\n",
    "    MartCap[:,i] = (1-Jrate)*MartCap[:,i-1] + (Jrate/Ncal)*Capital\n",
    "    # Jumps mixing ends\n",
    "    for k in range(Ncal):\n",
    "      MartCap[k,i] = MartCap[k,i] * my_cal(p1[i],k)\n",
    "  martingale = np.sum(MartCap,axis=0)\n",
    "  plt.plot(martingale,c=my_colors[kkk],label='fold '+str(kkk+1))\n",
    "  martingales1[kkk,0:martingale.size] = martingale  # for future use\n",
    "\n",
    "plt.yscale(\"log\")\n",
    "plt.axvline(x=1100)   # typical size of the calibration set\n",
    "plt.legend(loc='best')\n",
    "# plt.savefig(\"wine.pdf\", bbox_inches='tight')\n",
    "plt.show()\n",
    "\n",
    "# print(\"Final blue value:\", martingale2[N-1])\n",
    "\n",
    "# finding time elapsed in seconds\n",
    "end = time.time()\n",
    "print(\"Time elapsed:\", end - start)\n",
    "\n",
    "# Sound:\n",
    "import winsound\n",
    "frequency = 2500  # Set Frequency To 2500 Hertz\n",
    "duration = 1000  # Set Duration To 1000 ms == 1 second\n",
    "winsound.Beep(frequency, duration)"
   ]
  },
  {
   "cell_type": "markdown",
   "metadata": {},
   "source": [
    "### 1.3 Nicer pictures"
   ]
  },
  {
   "cell_type": "markdown",
   "metadata": {},
   "source": [
    "If needed, we can easily redraw the Ville picture (since we remembered the martingales)."
   ]
  },
  {
   "cell_type": "code",
   "execution_count": 3,
   "metadata": {},
   "outputs": [
    {
     "data": {
      "image/png": "[encoded data removed]",
      "text/plain": [
       "<Figure size 432x288 with 1 Axes>"
      ]
     },
     "metadata": {
      "needs_background": "light"
     },
     "output_type": "display_data"
    }
   ],
   "source": [
    "# This code requires the arrays martingales0, martingales 1, and martingales_size\n",
    "# (and other stuff from the previous cell, such as K)\n",
    "my_colors = ['r','g','b','salmon','greenyellow','lightskyblue']  # original light red: mistyrose\n",
    "for kkk in range(K):   # going over all folds\n",
    "  N = int(martingales_size[kkk])  # number of trials\n",
    "  # N = 1200   # for partial pictures\n",
    "  plt.plot(martingales0[kkk,0:N],c=my_colors[kkk+3])   # not informative for smaller N\n",
    "  plt.plot(martingales1[kkk,0:N],c=my_colors[kkk],label='fold '+str(kkk+1))\n",
    "  ## the change point under microscope:\n",
    "  # plt.plot(np.arange(1000,N),martingales0[kkk,1000:N],c=my_colors[kkk+3])\n",
    "  # plt.plot(np.arange(1000,N),martingales1[kkk,1000:N],c=my_colors[kkk],label='fold '+str(kkk+1))\n",
    "    \n",
    "predictors = [\"NN\",\"RF\",\"MLP\",\"SVR\",\"IND\"]\n",
    "c_measures = [\"diff\",\"absdiff\",\"pit\",\"crps\",\"\"]\n",
    "\n",
    "plt.yscale(\"log\")\n",
    "plt.axvline(x=1100, linewidth=0.5, c='k')  # typical size of the calibration set\n",
    "plt.legend(loc='best')\n",
    "plt.savefig(\"wine_\"+predictors[predictor]+c_measures[c_measure]+\"_Ville.pdf\", bbox_inches='tight')\n",
    "plt.show()"
   ]
  },
  {
   "cell_type": "markdown",
   "metadata": {},
   "source": [
    "Now let me do the Shiryaev-Roberts picture."
   ]
  },
  {
   "cell_type": "code",
   "execution_count": 20,
   "metadata": {},
   "outputs": [
    {
     "data": {
      "image/png": "[encoded data removed]",
      "text/plain": [
       "<Figure size 432x288 with 1 Axes>"
      ]
     },
     "metadata": {
      "needs_background": "light"
     },
     "output_type": "display_data"
    }
   ],
   "source": [
    "# This code requires the arrays martingales0, martingales 1, and martingales_size\n",
    "# (and other stuff from the previous cell, such as K)\n",
    "my_colors = ['r','g','b','mistyrose','greenyellow','lightskyblue']\n",
    "for kkk in range(K):   # going over all folds\n",
    "  N = int(martingales_size[kkk])  # number of trials\n",
    "  N = 1200   # for partial pictures\n",
    "  SR0 = np.zeros(N)  # Shiryaev-Roberts array, scenario 0\n",
    "  SR1 = np.zeros(N)  # Shiryaev-Roberts array, scenario 1\n",
    "  for n in range(1,N):  # going over the time\n",
    "    SR0[n] = (martingales0[kkk,n]/martingales0[kkk,n-1]) * (SR0[n-1]+1)\n",
    "    SR1[n] = (martingales1[kkk,n]/martingales1[kkk,n-1]) * (SR1[n-1]+1)\n",
    "  SR0[0] = SR1[0] = 1   # for a nicer picture\n",
    "  plt.plot(SR0,c=my_colors[kkk+3])   # not informative for smaller N\n",
    "  plt.plot(SR1,c=my_colors[kkk],label='fold '+str(kkk+1))\n",
    "\n",
    "plt.yscale(\"log\")\n",
    "plt.legend(loc='best')\n",
    "plt.savefig(\"wine_\"+predictors[predictor]+c_measures[c_measure]+\"_SR.pdf\", bbox_inches='tight')\n",
    "plt.show()"
   ]
  },
  {
   "cell_type": "markdown",
   "metadata": {},
   "source": [
    "Finally, the CUSUM picture."
   ]
  },
  {
   "cell_type": "code",
   "execution_count": 21,
   "metadata": {},
   "outputs": [
    {
     "data": {
      "image/png": "[encoded data removed]",
      "text/plain": [
       "<Figure size 432x288 with 1 Axes>"
      ]
     },
     "metadata": {
      "needs_background": "light"
     },
     "output_type": "display_data"
    }
   ],
   "source": [
    "# This code requires the arrays martingales0, martingales 1, and martingales_size\n",
    "# (and other stuff from the previous cell, such as K)\n",
    "my_colors = ['r','g','b','mistyrose','greenyellow','lightskyblue']\n",
    "for kkk in range(K):   # going over all folds\n",
    "  N = int(martingales_size[kkk])  # number of trials\n",
    "  N = 1200   # for partial pictures\n",
    "  CUSUM0 = np.ones(N)  # CUSUM array, scenario 0\n",
    "  CUSUM1 = np.ones(N)  # CUSUM array, scenario 1\n",
    "  min_so_far0 = 1  # min so far initialized, scenario 0\n",
    "  min_so_far1 = 1  # min so far initialized, scenario 1\n",
    "  for n in range(1,N):  # going over the time\n",
    "    if martingales0[kkk,n]<min_so_far0:\n",
    "      min_so_far0 = martingales0[kkk,n]\n",
    "    if martingales1[kkk,n]<min_so_far1:\n",
    "      min_so_far1 = martingales1[kkk,n]\n",
    "    CUSUM0[n] = martingales0[kkk,n] / min_so_far0\n",
    "    CUSUM1[n] = martingales1[kkk,n] / min_so_far1\n",
    "    # for a nicer picture:\n",
    "    if CUSUM0[n]<1:\n",
    "      CUSUM0[n] = 1\n",
    "    if CUSUM1[n]<1:\n",
    "      CUSUM1[n] = 1\n",
    "  plt.plot(CUSUM0,c=my_colors[kkk+3])   # not informative for smaller N\n",
    "  plt.plot(CUSUM1,c=my_colors[kkk],label='fold '+str(kkk+1))\n",
    "\n",
    "plt.yscale(\"log\")\n",
    "plt.legend(loc='best')\n",
    "plt.savefig(\"wine_\"+predictors[predictor]+c_measures[c_measure]+\"_CUSUM.pdf\", bbox_inches='tight')\n",
    "plt.show()"
   ]
  },
  {
   "cell_type": "markdown",
   "metadata": {},
   "source": [
    "## 2 Prediction accuracy"
   ]
  },
  {
   "cell_type": "markdown",
   "metadata": {},
   "source": [
    "Let us first create the data in a format good for scikit-learn."
   ]
  },
  {
   "cell_type": "code",
   "execution_count": 2,
   "metadata": {},
   "outputs": [
    {
     "name": "stdout",
     "output_type": "stream",
     "text": [
      "Reading 1599 = 1599 red wines\n",
      "Reading 4898 = 4898 white wines\n",
      "Accuracy in scenario 0: 0.4333958724202627\n",
      "Accuracy in scenario 1: 1.020637898686679\n"
     ]
    }
   ],
   "source": [
    "import numpy as np\n",
    "import matplotlib.pyplot as plt\n",
    "from sklearn.preprocessing import StandardScaler\n",
    "\n",
    "# The key parameters: the 3 below plus Ncal\n",
    "rg = np.random.default_rng(0)     # key parameter; setting the seed for reproducibility [default 0]\n",
    "Jrate = 0.01  # the jumping rate; in the book: 0.001; canonical: 0.01\n",
    "\n",
    "import time   # for timing\n",
    "start = time.time()\n",
    "\n",
    "# reading the data, first red wines\n",
    "test1 = np.loadtxt(\"C:/DnB/Work/R/Data/MachineLearning/wine_quality/winequality-red.csv\",\n",
    "  skiprows=1, delimiter=';')\n",
    "N_test = test1.shape[0]  # 1599, number of red wines\n",
    "print(\"Reading\",N_test,\"= 1599 red wines\")\n",
    "rg.shuffle(test1)  # shuffling the red wines\n",
    "\n",
    "# reading white wines\n",
    "white_wines = np.loadtxt(\"C:/DnB/Work/R/Data/MachineLearning/wine_quality/winequality-white.csv\",\n",
    "  skiprows=1, delimiter=';')\n",
    "N_white = white_wines.shape[0]  # 4898, number of white wines\n",
    "print(\"Reading\",N_white,\"= 4898 white wines\")\n",
    "rg.shuffle(white_wines)  # shuffling the white wines\n",
    "\n",
    "test0 = np.copy(white_wines[N_white-N_test:N_white,:])  # test set, scenario 0\n",
    "train = np.copy(white_wines[0:N_white-N_test])   # training set\n",
    "\n",
    "# Other views of the data:\n",
    "X_test0 = test0[:,0:11]  # matrix of objects\n",
    "y_test0 = test0[:,11]    # vector of labels (real numbers)\n",
    "X_test1 = test1[:,0:11]  # matrix of objects\n",
    "y_test1 = test1[:,11]    # vector of labels (real numbers)\n",
    "X_train = train[:,0:11]  # matrix of objects\n",
    "y_train = train[:,11]    # vector of labels (real numbers)\n",
    "\n",
    "N_train = N_white - N_test  # the size of the training set\n",
    "\n",
    "# Normalization\n",
    "scaler = StandardScaler()\n",
    "scaler.fit(X_train)\n",
    "X_train_scaled = scaler.transform(X_train)\n",
    "X_test0_scaled = scaler.transform(X_test0)\n",
    "X_test1_scaled = scaler.transform(X_test1)\n",
    "\n",
    "# Training 1-Nearest Neighbour:\n",
    "from sklearn.neighbors import KNeighborsClassifier\n",
    "knn = KNeighborsClassifier(n_neighbors=1)\n",
    "knn.fit(X_train_scaled,y_train)\n",
    "\n",
    "# Evaluating the quality:\n",
    "predictions0 = knn.predict(X_test0_scaled)\n",
    "print(\"Accuracy in scenario 0:\",np.mean(np.abs(y_test0-predictions0)))\n",
    "predictions1 = knn.predict(X_test1_scaled)\n",
    "print(\"Accuracy in scenario 1:\",np.mean(np.abs(y_test1-predictions1)))"
   ]
  },
  {
   "cell_type": "markdown",
   "metadata": {},
   "source": [
    "### 2.1 The algorithms from CS3920"
   ]
  },
  {
   "cell_type": "markdown",
   "metadata": {},
   "source": [
    "First the prediction accuracy of K-Nearest Neighbours."
   ]
  },
  {
   "cell_type": "code",
   "execution_count": 23,
   "metadata": {},
   "outputs": [
    {
     "name": "stdout",
     "output_type": "stream",
     "text": [
      "Accuracy in scenario 0: 0.4333958724202627\n",
      "Accuracy in scenario 1: 1.020637898686679\n"
     ]
    }
   ],
   "source": [
    "# Training 1-Nearest Neighbour:\n",
    "from sklearn.neighbors import KNeighborsClassifier\n",
    "knn = KNeighborsClassifier(n_neighbors=1)\n",
    "# knn = KNeighborsClassifier(n_neighbors=1, p=1)  # using the Manhattan metric (identical results)\n",
    "knn.fit(X_train_scaled,y_train)\n",
    "\n",
    "# Evaluating the quality:\n",
    "predictions0 = knn.predict(X_test0_scaled)\n",
    "print(\"Accuracy in scenario 0:\",np.mean(np.abs(y_test0-predictions0)))\n",
    "predictions1 = knn.predict(X_test1_scaled)\n",
    "print(\"Accuracy in scenario 1:\",np.mean(np.abs(y_test1-predictions1)))"
   ]
  },
  {
   "cell_type": "markdown",
   "metadata": {},
   "source": [
    "Now let us try Least Squares."
   ]
  },
  {
   "cell_type": "code",
   "execution_count": 58,
   "metadata": {},
   "outputs": [
    {
     "name": "stdout",
     "output_type": "stream",
     "text": [
      "Accuracy in scenario 0: 0.5682556111095313\n",
      "Accuracy in scenario 1: 0.8530985599133285\n"
     ]
    }
   ],
   "source": [
    "from sklearn.linear_model import LinearRegression\n",
    "ls = LinearRegression().fit(X_train_scaled,y_train)\n",
    "\n",
    "# Evaluating the quality:\n",
    "predictions0 = ls.predict(X_test0_scaled)\n",
    "print(\"Accuracy in scenario 0:\",np.mean(np.abs(y_test0-predictions0)))\n",
    "predictions1 = ls.predict(X_test1_scaled)\n",
    "print(\"Accuracy in scenario 1:\",np.mean(np.abs(y_test1-predictions1)))"
   ]
  },
  {
   "cell_type": "markdown",
   "metadata": {},
   "source": [
    "Next Ridge Regression."
   ]
  },
  {
   "cell_type": "code",
   "execution_count": 59,
   "metadata": {},
   "outputs": [
    {
     "name": "stdout",
     "output_type": "stream",
     "text": [
      "Accuracy in scenario 0: 0.5682413189928388\n",
      "Accuracy in scenario 1: 0.8503781756296318\n"
     ]
    }
   ],
   "source": [
    "from sklearn.linear_model import Ridge\n",
    "ridge = Ridge().fit(X_train_scaled,y_train)\n",
    "# ridge = Ridge(alpha=0.1).fit(X_train_scaled,y_train)  # the default (in the line above) is alpha=1\n",
    "\n",
    "# Evaluating the quality:\n",
    "predictions0 = ridge.predict(X_test0_scaled)\n",
    "print(\"Accuracy in scenario 0:\",np.mean(np.abs(y_test0-predictions0)))\n",
    "predictions1 = ridge.predict(X_test1_scaled)\n",
    "print(\"Accuracy in scenario 1:\",np.mean(np.abs(y_test1-predictions1)))"
   ]
  },
  {
   "cell_type": "markdown",
   "metadata": {},
   "source": [
    "Now the Lasso."
   ]
  },
  {
   "cell_type": "code",
   "execution_count": 60,
   "metadata": {},
   "outputs": [
    {
     "name": "stdout",
     "output_type": "stream",
     "text": [
      "Accuracy in scenario 0: 0.6575445664452679\n",
      "Accuracy in scenario 1: 0.6655284894071223\n"
     ]
    }
   ],
   "source": [
    "from sklearn.linear_model import Lasso\n",
    "lasso = Lasso().fit(X_train_scaled,y_train)\n",
    "\n",
    "# Evaluating the quality:\n",
    "predictions0 = lasso.predict(X_test0_scaled)\n",
    "print(\"Accuracy in scenario 0:\",np.mean(np.abs(y_test0-predictions0)))\n",
    "predictions1 = lasso.predict(X_test1_scaled)\n",
    "print(\"Accuracy in scenario 1:\",np.mean(np.abs(y_test1-predictions1)))"
   ]
  },
  {
   "cell_type": "markdown",
   "metadata": {},
   "source": [
    "Next Nearest Neighbour with the polynomial and RBF kernels.\n",
    "(This takes some time, more than a minute for the polynomial and more than 4 mins for RBF!)"
   ]
  },
  {
   "cell_type": "code",
   "execution_count": 68,
   "metadata": {},
   "outputs": [
    {
     "name": "stdout",
     "output_type": "stream",
     "text": [
      "Accuracy in scenario 0: 0.43964978111319575\n",
      "Accuracy in scenario 1: 0.734208880550344\n",
      "Time elapsed: 266.04176688194275\n"
     ]
    }
   ],
   "source": [
    "import time   # for timing\n",
    "start = time.time()\n",
    "\n",
    "def poly_kernel(x,y,d):\n",
    "  return (1+np.dot(x,y))**d\n",
    "d = 3 # trying the polynomial kernel of degree d\n",
    "def poly_dist(x,y): # squared distance\n",
    "  return poly_kernel(x,x,d) + poly_kernel(y,y,d) - 2*poly_kernel(x,y,d)\n",
    "\n",
    "def rbf_kernel(x,y,gamma):\n",
    "  return np.exp(-gamma*np.sum((x-y)**2))\n",
    "gamma = 10 # the parameter gamma of the rbf kernel\n",
    "def rbf_dist(x,y): # squared distance\n",
    "  return rbf_kernel(x,x,gamma) + rbf_kernel(y,y,gamma) - 2*rbf_kernel(x,y,gamma)\n",
    "\n",
    "knn = KNeighborsClassifier(n_neighbors=1, metric=rbf_dist)\n",
    "knn.fit(X_train_scaled,y_train)\n",
    "\n",
    "# Evaluating the quality:\n",
    "predictions0 = knn.predict(X_test0_scaled)\n",
    "print(\"Accuracy in scenario 0:\",np.mean(np.abs(y_test0-predictions0)))\n",
    "predictions1 = knn.predict(X_test1_scaled)\n",
    "print(\"Accuracy in scenario 1:\",np.mean(np.abs(y_test1-predictions1)))\n",
    "\n",
    "# finding time elapsed in seconds\n",
    "end = time.time()\n",
    "print(\"Time elapsed:\", end - start)"
   ]
  },
  {
   "cell_type": "markdown",
   "metadata": {},
   "source": [
    "Next neural nets (without using the boundedness of the label)."
   ]
  },
  {
   "cell_type": "code",
   "execution_count": 15,
   "metadata": {},
   "outputs": [
    {
     "name": "stderr",
     "output_type": "stream",
     "text": [
      "C:\\Users\\uhac013\\Anaconda3\\lib\\site-packages\\sklearn\\neural_network\\_multilayer_perceptron.py:571: ConvergenceWarning: Stochastic Optimizer: Maximum iterations (200) reached and the optimization hasn't converged yet.\n",
      "  % self.max_iter, ConvergenceWarning)\n"
     ]
    },
    {
     "name": "stdout",
     "output_type": "stream",
     "text": [
      "Accuracy in scenario 0: 0.4627892432770482\n",
      "Accuracy in scenario 1: 1.3114446529080674\n",
      "Time elapsed: 8.413755655288696\n"
     ]
    },
    {
     "name": "stderr",
     "output_type": "stream",
     "text": [
      "C:\\Users\\uhac013\\Anaconda3\\lib\\site-packages\\sklearn\\neural_network\\_multilayer_perceptron.py:571: ConvergenceWarning: Stochastic Optimizer: Maximum iterations (200) reached and the optimization hasn't converged yet.\n",
      "  % self.max_iter, ConvergenceWarning)\n"
     ]
    }
   ],
   "source": [
    "import time   # for timing\n",
    "start = time.time()\n",
    "\n",
    "from sklearn.neural_network import MLPClassifier\n",
    "\n",
    "mlp = MLPClassifier(random_state=0).fit(X_train_scaled, y_train) # 0.46 (9 secs)\n",
    "# mlp = MLPClassifier(max_iter=1000,random_state=0).fit(X_train_scaled, y_train) # 0.48 (33 secs)\n",
    "# default max_iter is 200; there was a warning that it's not enough\n",
    "# mlp = MLPClassifier(hidden_layer_sizes=[10]).fit(X_train_scaled, y_train) # 0.48\n",
    "# mlp = MLPClassifier(solver='lbfgs',hidden_layer_sizes=[10]).fit(X_train_scaled, y_train) # 0.47\n",
    "# mlp = MLPClassifier(solver='lbfgs',hidden_layer_sizes=[10],activation='tanh').fit(X_train_scaled, y_train) # 0.51\n",
    "# the default for the hidden layer sizes is 100; there are warnings about non-convergence\n",
    "# the options are as in CS3920, Lab 8\n",
    "mlp.fit(X_train_scaled,y_train)\n",
    "\n",
    "# Evaluating the quality:\n",
    "predictions0 = mlp.predict(X_test0_scaled)\n",
    "print(\"Accuracy in scenario 0:\",np.mean(np.abs(y_test0-predictions0)))\n",
    "predictions1 = mlp.predict(X_test1_scaled)\n",
    "print(\"Accuracy in scenario 1:\",np.mean(np.abs(y_test1-predictions1)))\n",
    "\n",
    "# finding time elapsed in seconds\n",
    "end = time.time()\n",
    "print(\"Time elapsed:\", end - start)"
   ]
  },
  {
   "cell_type": "markdown",
   "metadata": {},
   "source": [
    "Next linear Support Vector Regression."
   ]
  },
  {
   "cell_type": "code",
   "execution_count": 17,
   "metadata": {},
   "outputs": [
    {
     "name": "stdout",
     "output_type": "stream",
     "text": [
      "Accuracy in scenario 0: 0.5638472168918702\n",
      "Accuracy in scenario 1: 0.9061655243387144\n",
      "Time elapsed: 0.06906890869140625\n"
     ]
    }
   ],
   "source": [
    "import time   # for timing\n",
    "start = time.time()\n",
    "\n",
    "from sklearn.svm import LinearSVR\n",
    "# svr = LinearSVR(random_state=0).fit(X_train_scaled, y_train)  # 0.56\n",
    "svr = LinearSVR(max_iter=10000).fit(X_train_scaled, y_train)  # 0.56\n",
    "# the default is max_iter=1000; there was a warning that it's not enough\n",
    "\n",
    "# Evaluating the quality:\n",
    "predictions0 = svr.predict(X_test0_scaled)\n",
    "print(\"Accuracy in scenario 0:\",np.mean(np.abs(y_test0-predictions0)))\n",
    "predictions1 = svr.predict(X_test1_scaled)\n",
    "print(\"Accuracy in scenario 1:\",np.mean(np.abs(y_test1-predictions1)))\n",
    "\n",
    "# finding time elapsed in seconds\n",
    "end = time.time()\n",
    "print(\"Time elapsed:\", end - start)"
   ]
  },
  {
   "cell_type": "markdown",
   "metadata": {},
   "source": [
    "Next kernel Support Vector Regression."
   ]
  },
  {
   "cell_type": "code",
   "execution_count": 19,
   "metadata": {},
   "outputs": [
    {
     "name": "stdout",
     "output_type": "stream",
     "text": [
      "Accuracy in scenario 0: 0.49970530374085453\n",
      "Accuracy in scenario 1: 0.8056433845301944\n",
      "Time elapsed: 0.6361479759216309\n"
     ]
    }
   ],
   "source": [
    "import time   # for timing\n",
    "start = time.time()\n",
    "\n",
    "from sklearn.svm import SVR\n",
    "svr = SVR().fit(X_train_scaled, y_train)  # 0.50\n",
    "\n",
    "# Evaluating the quality:\n",
    "predictions0 = svr.predict(X_test0_scaled)\n",
    "print(\"Accuracy in scenario 0:\",np.mean(np.abs(y_test0-predictions0)))\n",
    "predictions1 = svr.predict(X_test1_scaled)\n",
    "print(\"Accuracy in scenario 1:\",np.mean(np.abs(y_test1-predictions1)))\n",
    "\n",
    "# finding time elapsed in seconds\n",
    "end = time.time()\n",
    "print(\"Time elapsed:\", end - start)"
   ]
  },
  {
   "cell_type": "markdown",
   "metadata": {},
   "source": [
    "Now let's try decision trees."
   ]
  },
  {
   "cell_type": "code",
   "execution_count": 20,
   "metadata": {},
   "outputs": [
    {
     "name": "stdout",
     "output_type": "stream",
     "text": [
      "Accuracy in scenario 0: 0.5240775484677924\n",
      "Accuracy in scenario 1: 1.2883051907442151\n"
     ]
    }
   ],
   "source": [
    "from sklearn.tree import DecisionTreeRegressor\n",
    "tree = DecisionTreeRegressor()\n",
    "tree.fit(X_train_scaled, y_train)\n",
    "\n",
    "# Evaluating the quality:\n",
    "predictions0 = tree.predict(X_test0_scaled)\n",
    "print(\"Accuracy in scenario 0:\",np.mean(np.abs(y_test0-predictions0)))\n",
    "predictions1 = tree.predict(X_test1_scaled)\n",
    "print(\"Accuracy in scenario 1:\",np.mean(np.abs(y_test1-predictions1)))"
   ]
  },
  {
   "cell_type": "markdown",
   "metadata": {},
   "source": [
    "Now we enhance decision trees to the random forest."
   ]
  },
  {
   "cell_type": "code",
   "execution_count": 20,
   "metadata": {},
   "outputs": [
    {
     "name": "stdout",
     "output_type": "stream",
     "text": [
      "Accuracy in scenario 0: 0.43865540963101934\n",
      "Accuracy in scenario 1: 0.9235021888680425\n"
     ]
    }
   ],
   "source": [
    "from sklearn.ensemble import RandomForestRegressor\n",
    "# forest = RandomForestRegressor(n_estimators=10,random_state=0)  # 10,000 is too long\n",
    "forest = RandomForestRegressor(random_state=0)  # 0.44\n",
    "# default: n_estimators = 100\n",
    "# 10,000 estimators: 0.436\n",
    "# 1000 estimators: 0.437\n",
    "# 100 estimators: 0.439 (default)\n",
    "# 10 estimator: 0.470 (this was the defaut before scikit-learn 0.22)\n",
    "forest.fit(X_train_scaled, y_train)\n",
    "\n",
    "# Evaluating the quality:\n",
    "predictions0 = forest.predict(X_test0_scaled)\n",
    "print(\"Accuracy in scenario 0:\",np.mean(np.abs(y_test0-predictions0)))\n",
    "predictions1 = forest.predict(X_test1_scaled)\n",
    "print(\"Accuracy in scenario 1:\",np.mean(np.abs(y_test1-predictions1)))"
   ]
  },
  {
   "cell_type": "markdown",
   "metadata": {},
   "source": [
    "Finally, Gradient Boosting (the other algorithms are for classification)."
   ]
  },
  {
   "cell_type": "code",
   "execution_count": 33,
   "metadata": {},
   "outputs": [
    {
     "name": "stdout",
     "output_type": "stream",
     "text": [
      "Accuracy in scenario 0: 0.5847703057888618\n",
      "Accuracy in scenario 1: 0.6116563187350572\n"
     ]
    }
   ],
   "source": [
    "from sklearn.ensemble import GradientBoostingRegressor\n",
    "# gb = GradientBoostingRegressor(random_state=0)  # 0.521\n",
    "# gb = GradientBoostingRegressor(random_state=0,max_depth=1)  # 0.568\n",
    "gb = GradientBoostingRegressor(random_state=0,learning_rate=0.01)  # 0.585\n",
    "gb.fit(X_train_scaled, y_train)\n",
    "\n",
    "# Evaluating the quality:\n",
    "predictions0 = gb.predict(X_test0_scaled)\n",
    "print(\"Accuracy in scenario 0:\",np.mean(np.abs(y_test0-predictions0)))\n",
    "predictions1 = gb.predict(X_test1_scaled)\n",
    "print(\"Accuracy in scenario 1:\",np.mean(np.abs(y_test1-predictions1)))"
   ]
  },
  {
   "cell_type": "markdown",
   "metadata": {},
   "source": [
    "### 2.2 Other algorithms from scikit-learn"
   ]
  },
  {
   "cell_type": "markdown",
   "metadata": {},
   "source": [
    "On 31 January 2021 I went over all the regression algorithms in scikit-learn.\n",
    "None of them was comparable with Nearest Neighbour or Random Forest (the best two in CS3920)."
   ]
  },
  {
   "cell_type": "markdown",
   "metadata": {},
   "source": [
    "Kernel Ridge Regression:"
   ]
  },
  {
   "cell_type": "code",
   "execution_count": 38,
   "metadata": {},
   "outputs": [
    {
     "name": "stdout",
     "output_type": "stream",
     "text": [
      "Accuracy in scenario 0: 0.5731677609398776\n",
      "Accuracy in scenario 1: 3.2799824082669207\n"
     ]
    }
   ],
   "source": [
    "from sklearn.kernel_ridge import KernelRidge\n",
    "# krr = KernelRidge()  # hopeless\n",
    "krr = KernelRidge(kernel='rbf')\n",
    "# krr = KernelRidge(alpha=1.0)  # alpha=1.0 is the default\n",
    "krr.fit(X_train_scaled, y_train)\n",
    "\n",
    "# Evaluating the quality:\n",
    "predictions0 = krr.predict(X_test0_scaled)\n",
    "print(\"Accuracy in scenario 0:\",np.mean(np.abs(y_test0-predictions0)))\n",
    "predictions1 = krr.predict(X_test1_scaled)\n",
    "print(\"Accuracy in scenario 1:\",np.mean(np.abs(y_test1-predictions1)))"
   ]
  },
  {
   "cell_type": "markdown",
   "metadata": {},
   "source": [
    "Stochastic Gradient Desecent:"
   ]
  },
  {
   "cell_type": "code",
   "execution_count": 44,
   "metadata": {},
   "outputs": [
    {
     "name": "stdout",
     "output_type": "stream",
     "text": [
      "Accuracy in scenario 0: 0.5711104655844796\n",
      "Accuracy in scenario 1: 0.7317972624077808\n"
     ]
    }
   ],
   "source": [
    "from sklearn.linear_model import SGDRegressor\n",
    "sgd = SGDRegressor(random_state=0)  # 0.571\n",
    "# sgd = SGDRegressor(max_iter=1000, tol=1e-3)  # example given in the scikit-learn documentation # 0.569\n",
    "sgd.fit(X_train_scaled, y_train)\n",
    "\n",
    "# Evaluating the quality:\n",
    "predictions0 = sgd.predict(X_test0_scaled)\n",
    "print(\"Accuracy in scenario 0:\",np.mean(np.abs(y_test0-predictions0)))\n",
    "predictions1 = sgd.predict(X_test1_scaled)\n",
    "print(\"Accuracy in scenario 1:\",np.mean(np.abs(y_test1-predictions1)))"
   ]
  },
  {
   "cell_type": "markdown",
   "metadata": {},
   "source": [
    "Gaussian Process Regression:"
   ]
  },
  {
   "cell_type": "code",
   "execution_count": 46,
   "metadata": {},
   "outputs": [
    {
     "name": "stdout",
     "output_type": "stream",
     "text": [
      "Accuracy in scenario 0: 0.8636093796150162\n",
      "Accuracy in scenario 1: 5.336619526745221\n"
     ]
    }
   ],
   "source": [
    "from sklearn.gaussian_process import GaussianProcessRegressor\n",
    "from sklearn.gaussian_process.kernels import DotProduct, WhiteKernel\n",
    "kernel = DotProduct() + WhiteKernel()   # example given in the scikit-learn documentation # 0.568\n",
    "# gpr = GaussianProcessRegressor(kernel=kernel,random_state=0).fit(X_train_scaled,y_train)\n",
    "gpr = GaussianProcessRegressor(random_state=0).fit(X_train_scaled,y_train)   # 0.864\n",
    "\n",
    "# Evaluating the quality:\n",
    "predictions0 = gpr.predict(X_test0_scaled)\n",
    "print(\"Accuracy in scenario 0:\",np.mean(np.abs(y_test0-predictions0)))\n",
    "predictions1 = gpr.predict(X_test1_scaled)\n",
    "print(\"Accuracy in scenario 1:\",np.mean(np.abs(y_test1-predictions1)))"
   ]
  },
  {
   "cell_type": "markdown",
   "metadata": {},
   "source": [
    "## 3 Sandbox"
   ]
  },
  {
   "cell_type": "code",
   "execution_count": null,
   "metadata": {},
   "outputs": [],
   "source": []
  }
 ],
 "metadata": {
  "kernelspec": {
   "display_name": "Python 3 (ipykernel)",
   "language": "python",
   "name": "python3"
  },
  "language_info": {
   "codemirror_mode": {
    "name": "ipython",
    "version": 3
   },
   "file_extension": ".py",
   "mimetype": "text/x-python",
   "name": "python",
   "nbconvert_exporter": "python",
   "pygments_lexer": "ipython3",
   "version": "3.11.7"
  }
 },
 "nbformat": 4,
 "nbformat_minor": 4
}
